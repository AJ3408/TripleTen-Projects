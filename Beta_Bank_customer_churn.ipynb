{
 "cells": [
  {
   "cell_type": "markdown",
   "metadata": {},
   "source": [
    "# Supervised Learning Project"
   ]
  },
  {
   "cell_type": "markdown",
   "metadata": {},
   "source": [
    "In this project, I aim to address the class imbalance issue and improve the performance of my classification model on an imbalanced dataset. By applying several advanced techniques and tuning our model rigorously, it will achieve significant improvements.</br>\n",
    "\n",
    "Beta Bank customers are leaving and the bankers figured out it’s cheaper to save the existing customers rather than to attract new ones.\n",
    "\n",
    "\n",
    "We need to predict whether a customer will leave the bank soon."
   ]
  },
  {
   "cell_type": "markdown",
   "metadata": {},
   "source": [
    "## Initialize Data"
   ]
  },
  {
   "cell_type": "code",
   "execution_count": null,
   "metadata": {
    "trusted": true
   },
   "outputs": [],
   "source": [
    "import pandas as pd\n",
    "from sklearn.tree import DecisionTreeClassifier\n",
    "from sklearn.ensemble import RandomForestClassifier\n",
    "from sklearn.linear_model import LogisticRegression\n",
    "from sklearn.model_selection import train_test_split\n",
    "from sklearn.metrics import mean_squared_error, r2_score\n",
    "from sklearn.ensemble import RandomForestRegressor\n",
    "from sklearn.tree import DecisionTreeRegressor\n",
    "from sklearn.linear_model import LinearRegression\n",
    "from sklearn.metrics import accuracy_score\n",
    "from sklearn.model_selection import cross_val_score\n",
    "from sklearn.metrics import f1_score, roc_auc_score\n",
    "from sklearn.model_selection import GridSearchCV\n",
    "import numpy as np\n",
    "from sklearn.preprocessing import OrdinalEncoder\n",
    "from sklearn.metrics import classification_report\n",
    "import math\n",
    "from sklearn.utils import shuffle\n",
    "from sklearn.ensemble import GradientBoostingClassifier\n",
    "from sklearn.model_selection import RandomizedSearchCV\n",
    "from sklearn import metrics\n",
    "import matplotlib.pyplot as plt\n",
    "import seaborn as sns\n",
    "from sklearn import tree\n",
    "from sklearn.datasets import load_iris\n",
    "from sklearn.preprocessing import StandardScaler"
   ]
  },
  {
   "cell_type": "markdown",
   "metadata": {},
   "source": [
    "## Import Dataset"
   ]
  },
  {
   "cell_type": "code",
   "execution_count": null,
   "metadata": {
    "trusted": true
   },
   "outputs": [],
   "source": [
    "df = pd.read_csv('/datasets/Churn.csv')"
   ]
  },
  {
   "cell_type": "markdown",
   "metadata": {},
   "source": [
    "## Prepare Data"
   ]
  },
  {
   "cell_type": "code",
   "execution_count": null,
   "metadata": {
    "trusted": true
   },
   "outputs": [
    {
     "data": {
      "text/html": [
       "<div>\n",
       "<style scoped>\n",
       "    .dataframe tbody tr th:only-of-type {\n",
       "        vertical-align: middle;\n",
       "    }\n",
       "\n",
       "    .dataframe tbody tr th {\n",
       "        vertical-align: top;\n",
       "    }\n",
       "\n",
       "    .dataframe thead th {\n",
       "        text-align: right;\n",
       "    }\n",
       "</style>\n",
       "<table border=\"1\" class=\"dataframe\">\n",
       "  <thead>\n",
       "    <tr style=\"text-align: right;\">\n",
       "      <th></th>\n",
       "      <th>RowNumber</th>\n",
       "      <th>CustomerId</th>\n",
       "      <th>Surname</th>\n",
       "      <th>CreditScore</th>\n",
       "      <th>Geography</th>\n",
       "      <th>Gender</th>\n",
       "      <th>Age</th>\n",
       "      <th>Tenure</th>\n",
       "      <th>Balance</th>\n",
       "      <th>NumOfProducts</th>\n",
       "      <th>HasCrCard</th>\n",
       "      <th>IsActiveMember</th>\n",
       "      <th>EstimatedSalary</th>\n",
       "      <th>Exited</th>\n",
       "    </tr>\n",
       "  </thead>\n",
       "  <tbody>\n",
       "    <tr>\n",
       "      <th>0</th>\n",
       "      <td>1</td>\n",
       "      <td>15634602</td>\n",
       "      <td>Hargrave</td>\n",
       "      <td>619</td>\n",
       "      <td>France</td>\n",
       "      <td>Female</td>\n",
       "      <td>42</td>\n",
       "      <td>2.0</td>\n",
       "      <td>0.00</td>\n",
       "      <td>1</td>\n",
       "      <td>1</td>\n",
       "      <td>1</td>\n",
       "      <td>101348.88</td>\n",
       "      <td>1</td>\n",
       "    </tr>\n",
       "    <tr>\n",
       "      <th>1</th>\n",
       "      <td>2</td>\n",
       "      <td>15647311</td>\n",
       "      <td>Hill</td>\n",
       "      <td>608</td>\n",
       "      <td>Spain</td>\n",
       "      <td>Female</td>\n",
       "      <td>41</td>\n",
       "      <td>1.0</td>\n",
       "      <td>83807.86</td>\n",
       "      <td>1</td>\n",
       "      <td>0</td>\n",
       "      <td>1</td>\n",
       "      <td>112542.58</td>\n",
       "      <td>0</td>\n",
       "    </tr>\n",
       "    <tr>\n",
       "      <th>2</th>\n",
       "      <td>3</td>\n",
       "      <td>15619304</td>\n",
       "      <td>Onio</td>\n",
       "      <td>502</td>\n",
       "      <td>France</td>\n",
       "      <td>Female</td>\n",
       "      <td>42</td>\n",
       "      <td>8.0</td>\n",
       "      <td>159660.80</td>\n",
       "      <td>3</td>\n",
       "      <td>1</td>\n",
       "      <td>0</td>\n",
       "      <td>113931.57</td>\n",
       "      <td>1</td>\n",
       "    </tr>\n",
       "    <tr>\n",
       "      <th>3</th>\n",
       "      <td>4</td>\n",
       "      <td>15701354</td>\n",
       "      <td>Boni</td>\n",
       "      <td>699</td>\n",
       "      <td>France</td>\n",
       "      <td>Female</td>\n",
       "      <td>39</td>\n",
       "      <td>1.0</td>\n",
       "      <td>0.00</td>\n",
       "      <td>2</td>\n",
       "      <td>0</td>\n",
       "      <td>0</td>\n",
       "      <td>93826.63</td>\n",
       "      <td>0</td>\n",
       "    </tr>\n",
       "    <tr>\n",
       "      <th>4</th>\n",
       "      <td>5</td>\n",
       "      <td>15737888</td>\n",
       "      <td>Mitchell</td>\n",
       "      <td>850</td>\n",
       "      <td>Spain</td>\n",
       "      <td>Female</td>\n",
       "      <td>43</td>\n",
       "      <td>2.0</td>\n",
       "      <td>125510.82</td>\n",
       "      <td>1</td>\n",
       "      <td>1</td>\n",
       "      <td>1</td>\n",
       "      <td>79084.10</td>\n",
       "      <td>0</td>\n",
       "    </tr>\n",
       "    <tr>\n",
       "      <th>...</th>\n",
       "      <td>...</td>\n",
       "      <td>...</td>\n",
       "      <td>...</td>\n",
       "      <td>...</td>\n",
       "      <td>...</td>\n",
       "      <td>...</td>\n",
       "      <td>...</td>\n",
       "      <td>...</td>\n",
       "      <td>...</td>\n",
       "      <td>...</td>\n",
       "      <td>...</td>\n",
       "      <td>...</td>\n",
       "      <td>...</td>\n",
       "      <td>...</td>\n",
       "    </tr>\n",
       "    <tr>\n",
       "      <th>9995</th>\n",
       "      <td>9996</td>\n",
       "      <td>15606229</td>\n",
       "      <td>Obijiaku</td>\n",
       "      <td>771</td>\n",
       "      <td>France</td>\n",
       "      <td>Male</td>\n",
       "      <td>39</td>\n",
       "      <td>5.0</td>\n",
       "      <td>0.00</td>\n",
       "      <td>2</td>\n",
       "      <td>1</td>\n",
       "      <td>0</td>\n",
       "      <td>96270.64</td>\n",
       "      <td>0</td>\n",
       "    </tr>\n",
       "    <tr>\n",
       "      <th>9996</th>\n",
       "      <td>9997</td>\n",
       "      <td>15569892</td>\n",
       "      <td>Johnstone</td>\n",
       "      <td>516</td>\n",
       "      <td>France</td>\n",
       "      <td>Male</td>\n",
       "      <td>35</td>\n",
       "      <td>10.0</td>\n",
       "      <td>57369.61</td>\n",
       "      <td>1</td>\n",
       "      <td>1</td>\n",
       "      <td>1</td>\n",
       "      <td>101699.77</td>\n",
       "      <td>0</td>\n",
       "    </tr>\n",
       "    <tr>\n",
       "      <th>9997</th>\n",
       "      <td>9998</td>\n",
       "      <td>15584532</td>\n",
       "      <td>Liu</td>\n",
       "      <td>709</td>\n",
       "      <td>France</td>\n",
       "      <td>Female</td>\n",
       "      <td>36</td>\n",
       "      <td>7.0</td>\n",
       "      <td>0.00</td>\n",
       "      <td>1</td>\n",
       "      <td>0</td>\n",
       "      <td>1</td>\n",
       "      <td>42085.58</td>\n",
       "      <td>1</td>\n",
       "    </tr>\n",
       "    <tr>\n",
       "      <th>9998</th>\n",
       "      <td>9999</td>\n",
       "      <td>15682355</td>\n",
       "      <td>Sabbatini</td>\n",
       "      <td>772</td>\n",
       "      <td>Germany</td>\n",
       "      <td>Male</td>\n",
       "      <td>42</td>\n",
       "      <td>3.0</td>\n",
       "      <td>75075.31</td>\n",
       "      <td>2</td>\n",
       "      <td>1</td>\n",
       "      <td>0</td>\n",
       "      <td>92888.52</td>\n",
       "      <td>1</td>\n",
       "    </tr>\n",
       "    <tr>\n",
       "      <th>9999</th>\n",
       "      <td>10000</td>\n",
       "      <td>15628319</td>\n",
       "      <td>Walker</td>\n",
       "      <td>792</td>\n",
       "      <td>France</td>\n",
       "      <td>Female</td>\n",
       "      <td>28</td>\n",
       "      <td>NaN</td>\n",
       "      <td>130142.79</td>\n",
       "      <td>1</td>\n",
       "      <td>1</td>\n",
       "      <td>0</td>\n",
       "      <td>38190.78</td>\n",
       "      <td>0</td>\n",
       "    </tr>\n",
       "  </tbody>\n",
       "</table>\n",
       "<p>10000 rows × 14 columns</p>\n",
       "</div>"
      ],
      "text/plain": [
       "      RowNumber  CustomerId    Surname  CreditScore Geography  Gender  Age  \\\n",
       "0             1    15634602   Hargrave          619    France  Female   42   \n",
       "1             2    15647311       Hill          608     Spain  Female   41   \n",
       "2             3    15619304       Onio          502    France  Female   42   \n",
       "3             4    15701354       Boni          699    France  Female   39   \n",
       "4             5    15737888   Mitchell          850     Spain  Female   43   \n",
       "...         ...         ...        ...          ...       ...     ...  ...   \n",
       "9995       9996    15606229   Obijiaku          771    France    Male   39   \n",
       "9996       9997    15569892  Johnstone          516    France    Male   35   \n",
       "9997       9998    15584532        Liu          709    France  Female   36   \n",
       "9998       9999    15682355  Sabbatini          772   Germany    Male   42   \n",
       "9999      10000    15628319     Walker          792    France  Female   28   \n",
       "\n",
       "      Tenure    Balance  NumOfProducts  HasCrCard  IsActiveMember  \\\n",
       "0        2.0       0.00              1          1               1   \n",
       "1        1.0   83807.86              1          0               1   \n",
       "2        8.0  159660.80              3          1               0   \n",
       "3        1.0       0.00              2          0               0   \n",
       "4        2.0  125510.82              1          1               1   \n",
       "...      ...        ...            ...        ...             ...   \n",
       "9995     5.0       0.00              2          1               0   \n",
       "9996    10.0   57369.61              1          1               1   \n",
       "9997     7.0       0.00              1          0               1   \n",
       "9998     3.0   75075.31              2          1               0   \n",
       "9999     NaN  130142.79              1          1               0   \n",
       "\n",
       "      EstimatedSalary  Exited  \n",
       "0           101348.88       1  \n",
       "1           112542.58       0  \n",
       "2           113931.57       1  \n",
       "3            93826.63       0  \n",
       "4            79084.10       0  \n",
       "...               ...     ...  \n",
       "9995         96270.64       0  \n",
       "9996        101699.77       0  \n",
       "9997         42085.58       1  \n",
       "9998         92888.52       1  \n",
       "9999         38190.78       0  \n",
       "\n",
       "[10000 rows x 14 columns]"
      ]
     },
     "execution_count": 3,
     "metadata": {},
     "output_type": "execute_result"
    }
   ],
   "source": [
    "df"
   ]
  },
  {
   "cell_type": "code",
   "execution_count": null,
   "metadata": {
    "trusted": true
   },
   "outputs": [
    {
     "data": {
      "text/plain": [
       "0"
      ]
     },
     "execution_count": 4,
     "metadata": {},
     "output_type": "execute_result"
    }
   ],
   "source": [
    "df.duplicated().sum()"
   ]
  },
  {
   "cell_type": "code",
   "execution_count": null,
   "metadata": {
    "trusted": true
   },
   "outputs": [
    {
     "data": {
      "text/plain": [
       "(10000, 14)"
      ]
     },
     "execution_count": 5,
     "metadata": {},
     "output_type": "execute_result"
    }
   ],
   "source": [
    "df.shape"
   ]
  },
  {
   "cell_type": "code",
   "execution_count": null,
   "metadata": {
    "trusted": true
   },
   "outputs": [
    {
     "data": {
      "text/plain": [
       "RowNumber            0\n",
       "CustomerId           0\n",
       "Surname              0\n",
       "CreditScore          0\n",
       "Geography            0\n",
       "Gender               0\n",
       "Age                  0\n",
       "Tenure             909\n",
       "Balance              0\n",
       "NumOfProducts        0\n",
       "HasCrCard            0\n",
       "IsActiveMember       0\n",
       "EstimatedSalary      0\n",
       "Exited               0\n",
       "dtype: int64"
      ]
     },
     "execution_count": 6,
     "metadata": {},
     "output_type": "execute_result"
    }
   ],
   "source": [
    "df.isnull().sum()"
   ]
  },
  {
   "cell_type": "code",
   "execution_count": null,
   "metadata": {
    "trusted": true
   },
   "outputs": [
    {
     "data": {
      "text/plain": [
       "0"
      ]
     },
     "execution_count": 7,
     "metadata": {},
     "output_type": "execute_result"
    }
   ],
   "source": [
    "df['Tenure'] = df['Tenure'].fillna(df['Tenure'].mean())\n",
    "df['Tenure'].isnull().sum()"
   ]
  },
  {
   "cell_type": "code",
   "execution_count": null,
   "metadata": {
    "trusted": true
   },
   "outputs": [
    {
     "name": "stdout",
     "output_type": "stream",
     "text": [
      "<class 'pandas.core.frame.DataFrame'>\n",
      "RangeIndex: 10000 entries, 0 to 9999\n",
      "Data columns (total 14 columns):\n",
      " #   Column           Non-Null Count  Dtype  \n",
      "---  ------           --------------  -----  \n",
      " 0   RowNumber        10000 non-null  int64  \n",
      " 1   CustomerId       10000 non-null  int64  \n",
      " 2   Surname          10000 non-null  object \n",
      " 3   CreditScore      10000 non-null  int64  \n",
      " 4   Geography        10000 non-null  object \n",
      " 5   Gender           10000 non-null  object \n",
      " 6   Age              10000 non-null  int64  \n",
      " 7   Tenure           10000 non-null  float64\n",
      " 8   Balance          10000 non-null  float64\n",
      " 9   NumOfProducts    10000 non-null  int64  \n",
      " 10  HasCrCard        10000 non-null  int64  \n",
      " 11  IsActiveMember   10000 non-null  int64  \n",
      " 12  EstimatedSalary  10000 non-null  float64\n",
      " 13  Exited           10000 non-null  int64  \n",
      "dtypes: float64(3), int64(8), object(3)\n",
      "memory usage: 1.1+ MB\n"
     ]
    }
   ],
   "source": [
    "df.info()"
   ]
  },
  {
   "cell_type": "code",
   "execution_count": null,
   "metadata": {
    "trusted": true
   },
   "outputs": [
    {
     "data": {
      "image/png": "[encoded data removed]",
      "text/plain": [
       "<Figure size 1000x600 with 1 Axes>"
      ]
     },
     "metadata": {},
     "output_type": "display_data"
    },
    {
     "data": {
      "image/png": "[encoded data removed]",
      "text/plain": [
       "<Figure size 1000x600 with 1 Axes>"
      ]
     },
     "metadata": {},
     "output_type": "display_data"
    },
    {
     "data": {
      "image/png": "[encoded data removed]",
      "text/plain": [
       "<Figure size 1000x600 with 1 Axes>"
      ]
     },
     "metadata": {},
     "output_type": "display_data"
    }
   ],
   "source": [
    "plt.style.use('seaborn-darkgrid')\n",
    "\n",
    "numeric_features = ['Age', 'Balance', 'EstimatedSalary']  \n",
    "\n",
    "for feature in numeric_features:\n",
    "    plt.figure(figsize=(10, 6))\n",
    "    sns.histplot(df[feature], kde=True)\n",
    "    plt.title(f'Distribution of {feature}')\n",
    "    plt.xlabel(feature)\n",
    "    plt.ylabel('Frequency')\n",
    "    plt.show()"
   ]
  },
  {
   "cell_type": "markdown",
   "metadata": {},
   "source": [
    "The histogram reveals a fairly normal distribution of ages within our dataset, indicating that there is a spread across different age groups without significant skewness.<br/>\n",
    "The distribution of account balances shows a right-skewed pattern, with a majority of individuals having lower balances and a few individuals with significantly higher balances. This highlights potential outliers that could be influential in the predictive modeling.<br/><br/>\n",
    "The histogram for salaries also displays a symmetrical distribution."
   ]
  },
  {
   "cell_type": "code",
   "execution_count": null,
   "metadata": {
    "trusted": true
   },
   "outputs": [
    {
     "data": {
      "image/png": "[encoded data removed]",
      "text/plain": [
       "<Figure size 1000x600 with 1 Axes>"
      ]
     },
     "metadata": {},
     "output_type": "display_data"
    },
    {
     "data": {
      "image/png": "[encoded data removed]",
      "text/plain": [
       "<Figure size 1000x600 with 1 Axes>"
      ]
     },
     "metadata": {},
     "output_type": "display_data"
    },
    {
     "data": {
      "image/png": "[encoded data removed]",
      "text/plain": [
       "<Figure size 1000x600 with 1 Axes>"
      ]
     },
     "metadata": {},
     "output_type": "display_data"
    }
   ],
   "source": [
    "for feature in numeric_features:\n",
    "    plt.figure(figsize=(10, 6))\n",
    "    sns.boxplot(x=df[feature])\n",
    "    plt.title(f'Box Plot of {feature}')\n",
    "    plt.xlabel(feature)\n",
    "    plt.show()"
   ]
  },
  {
   "cell_type": "markdown",
   "metadata": {},
   "source": [
    "Box plots for these numerical features corroborate the histogram findings, showing the median, quartiles, and highlighting the presence of outliers, particularly in the Balance and Salary columns. These outliers may need further attention during preprocessing to avoid skewing the model's performance.\n"
   ]
  },
  {
   "cell_type": "code",
   "execution_count": null,
   "metadata": {
    "trusted": true
   },
   "outputs": [
    {
     "data": {
      "image/png": "[encoded data removed]",
      "text/plain": [
       "<Figure size 1000x600 with 1 Axes>"
      ]
     },
     "metadata": {},
     "output_type": "display_data"
    },
    {
     "data": {
      "image/png": "[encoded data removed]",
      "text/plain": [
       "<Figure size 1000x600 with 1 Axes>"
      ]
     },
     "metadata": {},
     "output_type": "display_data"
    }
   ],
   "source": [
    "categorical_features = ['Geography', 'Gender'] \n",
    "\n",
    "for feature in categorical_features:\n",
    "    plt.figure(figsize=(10, 6))\n",
    "    sns.countplot(x=df[feature])\n",
    "    plt.title(f'Count Plot of {feature}')\n",
    "    plt.xlabel(feature)\n",
    "    plt.ylabel('Count')\n",
    "    plt.show()"
   ]
  },
  {
   "cell_type": "markdown",
   "metadata": {},
   "source": [
    "The count plot for Geography indicates a fairly balanced distribution between different geographic regions, ensuring that the model will not be overly biased towards a particular region.\n",
    "<br/><br/>\n",
    "The gender distribution appears to be relatively balanced, suggesting that any gender-related biases in the model will be minimized."
   ]
  },
  {
   "cell_type": "code",
   "execution_count": null,
   "metadata": {
    "trusted": true
   },
   "outputs": [
    {
     "data": {
      "image/png": "[encoded data removed]",
      "text/plain": [
       "<Figure size 807.75x750 with 12 Axes>"
      ]
     },
     "metadata": {},
     "output_type": "display_data"
    }
   ],
   "source": [
    "features_for_pairplot = ['Age', 'Balance', 'EstimatedSalary', 'Exited']  \n",
    "\n",
    "sns.pairplot(df[features_for_pairplot], hue='Exited')\n",
    "plt.show()"
   ]
  },
  {
   "cell_type": "markdown",
   "metadata": {},
   "source": [
    "The pair plot provides a comprehensive view of the relationships between Age, Balance, Salary, and the target variable (class_column). This visualization helps in identifying potential correlations and patterns between features and the target variable.\n",
    "<br/>The scatter plots within the pair plot highlight the separation between different classes. Certain features exhibit clearer separations, indicating their potential importance in the predictive modeling process.\n"
   ]
  },
  {
   "cell_type": "markdown",
   "metadata": {},
   "source": [
    "## Class Count"
   ]
  },
  {
   "cell_type": "code",
   "execution_count": null,
   "metadata": {
    "trusted": true
   },
   "outputs": [
    {
     "data": {
      "text/plain": [
       "0    7963\n",
       "1    2037\n",
       "Name: Exited, dtype: int64"
      ]
     },
     "execution_count": 13,
     "metadata": {},
     "output_type": "execute_result"
    }
   ],
   "source": [
    "class_count = df['Exited'].value_counts()\n",
    "class_count"
   ]
  },
  {
   "cell_type": "markdown",
   "metadata": {},
   "source": [
    "Class is imbalanced"
   ]
  },
  {
   "cell_type": "code",
   "execution_count": null,
   "metadata": {
    "trusted": true
   },
   "outputs": [
    {
     "data": {
      "image/png": "[encoded data removed]",
      "text/plain": [
       "<Figure size 640x480 with 1 Axes>"
      ]
     },
     "metadata": {},
     "output_type": "display_data"
    }
   ],
   "source": [
    "class_count.plot(kind='bar', color='skyblue')\n",
    "plt.xlabel('Exited')\n",
    "plt.ylabel('Count')\n",
    "plt.title('Value Counts of Exited')\n",
    "plt.show()"
   ]
  },
  {
   "cell_type": "markdown",
   "metadata": {},
   "source": [
    "## Clean Data"
   ]
  },
  {
   "cell_type": "code",
   "execution_count": null,
   "metadata": {
    "trusted": true
   },
   "outputs": [
    {
     "data": {
      "text/html": [
       "<div>\n",
       "<style scoped>\n",
       "    .dataframe tbody tr th:only-of-type {\n",
       "        vertical-align: middle;\n",
       "    }\n",
       "\n",
       "    .dataframe tbody tr th {\n",
       "        vertical-align: top;\n",
       "    }\n",
       "\n",
       "    .dataframe thead th {\n",
       "        text-align: right;\n",
       "    }\n",
       "</style>\n",
       "<table border=\"1\" class=\"dataframe\">\n",
       "  <thead>\n",
       "    <tr style=\"text-align: right;\">\n",
       "      <th></th>\n",
       "      <th>RowNumber</th>\n",
       "      <th>CustomerId</th>\n",
       "      <th>Surname</th>\n",
       "      <th>CreditScore</th>\n",
       "      <th>Geography</th>\n",
       "      <th>Gender</th>\n",
       "      <th>Age</th>\n",
       "      <th>Tenure</th>\n",
       "      <th>Balance</th>\n",
       "      <th>NumOfProducts</th>\n",
       "      <th>HasCrCard</th>\n",
       "      <th>IsActiveMember</th>\n",
       "      <th>EstimatedSalary</th>\n",
       "      <th>Exited</th>\n",
       "    </tr>\n",
       "  </thead>\n",
       "  <tbody>\n",
       "    <tr>\n",
       "      <th>0</th>\n",
       "      <td>1</td>\n",
       "      <td>15634602</td>\n",
       "      <td>Hargrave</td>\n",
       "      <td>619</td>\n",
       "      <td>France</td>\n",
       "      <td>Female</td>\n",
       "      <td>42</td>\n",
       "      <td>2.00000</td>\n",
       "      <td>0.00</td>\n",
       "      <td>1</td>\n",
       "      <td>1</td>\n",
       "      <td>1</td>\n",
       "      <td>101348.88</td>\n",
       "      <td>1</td>\n",
       "    </tr>\n",
       "    <tr>\n",
       "      <th>1</th>\n",
       "      <td>2</td>\n",
       "      <td>15647311</td>\n",
       "      <td>Hill</td>\n",
       "      <td>608</td>\n",
       "      <td>Spain</td>\n",
       "      <td>Female</td>\n",
       "      <td>41</td>\n",
       "      <td>1.00000</td>\n",
       "      <td>83807.86</td>\n",
       "      <td>1</td>\n",
       "      <td>0</td>\n",
       "      <td>1</td>\n",
       "      <td>112542.58</td>\n",
       "      <td>0</td>\n",
       "    </tr>\n",
       "    <tr>\n",
       "      <th>2</th>\n",
       "      <td>3</td>\n",
       "      <td>15619304</td>\n",
       "      <td>Onio</td>\n",
       "      <td>502</td>\n",
       "      <td>France</td>\n",
       "      <td>Female</td>\n",
       "      <td>42</td>\n",
       "      <td>8.00000</td>\n",
       "      <td>159660.80</td>\n",
       "      <td>3</td>\n",
       "      <td>1</td>\n",
       "      <td>0</td>\n",
       "      <td>113931.57</td>\n",
       "      <td>1</td>\n",
       "    </tr>\n",
       "    <tr>\n",
       "      <th>3</th>\n",
       "      <td>4</td>\n",
       "      <td>15701354</td>\n",
       "      <td>Boni</td>\n",
       "      <td>699</td>\n",
       "      <td>France</td>\n",
       "      <td>Female</td>\n",
       "      <td>39</td>\n",
       "      <td>1.00000</td>\n",
       "      <td>0.00</td>\n",
       "      <td>2</td>\n",
       "      <td>0</td>\n",
       "      <td>0</td>\n",
       "      <td>93826.63</td>\n",
       "      <td>0</td>\n",
       "    </tr>\n",
       "    <tr>\n",
       "      <th>4</th>\n",
       "      <td>5</td>\n",
       "      <td>15737888</td>\n",
       "      <td>Mitchell</td>\n",
       "      <td>850</td>\n",
       "      <td>Spain</td>\n",
       "      <td>Female</td>\n",
       "      <td>43</td>\n",
       "      <td>2.00000</td>\n",
       "      <td>125510.82</td>\n",
       "      <td>1</td>\n",
       "      <td>1</td>\n",
       "      <td>1</td>\n",
       "      <td>79084.10</td>\n",
       "      <td>0</td>\n",
       "    </tr>\n",
       "    <tr>\n",
       "      <th>...</th>\n",
       "      <td>...</td>\n",
       "      <td>...</td>\n",
       "      <td>...</td>\n",
       "      <td>...</td>\n",
       "      <td>...</td>\n",
       "      <td>...</td>\n",
       "      <td>...</td>\n",
       "      <td>...</td>\n",
       "      <td>...</td>\n",
       "      <td>...</td>\n",
       "      <td>...</td>\n",
       "      <td>...</td>\n",
       "      <td>...</td>\n",
       "      <td>...</td>\n",
       "    </tr>\n",
       "    <tr>\n",
       "      <th>9995</th>\n",
       "      <td>9996</td>\n",
       "      <td>15606229</td>\n",
       "      <td>Obijiaku</td>\n",
       "      <td>771</td>\n",
       "      <td>France</td>\n",
       "      <td>Male</td>\n",
       "      <td>39</td>\n",
       "      <td>5.00000</td>\n",
       "      <td>0.00</td>\n",
       "      <td>2</td>\n",
       "      <td>1</td>\n",
       "      <td>0</td>\n",
       "      <td>96270.64</td>\n",
       "      <td>0</td>\n",
       "    </tr>\n",
       "    <tr>\n",
       "      <th>9996</th>\n",
       "      <td>9997</td>\n",
       "      <td>15569892</td>\n",
       "      <td>Johnstone</td>\n",
       "      <td>516</td>\n",
       "      <td>France</td>\n",
       "      <td>Male</td>\n",
       "      <td>35</td>\n",
       "      <td>10.00000</td>\n",
       "      <td>57369.61</td>\n",
       "      <td>1</td>\n",
       "      <td>1</td>\n",
       "      <td>1</td>\n",
       "      <td>101699.77</td>\n",
       "      <td>0</td>\n",
       "    </tr>\n",
       "    <tr>\n",
       "      <th>9997</th>\n",
       "      <td>9998</td>\n",
       "      <td>15584532</td>\n",
       "      <td>Liu</td>\n",
       "      <td>709</td>\n",
       "      <td>France</td>\n",
       "      <td>Female</td>\n",
       "      <td>36</td>\n",
       "      <td>7.00000</td>\n",
       "      <td>0.00</td>\n",
       "      <td>1</td>\n",
       "      <td>0</td>\n",
       "      <td>1</td>\n",
       "      <td>42085.58</td>\n",
       "      <td>1</td>\n",
       "    </tr>\n",
       "    <tr>\n",
       "      <th>9998</th>\n",
       "      <td>9999</td>\n",
       "      <td>15682355</td>\n",
       "      <td>Sabbatini</td>\n",
       "      <td>772</td>\n",
       "      <td>Germany</td>\n",
       "      <td>Male</td>\n",
       "      <td>42</td>\n",
       "      <td>3.00000</td>\n",
       "      <td>75075.31</td>\n",
       "      <td>2</td>\n",
       "      <td>1</td>\n",
       "      <td>0</td>\n",
       "      <td>92888.52</td>\n",
       "      <td>1</td>\n",
       "    </tr>\n",
       "    <tr>\n",
       "      <th>9999</th>\n",
       "      <td>10000</td>\n",
       "      <td>15628319</td>\n",
       "      <td>Walker</td>\n",
       "      <td>792</td>\n",
       "      <td>France</td>\n",
       "      <td>Female</td>\n",
       "      <td>28</td>\n",
       "      <td>4.99769</td>\n",
       "      <td>130142.79</td>\n",
       "      <td>1</td>\n",
       "      <td>1</td>\n",
       "      <td>0</td>\n",
       "      <td>38190.78</td>\n",
       "      <td>0</td>\n",
       "    </tr>\n",
       "  </tbody>\n",
       "</table>\n",
       "<p>10000 rows × 14 columns</p>\n",
       "</div>"
      ],
      "text/plain": [
       "      RowNumber  CustomerId    Surname  CreditScore Geography  Gender  Age  \\\n",
       "0             1    15634602   Hargrave          619    France  Female   42   \n",
       "1             2    15647311       Hill          608     Spain  Female   41   \n",
       "2             3    15619304       Onio          502    France  Female   42   \n",
       "3             4    15701354       Boni          699    France  Female   39   \n",
       "4             5    15737888   Mitchell          850     Spain  Female   43   \n",
       "...         ...         ...        ...          ...       ...     ...  ...   \n",
       "9995       9996    15606229   Obijiaku          771    France    Male   39   \n",
       "9996       9997    15569892  Johnstone          516    France    Male   35   \n",
       "9997       9998    15584532        Liu          709    France  Female   36   \n",
       "9998       9999    15682355  Sabbatini          772   Germany    Male   42   \n",
       "9999      10000    15628319     Walker          792    France  Female   28   \n",
       "\n",
       "        Tenure    Balance  NumOfProducts  HasCrCard  IsActiveMember  \\\n",
       "0      2.00000       0.00              1          1               1   \n",
       "1      1.00000   83807.86              1          0               1   \n",
       "2      8.00000  159660.80              3          1               0   \n",
       "3      1.00000       0.00              2          0               0   \n",
       "4      2.00000  125510.82              1          1               1   \n",
       "...        ...        ...            ...        ...             ...   \n",
       "9995   5.00000       0.00              2          1               0   \n",
       "9996  10.00000   57369.61              1          1               1   \n",
       "9997   7.00000       0.00              1          0               1   \n",
       "9998   3.00000   75075.31              2          1               0   \n",
       "9999   4.99769  130142.79              1          1               0   \n",
       "\n",
       "      EstimatedSalary  Exited  \n",
       "0           101348.88       1  \n",
       "1           112542.58       0  \n",
       "2           113931.57       1  \n",
       "3            93826.63       0  \n",
       "4            79084.10       0  \n",
       "...               ...     ...  \n",
       "9995         96270.64       0  \n",
       "9996        101699.77       0  \n",
       "9997         42085.58       1  \n",
       "9998         92888.52       1  \n",
       "9999         38190.78       0  \n",
       "\n",
       "[10000 rows x 14 columns]"
      ]
     },
     "execution_count": 15,
     "metadata": {},
     "output_type": "execute_result"
    }
   ],
   "source": [
    "df"
   ]
  },
  {
   "cell_type": "code",
   "execution_count": null,
   "metadata": {
    "trusted": true
   },
   "outputs": [],
   "source": [
    "df = df.drop(columns=['Surname'])"
   ]
  },
  {
   "cell_type": "code",
   "execution_count": null,
   "metadata": {
    "trusted": true
   },
   "outputs": [
    {
     "data": {
      "text/html": [
       "<div>\n",
       "<style scoped>\n",
       "    .dataframe tbody tr th:only-of-type {\n",
       "        vertical-align: middle;\n",
       "    }\n",
       "\n",
       "    .dataframe tbody tr th {\n",
       "        vertical-align: top;\n",
       "    }\n",
       "\n",
       "    .dataframe thead th {\n",
       "        text-align: right;\n",
       "    }\n",
       "</style>\n",
       "<table border=\"1\" class=\"dataframe\">\n",
       "  <thead>\n",
       "    <tr style=\"text-align: right;\">\n",
       "      <th></th>\n",
       "      <th>RowNumber</th>\n",
       "      <th>CustomerId</th>\n",
       "      <th>CreditScore</th>\n",
       "      <th>Age</th>\n",
       "      <th>Tenure</th>\n",
       "      <th>Balance</th>\n",
       "      <th>NumOfProducts</th>\n",
       "      <th>HasCrCard</th>\n",
       "      <th>IsActiveMember</th>\n",
       "      <th>EstimatedSalary</th>\n",
       "      <th>Exited</th>\n",
       "      <th>Geography_Germany</th>\n",
       "      <th>Geography_Spain</th>\n",
       "      <th>Gender_Male</th>\n",
       "    </tr>\n",
       "  </thead>\n",
       "  <tbody>\n",
       "    <tr>\n",
       "      <th>0</th>\n",
       "      <td>1</td>\n",
       "      <td>15634602</td>\n",
       "      <td>619</td>\n",
       "      <td>42</td>\n",
       "      <td>2.00000</td>\n",
       "      <td>0.00</td>\n",
       "      <td>1</td>\n",
       "      <td>1</td>\n",
       "      <td>1</td>\n",
       "      <td>101348.88</td>\n",
       "      <td>1</td>\n",
       "      <td>0</td>\n",
       "      <td>0</td>\n",
       "      <td>0</td>\n",
       "    </tr>\n",
       "    <tr>\n",
       "      <th>1</th>\n",
       "      <td>2</td>\n",
       "      <td>15647311</td>\n",
       "      <td>608</td>\n",
       "      <td>41</td>\n",
       "      <td>1.00000</td>\n",
       "      <td>83807.86</td>\n",
       "      <td>1</td>\n",
       "      <td>0</td>\n",
       "      <td>1</td>\n",
       "      <td>112542.58</td>\n",
       "      <td>0</td>\n",
       "      <td>0</td>\n",
       "      <td>1</td>\n",
       "      <td>0</td>\n",
       "    </tr>\n",
       "    <tr>\n",
       "      <th>2</th>\n",
       "      <td>3</td>\n",
       "      <td>15619304</td>\n",
       "      <td>502</td>\n",
       "      <td>42</td>\n",
       "      <td>8.00000</td>\n",
       "      <td>159660.80</td>\n",
       "      <td>3</td>\n",
       "      <td>1</td>\n",
       "      <td>0</td>\n",
       "      <td>113931.57</td>\n",
       "      <td>1</td>\n",
       "      <td>0</td>\n",
       "      <td>0</td>\n",
       "      <td>0</td>\n",
       "    </tr>\n",
       "    <tr>\n",
       "      <th>3</th>\n",
       "      <td>4</td>\n",
       "      <td>15701354</td>\n",
       "      <td>699</td>\n",
       "      <td>39</td>\n",
       "      <td>1.00000</td>\n",
       "      <td>0.00</td>\n",
       "      <td>2</td>\n",
       "      <td>0</td>\n",
       "      <td>0</td>\n",
       "      <td>93826.63</td>\n",
       "      <td>0</td>\n",
       "      <td>0</td>\n",
       "      <td>0</td>\n",
       "      <td>0</td>\n",
       "    </tr>\n",
       "    <tr>\n",
       "      <th>4</th>\n",
       "      <td>5</td>\n",
       "      <td>15737888</td>\n",
       "      <td>850</td>\n",
       "      <td>43</td>\n",
       "      <td>2.00000</td>\n",
       "      <td>125510.82</td>\n",
       "      <td>1</td>\n",
       "      <td>1</td>\n",
       "      <td>1</td>\n",
       "      <td>79084.10</td>\n",
       "      <td>0</td>\n",
       "      <td>0</td>\n",
       "      <td>1</td>\n",
       "      <td>0</td>\n",
       "    </tr>\n",
       "    <tr>\n",
       "      <th>...</th>\n",
       "      <td>...</td>\n",
       "      <td>...</td>\n",
       "      <td>...</td>\n",
       "      <td>...</td>\n",
       "      <td>...</td>\n",
       "      <td>...</td>\n",
       "      <td>...</td>\n",
       "      <td>...</td>\n",
       "      <td>...</td>\n",
       "      <td>...</td>\n",
       "      <td>...</td>\n",
       "      <td>...</td>\n",
       "      <td>...</td>\n",
       "      <td>...</td>\n",
       "    </tr>\n",
       "    <tr>\n",
       "      <th>9995</th>\n",
       "      <td>9996</td>\n",
       "      <td>15606229</td>\n",
       "      <td>771</td>\n",
       "      <td>39</td>\n",
       "      <td>5.00000</td>\n",
       "      <td>0.00</td>\n",
       "      <td>2</td>\n",
       "      <td>1</td>\n",
       "      <td>0</td>\n",
       "      <td>96270.64</td>\n",
       "      <td>0</td>\n",
       "      <td>0</td>\n",
       "      <td>0</td>\n",
       "      <td>1</td>\n",
       "    </tr>\n",
       "    <tr>\n",
       "      <th>9996</th>\n",
       "      <td>9997</td>\n",
       "      <td>15569892</td>\n",
       "      <td>516</td>\n",
       "      <td>35</td>\n",
       "      <td>10.00000</td>\n",
       "      <td>57369.61</td>\n",
       "      <td>1</td>\n",
       "      <td>1</td>\n",
       "      <td>1</td>\n",
       "      <td>101699.77</td>\n",
       "      <td>0</td>\n",
       "      <td>0</td>\n",
       "      <td>0</td>\n",
       "      <td>1</td>\n",
       "    </tr>\n",
       "    <tr>\n",
       "      <th>9997</th>\n",
       "      <td>9998</td>\n",
       "      <td>15584532</td>\n",
       "      <td>709</td>\n",
       "      <td>36</td>\n",
       "      <td>7.00000</td>\n",
       "      <td>0.00</td>\n",
       "      <td>1</td>\n",
       "      <td>0</td>\n",
       "      <td>1</td>\n",
       "      <td>42085.58</td>\n",
       "      <td>1</td>\n",
       "      <td>0</td>\n",
       "      <td>0</td>\n",
       "      <td>0</td>\n",
       "    </tr>\n",
       "    <tr>\n",
       "      <th>9998</th>\n",
       "      <td>9999</td>\n",
       "      <td>15682355</td>\n",
       "      <td>772</td>\n",
       "      <td>42</td>\n",
       "      <td>3.00000</td>\n",
       "      <td>75075.31</td>\n",
       "      <td>2</td>\n",
       "      <td>1</td>\n",
       "      <td>0</td>\n",
       "      <td>92888.52</td>\n",
       "      <td>1</td>\n",
       "      <td>1</td>\n",
       "      <td>0</td>\n",
       "      <td>1</td>\n",
       "    </tr>\n",
       "    <tr>\n",
       "      <th>9999</th>\n",
       "      <td>10000</td>\n",
       "      <td>15628319</td>\n",
       "      <td>792</td>\n",
       "      <td>28</td>\n",
       "      <td>4.99769</td>\n",
       "      <td>130142.79</td>\n",
       "      <td>1</td>\n",
       "      <td>1</td>\n",
       "      <td>0</td>\n",
       "      <td>38190.78</td>\n",
       "      <td>0</td>\n",
       "      <td>0</td>\n",
       "      <td>0</td>\n",
       "      <td>0</td>\n",
       "    </tr>\n",
       "  </tbody>\n",
       "</table>\n",
       "<p>10000 rows × 14 columns</p>\n",
       "</div>"
      ],
      "text/plain": [
       "      RowNumber  CustomerId  CreditScore  Age    Tenure    Balance  \\\n",
       "0             1    15634602          619   42   2.00000       0.00   \n",
       "1             2    15647311          608   41   1.00000   83807.86   \n",
       "2             3    15619304          502   42   8.00000  159660.80   \n",
       "3             4    15701354          699   39   1.00000       0.00   \n",
       "4             5    15737888          850   43   2.00000  125510.82   \n",
       "...         ...         ...          ...  ...       ...        ...   \n",
       "9995       9996    15606229          771   39   5.00000       0.00   \n",
       "9996       9997    15569892          516   35  10.00000   57369.61   \n",
       "9997       9998    15584532          709   36   7.00000       0.00   \n",
       "9998       9999    15682355          772   42   3.00000   75075.31   \n",
       "9999      10000    15628319          792   28   4.99769  130142.79   \n",
       "\n",
       "      NumOfProducts  HasCrCard  IsActiveMember  EstimatedSalary  Exited  \\\n",
       "0                 1          1               1        101348.88       1   \n",
       "1                 1          0               1        112542.58       0   \n",
       "2                 3          1               0        113931.57       1   \n",
       "3                 2          0               0         93826.63       0   \n",
       "4                 1          1               1         79084.10       0   \n",
       "...             ...        ...             ...              ...     ...   \n",
       "9995              2          1               0         96270.64       0   \n",
       "9996              1          1               1        101699.77       0   \n",
       "9997              1          0               1         42085.58       1   \n",
       "9998              2          1               0         92888.52       1   \n",
       "9999              1          1               0         38190.78       0   \n",
       "\n",
       "      Geography_Germany  Geography_Spain  Gender_Male  \n",
       "0                     0                0            0  \n",
       "1                     0                1            0  \n",
       "2                     0                0            0  \n",
       "3                     0                0            0  \n",
       "4                     0                1            0  \n",
       "...                 ...              ...          ...  \n",
       "9995                  0                0            1  \n",
       "9996                  0                0            1  \n",
       "9997                  0                0            0  \n",
       "9998                  1                0            1  \n",
       "9999                  0                0            0  \n",
       "\n",
       "[10000 rows x 14 columns]"
      ]
     },
     "execution_count": 17,
     "metadata": {},
     "output_type": "execute_result"
    }
   ],
   "source": [
    "df_ohe = pd.get_dummies(df, columns=['Geography', 'Gender'], drop_first=True)\n",
    "df_ohe"
   ]
  },
  {
   "cell_type": "code",
   "execution_count": null,
   "metadata": {
    "trusted": true
   },
   "outputs": [
    {
     "data": {
      "text/plain": [
       "(10000, 14)"
      ]
     },
     "execution_count": 18,
     "metadata": {},
     "output_type": "execute_result"
    }
   ],
   "source": [
    "df_ohe.shape"
   ]
  },
  {
   "cell_type": "code",
   "execution_count": null,
   "metadata": {
    "trusted": true
   },
   "outputs": [
    {
     "data": {
      "text/plain": [
       "0"
      ]
     },
     "execution_count": 19,
     "metadata": {},
     "output_type": "execute_result"
    }
   ],
   "source": [
    "df_ohe.duplicated().sum()"
   ]
  },
  {
   "cell_type": "markdown",
   "metadata": {},
   "source": [
    "## Split Data"
   ]
  },
  {
   "cell_type": "markdown",
   "metadata": {},
   "source": []
  },
  {
   "cell_type": "code",
   "execution_count": null,
   "metadata": {
    "trusted": true
   },
   "outputs": [],
   "source": [
    "train_data, test_data = train_test_split(df, test_size=0.15, random_state=42)\n"
   ]
  },
  {
   "cell_type": "code",
   "execution_count": null,
   "metadata": {
    "trusted": true
   },
   "outputs": [
    {
     "name": "stdout",
     "output_type": "stream",
     "text": [
      "Training Set: (8500, 13)\n",
      "Test Set: (1500, 13)\n"
     ]
    }
   ],
   "source": [
    "print(f\"Training Set: {train_data.shape}\")\n",
    "print(f\"Test Set: {test_data.shape}\")"
   ]
  },
  {
   "cell_type": "code",
   "execution_count": null,
   "metadata": {
    "trusted": true
   },
   "outputs": [
    {
     "name": "stdout",
     "output_type": "stream",
     "text": [
      "(10000,)\n"
     ]
    }
   ],
   "source": [
    "target =df_ohe['Exited']\n",
    "print(target.shape)"
   ]
  },
  {
   "cell_type": "code",
   "execution_count": null,
   "metadata": {
    "trusted": true
   },
   "outputs": [
    {
     "name": "stdout",
     "output_type": "stream",
     "text": [
      "(10000, 13)\n"
     ]
    }
   ],
   "source": [
    "features = df_ohe.drop('Exited', axis=1)\n",
    "print(features.shape)"
   ]
  },
  {
   "cell_type": "code",
   "execution_count": null,
   "metadata": {
    "trusted": true
   },
   "outputs": [],
   "source": [
    "features_train, features_temp, target_train, target_temp = train_test_split(\n",
    " features, target, test_size=0.4, random_state=42\n",
    ")"
   ]
  },
  {
   "cell_type": "code",
   "execution_count": null,
   "metadata": {
    "trusted": true
   },
   "outputs": [],
   "source": [
    "features_valid, features_test, target_valid, target_test = train_test_split(\n",
    " features_temp, target_temp, test_size=0.5, random_state=42\n",
    ")"
   ]
  },
  {
   "cell_type": "markdown",
   "metadata": {},
   "source": [
    "## Scaling Features"
   ]
  },
  {
   "cell_type": "code",
   "execution_count": null,
   "metadata": {
    "trusted": true
   },
   "outputs": [],
   "source": [
    " numeric_columns=['CreditScore', 'Age', 'Tenure', 'Balance', 'NumOfProducts', 'EstimatedSalary']"
   ]
  },
  {
   "cell_type": "code",
   "execution_count": null,
   "metadata": {
    "trusted": true
   },
   "outputs": [
    {
     "name": "stderr",
     "output_type": "stream",
     "text": [
      "/tmp/ipykernel_83/1699697946.py:5: SettingWithCopyWarning: \n",
      "A value is trying to be set on a copy of a slice from a DataFrame.\n",
      "Try using .loc[row_indexer,col_indexer] = value instead\n",
      "\n",
      "See the caveats in the documentation: https://pandas.pydata.org/pandas-docs/stable/user_guide/indexing.html#returning-a-view-versus-a-copy\n",
      "  features_train[numeric_columns] = scaler.transform(features_train[numeric_columns])\n",
      "/opt/conda/envs/python3/lib/python3.9/site-packages/pandas/core/indexing.py:1738: SettingWithCopyWarning: \n",
      "A value is trying to be set on a copy of a slice from a DataFrame.\n",
      "Try using .loc[row_indexer,col_indexer] = value instead\n",
      "\n",
      "See the caveats in the documentation: https://pandas.pydata.org/pandas-docs/stable/user_guide/indexing.html#returning-a-view-versus-a-copy\n",
      "  self._setitem_single_column(loc, value[:, i].tolist(), pi)\n",
      "/tmp/ipykernel_83/1699697946.py:6: SettingWithCopyWarning: \n",
      "A value is trying to be set on a copy of a slice from a DataFrame.\n",
      "Try using .loc[row_indexer,col_indexer] = value instead\n",
      "\n",
      "See the caveats in the documentation: https://pandas.pydata.org/pandas-docs/stable/user_guide/indexing.html#returning-a-view-versus-a-copy\n",
      "  features_valid[numeric_columns] = scaler.transform(features_valid[numeric_columns])\n",
      "/opt/conda/envs/python3/lib/python3.9/site-packages/pandas/core/indexing.py:1738: SettingWithCopyWarning: \n",
      "A value is trying to be set on a copy of a slice from a DataFrame.\n",
      "Try using .loc[row_indexer,col_indexer] = value instead\n",
      "\n",
      "See the caveats in the documentation: https://pandas.pydata.org/pandas-docs/stable/user_guide/indexing.html#returning-a-view-versus-a-copy\n",
      "  self._setitem_single_column(loc, value[:, i].tolist(), pi)\n",
      "/tmp/ipykernel_83/1699697946.py:7: SettingWithCopyWarning: \n",
      "A value is trying to be set on a copy of a slice from a DataFrame.\n",
      "Try using .loc[row_indexer,col_indexer] = value instead\n",
      "\n",
      "See the caveats in the documentation: https://pandas.pydata.org/pandas-docs/stable/user_guide/indexing.html#returning-a-view-versus-a-copy\n",
      "  features_test[numeric_columns] = scaler.transform(features_test[numeric_columns])\n",
      "/opt/conda/envs/python3/lib/python3.9/site-packages/pandas/core/indexing.py:1738: SettingWithCopyWarning: \n",
      "A value is trying to be set on a copy of a slice from a DataFrame.\n",
      "Try using .loc[row_indexer,col_indexer] = value instead\n",
      "\n",
      "See the caveats in the documentation: https://pandas.pydata.org/pandas-docs/stable/user_guide/indexing.html#returning-a-view-versus-a-copy\n",
      "  self._setitem_single_column(loc, value[:, i].tolist(), pi)\n"
     ]
    }
   ],
   "source": [
    "scaler = StandardScaler()\n",
    "scaler.fit(features_train[numeric_columns]) \n",
    "\n",
    "\n",
    "features_train[numeric_columns] = scaler.transform(features_train[numeric_columns])\n",
    "features_valid[numeric_columns] = scaler.transform(features_valid[numeric_columns])\n",
    "features_test[numeric_columns] = scaler.transform(features_test[numeric_columns])"
   ]
  },
  {
   "cell_type": "markdown",
   "metadata": {},
   "source": [
    "## Building a model based on ubalanced dataset"
   ]
  },
  {
   "cell_type": "code",
   "execution_count": null,
   "metadata": {
    "trusted": true
   },
   "outputs": [
    {
     "name": "stdout",
     "output_type": "stream",
     "text": [
      "              precision    recall  f1-score   support\n",
      "\n",
      "           0       0.79      1.00      0.88      1570\n",
      "           1       0.00      0.00      0.00       430\n",
      "\n",
      "    accuracy                           0.79      2000\n",
      "   macro avg       0.39      0.50      0.44      2000\n",
      "weighted avg       0.62      0.79      0.69      2000\n",
      "\n"
     ]
    },
    {
     "name": "stderr",
     "output_type": "stream",
     "text": [
      "/opt/conda/envs/python3/lib/python3.9/site-packages/sklearn/metrics/_classification.py:1245: UndefinedMetricWarning: Precision and F-score are ill-defined and being set to 0.0 in labels with no predicted samples. Use `zero_division` parameter to control this behavior.\n",
      "  _warn_prf(average, modifier, msg_start, len(result))\n",
      "/opt/conda/envs/python3/lib/python3.9/site-packages/sklearn/metrics/_classification.py:1245: UndefinedMetricWarning: Precision and F-score are ill-defined and being set to 0.0 in labels with no predicted samples. Use `zero_division` parameter to control this behavior.\n",
      "  _warn_prf(average, modifier, msg_start, len(result))\n",
      "/opt/conda/envs/python3/lib/python3.9/site-packages/sklearn/metrics/_classification.py:1245: UndefinedMetricWarning: Precision and F-score are ill-defined and being set to 0.0 in labels with no predicted samples. Use `zero_division` parameter to control this behavior.\n",
      "  _warn_prf(average, modifier, msg_start, len(result))\n"
     ]
    }
   ],
   "source": [
    "model = LogisticRegression()\n",
    "model.fit(features_train, target_train)\n",
    "\n",
    "target_pred = model.predict(features_test)\n",
    "print(classification_report(target_test, target_pred))"
   ]
  },
  {
   "cell_type": "code",
   "execution_count": null,
   "metadata": {
    "trusted": true
   },
   "outputs": [
    {
     "name": "stdout",
     "output_type": "stream",
     "text": [
      "[[-3.42338374e-11 -8.65700680e-08 -3.30192342e-15  3.18632926e-14\n",
      "  -3.40295182e-15  1.48219690e-14 -5.83752139e-15 -4.72875247e-15\n",
      "  -1.18794222e-14  7.45700529e-16  7.27430336e-15 -4.06355562e-15\n",
      "  -8.73540579e-15]]\n",
      "[-5.52118446e-15]\n"
     ]
    }
   ],
   "source": [
    "print(model.coef_)\n",
    "print(model.intercept_)"
   ]
  },
  {
   "cell_type": "code",
   "execution_count": null,
   "metadata": {
    "trusted": true
   },
   "outputs": [
    {
     "data": {
      "text/plain": [
       "0.0"
      ]
     },
     "execution_count": 30,
     "metadata": {},
     "output_type": "execute_result"
    }
   ],
   "source": [
    "r2_score(target_pred, target_test) "
   ]
  },
  {
   "cell_type": "code",
   "execution_count": null,
   "metadata": {
    "trusted": true
   },
   "outputs": [
    {
     "data": {
      "text/plain": [
       "0.215"
      ]
     },
     "execution_count": 31,
     "metadata": {},
     "output_type": "execute_result"
    }
   ],
   "source": [
    "mean_squared_error(target_pred, target_test)"
   ]
  },
  {
   "cell_type": "code",
   "execution_count": null,
   "metadata": {
    "trusted": true
   },
   "outputs": [
    {
     "data": {
      "text/plain": [
       "0.4636809247747852"
      ]
     },
     "execution_count": 32,
     "metadata": {},
     "output_type": "execute_result"
    }
   ],
   "source": [
    "math.sqrt(0.215)"
   ]
  },
  {
   "cell_type": "code",
   "execution_count": null,
   "metadata": {
    "trusted": true
   },
   "outputs": [
    {
     "name": "stdout",
     "output_type": "stream",
     "text": [
      "Initial Model Metrics:\n",
      "F1 Score: 0.0\n",
      "Accuracy: 0.785\n",
      "AUC-ROC: 0.49774403792030814\n"
     ]
    }
   ],
   "source": [
    "print(\"Initial Model Metrics:\")\n",
    "print(\"F1 Score:\", f1_score( target_test, target_pred))\n",
    "print(\"Accuracy:\", accuracy_score( target_test, target_pred))\n",
    "print(\"AUC-ROC:\", roc_auc_score( target_test, model.predict_proba(features_valid)[:, 1]))"
   ]
  },
  {
   "cell_type": "markdown",
   "metadata": {},
   "source": [
    "An R2 score of 0 and a Mean Squared Error (MSE) of 0.215 indicate that the regression model does not explain any of the variability in the dependent variable, as indicated by the R2 score. The R2 score, or coefficient of determination, ranges from 0 to 1, where 0 means that the model does not explain any of the variability of the response data around its mean.<br/><br/> We also have an F1 Score of 0, quite far from where we want to be. Next we will be upsampling the minority dataset to address the class imbalance issue and improve the performance of our classification model."
   ]
  },
  {
   "cell_type": "markdown",
   "metadata": {},
   "source": [
    "## upsampling the minority dataset"
   ]
  },
  {
   "cell_type": "code",
   "execution_count": null,
   "metadata": {
    "trusted": true
   },
   "outputs": [
    {
     "name": "stdout",
     "output_type": "stream",
     "text": [
      "              precision    recall  f1-score   support\n",
      "\n",
      "           0       0.00      0.00      0.00      1570\n",
      "           1       0.21      1.00      0.35       430\n",
      "\n",
      "    accuracy                           0.21      2000\n",
      "   macro avg       0.11      0.50      0.18      2000\n",
      "weighted avg       0.05      0.21      0.08      2000\n",
      "\n"
     ]
    },
    {
     "name": "stderr",
     "output_type": "stream",
     "text": [
      "/opt/conda/envs/python3/lib/python3.9/site-packages/sklearn/metrics/_classification.py:1245: UndefinedMetricWarning: Precision and F-score are ill-defined and being set to 0.0 in labels with no predicted samples. Use `zero_division` parameter to control this behavior.\n",
      "  _warn_prf(average, modifier, msg_start, len(result))\n",
      "/opt/conda/envs/python3/lib/python3.9/site-packages/sklearn/metrics/_classification.py:1245: UndefinedMetricWarning: Precision and F-score are ill-defined and being set to 0.0 in labels with no predicted samples. Use `zero_division` parameter to control this behavior.\n",
      "  _warn_prf(average, modifier, msg_start, len(result))\n",
      "/opt/conda/envs/python3/lib/python3.9/site-packages/sklearn/metrics/_classification.py:1245: UndefinedMetricWarning: Precision and F-score are ill-defined and being set to 0.0 in labels with no predicted samples. Use `zero_division` parameter to control this behavior.\n",
      "  _warn_prf(average, modifier, msg_start, len(result))\n"
     ]
    }
   ],
   "source": [
    "def upsample(features, target, repeat):\n",
    "    features_zeros = features[target == 0]\n",
    "    features_ones = features[target == 1]\n",
    "    target_zeros = target[target == 0]\n",
    "    target_ones = target[target == 1]\n",
    "\n",
    "    features_upsampled = pd.concat([features_zeros] + [features_ones] * repeat)\n",
    "    target_upsampled = pd.concat([target_zeros] + [target_ones] * repeat)\n",
    "    \n",
    "    features_upsampled, target_upsampled = shuffle(\n",
    "        features_upsampled, target_upsampled, random_state=12345)\n",
    "    \n",
    "    return features_upsampled, target_upsampled\n",
    "\n",
    "features_upsampled, target_upsampled = upsample(features_train, target_train, 10) \n",
    "\n",
    "model = LogisticRegression()\n",
    "model.fit(features_upsampled, target_upsampled)\n",
    "\n",
    "target_pred = model.predict(features_test)\n",
    "print(classification_report(target_test, target_pred))"
   ]
  },
  {
   "cell_type": "code",
   "execution_count": null,
   "metadata": {
    "trusted": true
   },
   "outputs": [
    {
     "name": "stdout",
     "output_type": "stream",
     "text": [
      "Initial Model Metrics:\n",
      "F1 Score: 0.35390946502057613\n",
      "Accuracy: 0.215\n",
      "AUC-ROC: 0.5022559620796918\n"
     ]
    }
   ],
   "source": [
    "print(\"Initial Model Metrics:\")\n",
    "print(\"F1 Score:\", f1_score( target_test, target_pred))\n",
    "print(\"Accuracy:\", accuracy_score( target_test, target_pred))\n",
    "print(\"AUC-ROC:\", roc_auc_score( target_test, model.predict_proba(features_valid)[:, 1]))"
   ]
  },
  {
   "cell_type": "markdown",
   "metadata": {},
   "source": [
    "Upsampling the model made the outcome better with an F1 score increase of 0.35! \n",
    "But the Accuracy dropped from  0.785 to 0.215 and the AUC-ROC virtually had no change.<br/><br/>\n",
    "In summary, a drop in our accuracy while AUC-ROC remains the same suggests that the model’s ability to rank instances correctly is consistent, but its threshold for classifying instances into classes may have changed or its predictions might be poorly calibrated.\n",
    "<br/><br/>\n",
    "\n",
    "Next we will build a better model to train for this dataset."
   ]
  },
  {
   "cell_type": "markdown",
   "metadata": {},
   "source": [
    "# Using  better models for this task"
   ]
  },
  {
   "cell_type": "markdown",
   "metadata": {},
   "source": [
    "## RandomForestClassifier"
   ]
  },
  {
   "cell_type": "code",
   "execution_count": 36,
   "metadata": {
    "trusted": true
   },
   "outputs": [
    {
     "name": "stdout",
     "output_type": "stream",
     "text": [
      "Random Forest:\n",
      "              precision    recall  f1-score   support\n",
      "\n",
      "           0       0.87      0.97      0.92      1620\n",
      "           1       0.77      0.41      0.53       380\n",
      "\n",
      "    accuracy                           0.86      2000\n",
      "   macro avg       0.82      0.69      0.73      2000\n",
      "weighted avg       0.86      0.86      0.85      2000\n",
      "\n",
      "F1: 0.5335628227194492\n"
     ]
    }
   ],
   "source": [
    "rf_model = RandomForestClassifier(class_weight='balanced', random_state=42)\n",
    "rf_model.fit(features_train, target_train)\n",
    "\n",
    "rf_pred = rf_model.predict(features_valid)\n",
    "print(\"Random Forest:\")\n",
    "print(classification_report(target_valid, rf_pred))\n",
    "print('F1:', f1_score(target_valid, rf_pred, average='binary'))"
   ]
  },
  {
   "cell_type": "markdown",
   "metadata": {},
   "source": [
    "Using RandomForestClassifier a balanced class weight parameter is set to automatically adjust weights inversely proportional to class frequencies in the input data. This helps in dealing with the imbalanced dataset.<br/> We come up with a 0.53 f1 score which doesn't hit the 0.59 threshold so we will attempt to build another type of classifier model for this dataset."
   ]
  },
  {
   "cell_type": "markdown",
   "metadata": {},
   "source": [
    "## GradientBoostingClassifier"
   ]
  },
  {
   "cell_type": "code",
   "execution_count": 37,
   "metadata": {
    "trusted": true
   },
   "outputs": [
    {
     "name": "stdout",
     "output_type": "stream",
     "text": [
      "Gradient Boosting:\n",
      "              precision    recall  f1-score   support\n",
      "\n",
      "           0       0.88      0.96      0.92      1620\n",
      "           1       0.73      0.44      0.55       380\n",
      "\n",
      "    accuracy                           0.86      2000\n",
      "   macro avg       0.80      0.70      0.74      2000\n",
      "weighted avg       0.85      0.86      0.85      2000\n",
      "\n",
      "F1: 0.5513866231647635\n"
     ]
    }
   ],
   "source": [
    "gb_model = GradientBoostingClassifier(random_state=42)\n",
    "gb_model.fit(features_train, target_train)\n",
    "\n",
    "gb_pred = gb_model.predict(features_valid)\n",
    "print(\"Gradient Boosting:\")\n",
    "print(classification_report(target_valid, gb_pred))\n",
    "print('F1:', f1_score(target_valid, gb_pred, average='binary'))"
   ]
  },
  {
   "cell_type": "markdown",
   "metadata": {},
   "source": [
    "Already we see the GradientBoostingClassifier is within 0.04 of the desired f1 score.<br/> Next I decide to apply an automatic random search to test 500 possible combinations using 6 parameters in this model to optimise the outcome."
   ]
  },
  {
   "cell_type": "markdown",
   "metadata": {},
   "source": [
    "## Random Search"
   ]
  },
  {
   "cell_type": "markdown",
   "metadata": {},
   "source": [
    "param_dist = {\n",
    "    'n_estimators': [50, 100, 200, 300],\n",
    "    'learning_rate': [0.01, 0.05, 0.1, 0.2],\n",
    "    'max_depth': [3, 4, 5, 6],\n",
    "    'subsample': [0.6, 0.8, 1.0],\n",
    "    'min_samples_split': [2, 5, 10],\n",
    "    'min_samples_leaf': [1, 2, 4]\n",
    "}\n",
    "\n",
    "\n",
    "random_search = RandomizedSearchCV(estimator=GradientBoostingClassifier(random_state=42),\n",
    "                                   param_distributions=param_dist,\n",
    "                                   n_iter=100,  # Number of combinations sampled\n",
    "                                   cv=5,  # Cross-validation folds\n",
    "                                   verbose=2,\n",
    "                                   random_state=42,\n",
    "                                   n_jobs=-1,  # Use all available cores\n",
    "                                   scoring='f1')\n",
    "\n",
    "\n",
    "random_search.fit(features_train, target_train)\n",
    "\n",
    "\n",
    "best_gb_model = random_search.best_estimator_\n",
    "best_gb_pred = best_gb_model.predict(features_valid)\n",
    "\n",
    "print(\"Best Gradient Boosting Model After Randomized Search:\")\n",
    "print(classification_report(target_valid, best_gb_pred))\n",
    "print('F1:', f1_score(target_valid, best_gb_pred, average='binary'))\n",
    "\n",
    "\n",
    "print(\"Best Parameters:\", random_search.best_params_)"
   ]
  },
  {
   "cell_type": "markdown",
   "metadata": {},
   "source": [
    "Best Gradient Boosting Model After Randomized Search:\n",
    "              precision    recall  f1-score   support\n",
    "\n",
    "           0       0.89      0.95      0.92      1620\n",
    "           1       0.70      0.48      0.57       380\n",
    "\n",
    "    accuracy                           0.86      2000\n",
    "   macro avg       0.79      0.72      0.74      2000\n",
    "weighted avg       0.85      0.86      0.85      2000\n",
    "\n",
    "F1: 0.56875\n",
    "Best Parameters: {'subsample': 0.8, 'n_estimators': 100, 'min_samples_split': 5, 'min_samples_leaf': 4, 'max_depth': 3, 'learning_rate': 0.2}"
   ]
  },
  {
   "cell_type": "code",
   "execution_count": 38,
   "metadata": {
    "trusted": true
   },
   "outputs": [
    {
     "name": "stdout",
     "output_type": "stream",
     "text": [
      "Gradient Boosting:\n",
      "              precision    recall  f1-score   support\n",
      "\n",
      "           0       0.89      0.95      0.92      1620\n",
      "           1       0.70      0.48      0.57       380\n",
      "\n",
      "    accuracy                           0.86      2000\n",
      "   macro avg       0.79      0.72      0.74      2000\n",
      "weighted avg       0.85      0.86      0.85      2000\n",
      "\n",
      "F1: 0.56875\n"
     ]
    }
   ],
   "source": [
    "gb_model = GradientBoostingClassifier(random_state=42, subsample=0.8, n_estimators=100, min_samples_split=5, min_samples_leaf=4, max_depth=3, learning_rate=0.2)\n",
    "gb_model.fit(features_train, target_train)\n",
    "\n",
    "gb_pred = gb_model.predict(features_valid)\n",
    "print(\"Gradient Boosting:\")\n",
    "print(classification_report(target_valid, gb_pred))\n",
    "print('F1:', f1_score(target_valid, gb_pred, average='binary'))"
   ]
  },
  {
   "cell_type": "markdown",
   "metadata": {},
   "source": [
    "After hypertuning GBC parameters our f1 score increased from 0.551 to 0.568."
   ]
  },
  {
   "cell_type": "markdown",
   "metadata": {},
   "source": [
    "## Testing Model"
   ]
  },
  {
   "cell_type": "code",
   "execution_count": 39,
   "metadata": {
    "trusted": true
   },
   "outputs": [
    {
     "name": "stdout",
     "output_type": "stream",
     "text": [
      "Final Model Performance on Test Data:\n",
      "              precision    recall  f1-score   support\n",
      "\n",
      "           0       0.87      0.96      0.91      1570\n",
      "           1       0.76      0.48      0.59       430\n",
      "\n",
      "    accuracy                           0.86      2000\n",
      "   macro avg       0.82      0.72      0.75      2000\n",
      "weighted avg       0.85      0.86      0.84      2000\n",
      "\n",
      "F1: 0.5925925925925927\n"
     ]
    }
   ],
   "source": [
    "target_test_encoded = target_test.astype('category').cat.codes\n",
    "\n",
    "\n",
    "test_pred = gb_model.predict(features_test)\n",
    "\n",
    "\n",
    "print(\"Final Model Performance on Test Data:\")\n",
    "print(classification_report(target_test_encoded, test_pred))\n",
    "print('F1:', f1_score(target_test_encoded, test_pred, average='binary'))"
   ]
  },
  {
   "cell_type": "markdown",
   "metadata": {},
   "source": [
    "We have our F1 test score of 0.59."
   ]
  },
  {
   "cell_type": "code",
   "execution_count": 40,
   "metadata": {
    "trusted": true
   },
   "outputs": [
    {
     "name": "stdout",
     "output_type": "stream",
     "text": [
      "0.8462638076673163\n"
     ]
    }
   ],
   "source": [
    "probabilities_valid = gb_model.predict_proba(features_valid)\n",
    "probabilities_one_valid = probabilities_valid[:, 1]\n",
    "auc_roc = roc_auc_score(target_valid, probabilities_one_valid)\n",
    "\n",
    "print(auc_roc)"
   ]
  },
  {
   "cell_type": "markdown",
   "metadata": {},
   "source": [
    "Our AUC-ROC score is 0.84."
   ]
  },
  {
   "cell_type": "markdown",
   "metadata": {},
   "source": [
    "# Conclusion"
   ]
  },
  {
   "cell_type": "markdown",
   "metadata": {},
   "source": [
    "Conclusion<br/>\n",
    "In this project, we aimed to address the class imbalance issue and improve the performance of our classification model on an imbalanced dataset. By applying several advanced techniques and tuning our model rigorously, we have achieved significant improvements. The key steps included:\n",
    "\n",
    "Class Imbalance Handling:<br/>\n",
    "- Adjusted class weights in model training to ensure equal treatment of both classes.<br/>\n",
    "\n",
    "Model Selection and Hyperparameter Tuning:<br/>\n",
    "- Experimented with Gradient Boosting.<br/>\n",
    "- Employed RandomizedSearchCV for efficient hyperparameter tuning, refining parameters to enhance model performance.\n",
    "<br/>\n",
    "\n",
    "Model Evaluation:<br/>\n",
    "The model was rigorously evaluated using cross-validation and performance metrics, with particular attention to F1 score and AUC-ROC.<br/>\n",
    "Achieved an impressive F1 score of 0.59, reflecting a balanced precision and recall.<br/>\n",
    "The AUC-ROC score of 0.84 indicates a strong discriminatory ability of the model.\n",
    "<br/><br/>\n",
    "Final Remarks<br/>\n",
    "The achieved F1 score of 0.592 and AUC-ROC of 0.846 demonstrate the effectiveness of our approach in handling class imbalance and enhancing the classification performance. These results showcase the improved capability of the model to correctly identify both classes, significantly reducing the occurrence of false negatives and ensuring better overall performance. This successful outcome lays a strong foundation for deploying the model in real-world scenarios, where class imbalance is a common challenge."
   ]
  }
 ],
 "metadata": {
  "ExecuteTimeLog": [
   {
    "duration": 810,
    "start_time": "2025-01-25T13:19:50.873Z"
   },
   {
    "duration": 28,
    "start_time": "2025-01-25T13:20:45.357Z"
   },
   {
    "duration": 2,
    "start_time": "2025-01-25T13:21:26.205Z"
   },
   {
    "duration": 18,
    "start_time": "2025-01-25T13:22:52.993Z"
   },
   {
    "duration": 214,
    "start_time": "2025-01-25T13:24:40.250Z"
   },
   {
    "duration": 10,
    "start_time": "2025-01-25T13:24:54.337Z"
   },
   {
    "duration": 6,
    "start_time": "2025-01-25T13:25:25.771Z"
   },
   {
    "duration": 4,
    "start_time": "2025-01-25T13:38:58.551Z"
   },
   {
    "duration": 6,
    "start_time": "2025-01-25T13:39:15.891Z"
   },
   {
    "duration": 5,
    "start_time": "2025-01-25T13:39:33.769Z"
   },
   {
    "duration": 20,
    "start_time": "2025-01-25T13:48:51.951Z"
   },
   {
    "duration": 3,
    "start_time": "2025-01-25T13:50:39.919Z"
   },
   {
    "duration": 7,
    "start_time": "2025-01-25T14:00:42.386Z"
   },
   {
    "duration": 777,
    "start_time": "2025-01-25T15:06:53.181Z"
   },
   {
    "duration": 16,
    "start_time": "2025-01-25T15:06:53.960Z"
   },
   {
    "duration": 18,
    "start_time": "2025-01-25T15:06:53.977Z"
   },
   {
    "duration": 8,
    "start_time": "2025-01-25T15:06:53.997Z"
   },
   {
    "duration": 6,
    "start_time": "2025-01-25T15:06:54.008Z"
   },
   {
    "duration": 4,
    "start_time": "2025-01-25T15:06:54.016Z"
   },
   {
    "duration": 22,
    "start_time": "2025-01-25T15:06:54.021Z"
   },
   {
    "duration": 1050,
    "start_time": "2025-01-25T15:07:13.656Z"
   },
   {
    "duration": 0,
    "start_time": "2025-01-25T15:07:14.708Z"
   },
   {
    "duration": 0,
    "start_time": "2025-01-25T15:07:14.709Z"
   },
   {
    "duration": 0,
    "start_time": "2025-01-25T15:07:14.710Z"
   },
   {
    "duration": 0,
    "start_time": "2025-01-25T15:07:14.711Z"
   },
   {
    "duration": 0,
    "start_time": "2025-01-25T15:07:14.712Z"
   },
   {
    "duration": 0,
    "start_time": "2025-01-25T15:07:14.713Z"
   },
   {
    "duration": 745,
    "start_time": "2025-01-25T15:14:29.119Z"
   },
   {
    "duration": 16,
    "start_time": "2025-01-25T15:14:29.866Z"
   },
   {
    "duration": 19,
    "start_time": "2025-01-25T15:14:29.883Z"
   },
   {
    "duration": 9,
    "start_time": "2025-01-25T15:14:29.904Z"
   },
   {
    "duration": 6,
    "start_time": "2025-01-25T15:14:29.915Z"
   },
   {
    "duration": 6,
    "start_time": "2025-01-25T15:14:29.943Z"
   },
   {
    "duration": 7,
    "start_time": "2025-01-25T15:14:29.950Z"
   },
   {
    "duration": 2,
    "start_time": "2025-01-25T15:14:29.959Z"
   },
   {
    "duration": 798,
    "start_time": "2025-01-25T15:16:07.478Z"
   },
   {
    "duration": 15,
    "start_time": "2025-01-25T15:16:08.279Z"
   },
   {
    "duration": 18,
    "start_time": "2025-01-25T15:16:08.296Z"
   },
   {
    "duration": 10,
    "start_time": "2025-01-25T15:16:08.316Z"
   },
   {
    "duration": 6,
    "start_time": "2025-01-25T15:16:08.344Z"
   },
   {
    "duration": 4,
    "start_time": "2025-01-25T15:16:08.354Z"
   },
   {
    "duration": 6,
    "start_time": "2025-01-25T15:16:08.360Z"
   },
   {
    "duration": 5,
    "start_time": "2025-01-25T15:16:08.367Z"
   },
   {
    "duration": 747,
    "start_time": "2025-01-25T15:25:44.613Z"
   },
   {
    "duration": 15,
    "start_time": "2025-01-25T15:25:45.362Z"
   },
   {
    "duration": 18,
    "start_time": "2025-01-25T15:25:45.379Z"
   },
   {
    "duration": 9,
    "start_time": "2025-01-25T15:25:45.400Z"
   },
   {
    "duration": 7,
    "start_time": "2025-01-25T15:25:45.410Z"
   },
   {
    "duration": 4,
    "start_time": "2025-01-25T15:25:45.418Z"
   },
   {
    "duration": 6,
    "start_time": "2025-01-25T15:25:45.443Z"
   },
   {
    "duration": 228,
    "start_time": "2025-01-25T15:25:45.451Z"
   },
   {
    "duration": 0,
    "start_time": "2025-01-25T15:25:45.681Z"
   },
   {
    "duration": 14,
    "start_time": "2025-01-25T15:25:56.927Z"
   },
   {
    "duration": 31,
    "start_time": "2025-01-25T15:26:03.986Z"
   },
   {
    "duration": 29,
    "start_time": "2025-01-25T15:29:46.850Z"
   },
   {
    "duration": 27,
    "start_time": "2025-01-25T15:30:17.419Z"
   },
   {
    "duration": 804,
    "start_time": "2025-01-25T15:30:31.547Z"
   },
   {
    "duration": 15,
    "start_time": "2025-01-25T15:30:32.353Z"
   },
   {
    "duration": 18,
    "start_time": "2025-01-25T15:30:32.370Z"
   },
   {
    "duration": 8,
    "start_time": "2025-01-25T15:30:32.390Z"
   },
   {
    "duration": 6,
    "start_time": "2025-01-25T15:30:32.401Z"
   },
   {
    "duration": 5,
    "start_time": "2025-01-25T15:30:32.408Z"
   },
   {
    "duration": 31,
    "start_time": "2025-01-25T15:30:32.415Z"
   },
   {
    "duration": 151,
    "start_time": "2025-01-25T15:30:32.447Z"
   },
   {
    "duration": 0,
    "start_time": "2025-01-25T15:30:32.599Z"
   },
   {
    "duration": 29,
    "start_time": "2025-01-25T15:31:56.284Z"
   },
   {
    "duration": 9,
    "start_time": "2025-01-25T15:32:05.313Z"
   },
   {
    "duration": 740,
    "start_time": "2025-01-25T15:33:35.917Z"
   },
   {
    "duration": 15,
    "start_time": "2025-01-25T15:33:36.660Z"
   },
   {
    "duration": 20,
    "start_time": "2025-01-25T15:33:36.677Z"
   },
   {
    "duration": 9,
    "start_time": "2025-01-25T15:33:36.699Z"
   },
   {
    "duration": 6,
    "start_time": "2025-01-25T15:33:36.710Z"
   },
   {
    "duration": 33,
    "start_time": "2025-01-25T15:33:36.717Z"
   },
   {
    "duration": 2,
    "start_time": "2025-01-25T15:33:36.751Z"
   },
   {
    "duration": 5,
    "start_time": "2025-01-25T15:33:36.755Z"
   },
   {
    "duration": 158,
    "start_time": "2025-01-25T15:33:36.762Z"
   },
   {
    "duration": 0,
    "start_time": "2025-01-25T15:33:36.922Z"
   },
   {
    "duration": 801,
    "start_time": "2025-01-25T15:44:48.772Z"
   },
   {
    "duration": 17,
    "start_time": "2025-01-25T15:44:49.575Z"
   },
   {
    "duration": 20,
    "start_time": "2025-01-25T15:44:49.594Z"
   },
   {
    "duration": 9,
    "start_time": "2025-01-25T15:44:49.616Z"
   },
   {
    "duration": 19,
    "start_time": "2025-01-25T15:44:49.627Z"
   },
   {
    "duration": 10,
    "start_time": "2025-01-25T15:44:49.650Z"
   },
   {
    "duration": 5,
    "start_time": "2025-01-25T15:44:49.662Z"
   },
   {
    "duration": 8,
    "start_time": "2025-01-25T15:44:49.669Z"
   },
   {
    "duration": 171,
    "start_time": "2025-01-25T15:44:49.679Z"
   },
   {
    "duration": 0,
    "start_time": "2025-01-25T15:44:49.852Z"
   },
   {
    "duration": 12,
    "start_time": "2025-01-25T15:52:43.299Z"
   },
   {
    "duration": 768,
    "start_time": "2025-01-25T15:53:04.092Z"
   },
   {
    "duration": 15,
    "start_time": "2025-01-25T15:53:04.863Z"
   },
   {
    "duration": 21,
    "start_time": "2025-01-25T15:53:04.879Z"
   },
   {
    "duration": 8,
    "start_time": "2025-01-25T15:53:04.903Z"
   },
   {
    "duration": 6,
    "start_time": "2025-01-25T15:53:04.912Z"
   },
   {
    "duration": 149,
    "start_time": "2025-01-25T15:53:04.920Z"
   },
   {
    "duration": 0,
    "start_time": "2025-01-25T15:53:05.071Z"
   },
   {
    "duration": 0,
    "start_time": "2025-01-25T15:53:05.072Z"
   },
   {
    "duration": 0,
    "start_time": "2025-01-25T15:53:05.074Z"
   },
   {
    "duration": 0,
    "start_time": "2025-01-25T15:53:05.075Z"
   },
   {
    "duration": 0,
    "start_time": "2025-01-25T15:53:05.075Z"
   },
   {
    "duration": 11,
    "start_time": "2025-01-25T15:53:57.915Z"
   },
   {
    "duration": 3,
    "start_time": "2025-01-25T15:54:06.411Z"
   },
   {
    "duration": 726,
    "start_time": "2025-01-25T15:54:15.726Z"
   },
   {
    "duration": 16,
    "start_time": "2025-01-25T15:54:16.455Z"
   },
   {
    "duration": 19,
    "start_time": "2025-01-25T15:54:16.472Z"
   },
   {
    "duration": 9,
    "start_time": "2025-01-25T15:54:16.492Z"
   },
   {
    "duration": 5,
    "start_time": "2025-01-25T15:54:16.503Z"
   },
   {
    "duration": 3,
    "start_time": "2025-01-25T15:54:16.510Z"
   },
   {
    "duration": 34,
    "start_time": "2025-01-25T15:54:16.514Z"
   },
   {
    "duration": 5,
    "start_time": "2025-01-25T15:54:16.549Z"
   },
   {
    "duration": 6,
    "start_time": "2025-01-25T15:54:16.555Z"
   },
   {
    "duration": 161,
    "start_time": "2025-01-25T15:54:16.563Z"
   },
   {
    "duration": 0,
    "start_time": "2025-01-25T15:54:16.725Z"
   },
   {
    "duration": 738,
    "start_time": "2025-01-25T15:58:11.216Z"
   },
   {
    "duration": 16,
    "start_time": "2025-01-25T15:58:11.956Z"
   },
   {
    "duration": 22,
    "start_time": "2025-01-25T15:58:11.973Z"
   },
   {
    "duration": 11,
    "start_time": "2025-01-25T15:58:11.996Z"
   },
   {
    "duration": 6,
    "start_time": "2025-01-25T15:58:12.011Z"
   },
   {
    "duration": 2,
    "start_time": "2025-01-25T15:58:12.043Z"
   },
   {
    "duration": 9,
    "start_time": "2025-01-25T15:58:12.047Z"
   },
   {
    "duration": 4,
    "start_time": "2025-01-25T15:58:12.058Z"
   },
   {
    "duration": 6,
    "start_time": "2025-01-25T15:58:12.063Z"
   },
   {
    "duration": 5,
    "start_time": "2025-01-25T15:58:12.072Z"
   },
   {
    "duration": 167,
    "start_time": "2025-01-25T15:58:12.078Z"
   },
   {
    "duration": 0,
    "start_time": "2025-01-25T15:58:12.247Z"
   },
   {
    "duration": 3,
    "start_time": "2025-01-25T15:59:08.848Z"
   },
   {
    "duration": 6,
    "start_time": "2025-01-25T16:00:57.537Z"
   },
   {
    "duration": 16,
    "start_time": "2025-01-25T16:14:22.196Z"
   },
   {
    "duration": 768,
    "start_time": "2025-01-25T16:17:20.262Z"
   },
   {
    "duration": 4,
    "start_time": "2025-01-25T16:17:35.592Z"
   },
   {
    "duration": 808,
    "start_time": "2025-01-25T16:17:44.068Z"
   },
   {
    "duration": 16,
    "start_time": "2025-01-25T16:17:44.878Z"
   },
   {
    "duration": 18,
    "start_time": "2025-01-25T16:17:44.899Z"
   },
   {
    "duration": 23,
    "start_time": "2025-01-25T16:17:44.920Z"
   },
   {
    "duration": 7,
    "start_time": "2025-01-25T16:17:44.945Z"
   },
   {
    "duration": 4,
    "start_time": "2025-01-25T16:17:44.954Z"
   },
   {
    "duration": 9,
    "start_time": "2025-01-25T16:17:44.960Z"
   },
   {
    "duration": 4,
    "start_time": "2025-01-25T16:17:44.971Z"
   },
   {
    "duration": 15,
    "start_time": "2025-01-25T16:17:44.977Z"
   },
   {
    "duration": 3,
    "start_time": "2025-01-25T16:17:44.994Z"
   },
   {
    "duration": 48,
    "start_time": "2025-01-25T16:17:44.998Z"
   },
   {
    "duration": 8,
    "start_time": "2025-01-25T16:17:45.048Z"
   },
   {
    "duration": 3,
    "start_time": "2025-01-25T16:17:45.060Z"
   },
   {
    "duration": 163,
    "start_time": "2025-01-25T16:17:45.064Z"
   },
   {
    "duration": 0,
    "start_time": "2025-01-25T16:17:45.229Z"
   },
   {
    "duration": 105,
    "start_time": "2025-01-25T16:27:09.032Z"
   },
   {
    "duration": 9,
    "start_time": "2025-01-25T16:27:12.808Z"
   },
   {
    "duration": 19,
    "start_time": "2025-01-25T16:27:19.330Z"
   },
   {
    "duration": 4,
    "start_time": "2025-01-25T16:29:24.771Z"
   },
   {
    "duration": 6,
    "start_time": "2025-01-25T16:42:16.207Z"
   },
   {
    "duration": 15,
    "start_time": "2025-01-25T16:46:40.652Z"
   },
   {
    "duration": 16,
    "start_time": "2025-01-25T16:47:18.406Z"
   },
   {
    "duration": 3,
    "start_time": "2025-01-25T16:47:34.930Z"
   },
   {
    "duration": 785,
    "start_time": "2025-01-25T16:47:40.088Z"
   },
   {
    "duration": 15,
    "start_time": "2025-01-25T16:47:40.875Z"
   },
   {
    "duration": 21,
    "start_time": "2025-01-25T16:47:40.891Z"
   },
   {
    "duration": 10,
    "start_time": "2025-01-25T16:47:40.914Z"
   },
   {
    "duration": 10,
    "start_time": "2025-01-25T16:47:40.943Z"
   },
   {
    "duration": 5,
    "start_time": "2025-01-25T16:47:40.955Z"
   },
   {
    "duration": 12,
    "start_time": "2025-01-25T16:47:40.962Z"
   },
   {
    "duration": 6,
    "start_time": "2025-01-25T16:47:40.975Z"
   },
   {
    "duration": 21,
    "start_time": "2025-01-25T16:47:40.982Z"
   },
   {
    "duration": 4,
    "start_time": "2025-01-25T16:47:41.005Z"
   },
   {
    "duration": 20,
    "start_time": "2025-01-25T16:47:41.042Z"
   },
   {
    "duration": 7,
    "start_time": "2025-01-25T16:47:41.064Z"
   },
   {
    "duration": 19,
    "start_time": "2025-01-25T16:47:41.073Z"
   },
   {
    "duration": 248,
    "start_time": "2025-01-25T16:47:41.095Z"
   },
   {
    "duration": 0,
    "start_time": "2025-01-25T16:47:41.345Z"
   },
   {
    "duration": 0,
    "start_time": "2025-01-25T16:47:41.346Z"
   },
   {
    "duration": 0,
    "start_time": "2025-01-25T16:47:41.348Z"
   },
   {
    "duration": 53,
    "start_time": "2025-01-25T16:53:51.431Z"
   },
   {
    "duration": 6,
    "start_time": "2025-01-25T16:54:05.824Z"
   },
   {
    "duration": 53,
    "start_time": "2025-01-25T16:54:07.980Z"
   },
   {
    "duration": 5,
    "start_time": "2025-01-25T16:59:48.515Z"
   },
   {
    "duration": 53,
    "start_time": "2025-01-25T17:00:08.657Z"
   },
   {
    "duration": 14,
    "start_time": "2025-01-25T17:01:00.053Z"
   },
   {
    "duration": 13,
    "start_time": "2025-01-25T17:03:20.517Z"
   },
   {
    "duration": 56,
    "start_time": "2025-01-25T17:03:42.317Z"
   },
   {
    "duration": 54,
    "start_time": "2025-01-25T17:03:58.190Z"
   },
   {
    "duration": 56,
    "start_time": "2025-01-25T17:04:55.016Z"
   },
   {
    "duration": 4,
    "start_time": "2025-01-25T17:06:13.644Z"
   },
   {
    "duration": 753,
    "start_time": "2025-01-25T17:06:21.413Z"
   },
   {
    "duration": 17,
    "start_time": "2025-01-25T17:06:22.168Z"
   },
   {
    "duration": 18,
    "start_time": "2025-01-25T17:06:22.187Z"
   },
   {
    "duration": 10,
    "start_time": "2025-01-25T17:06:22.207Z"
   },
   {
    "duration": 25,
    "start_time": "2025-01-25T17:06:22.219Z"
   },
   {
    "duration": 4,
    "start_time": "2025-01-25T17:06:22.245Z"
   },
   {
    "duration": 9,
    "start_time": "2025-01-25T17:06:22.251Z"
   },
   {
    "duration": 5,
    "start_time": "2025-01-25T17:06:22.261Z"
   },
   {
    "duration": 14,
    "start_time": "2025-01-25T17:06:22.267Z"
   },
   {
    "duration": 4,
    "start_time": "2025-01-25T17:06:22.283Z"
   },
   {
    "duration": 54,
    "start_time": "2025-01-25T17:06:22.289Z"
   },
   {
    "duration": 224,
    "start_time": "2025-01-25T17:06:22.345Z"
   },
   {
    "duration": 0,
    "start_time": "2025-01-25T17:06:22.571Z"
   },
   {
    "duration": 0,
    "start_time": "2025-01-25T17:06:22.572Z"
   },
   {
    "duration": 6,
    "start_time": "2025-01-25T17:06:40.310Z"
   },
   {
    "duration": 777,
    "start_time": "2025-01-25T17:06:47.396Z"
   },
   {
    "duration": 14,
    "start_time": "2025-01-25T17:06:48.175Z"
   },
   {
    "duration": 19,
    "start_time": "2025-01-25T17:06:48.191Z"
   },
   {
    "duration": 31,
    "start_time": "2025-01-25T17:06:48.212Z"
   },
   {
    "duration": 7,
    "start_time": "2025-01-25T17:06:48.245Z"
   },
   {
    "duration": 5,
    "start_time": "2025-01-25T17:06:48.253Z"
   },
   {
    "duration": 10,
    "start_time": "2025-01-25T17:06:48.259Z"
   },
   {
    "duration": 6,
    "start_time": "2025-01-25T17:06:48.270Z"
   },
   {
    "duration": 16,
    "start_time": "2025-01-25T17:06:48.277Z"
   },
   {
    "duration": 3,
    "start_time": "2025-01-25T17:06:48.294Z"
   },
   {
    "duration": 57,
    "start_time": "2025-01-25T17:06:48.299Z"
   },
   {
    "duration": 6,
    "start_time": "2025-01-25T17:06:48.358Z"
   },
   {
    "duration": 155,
    "start_time": "2025-01-25T17:06:48.365Z"
   },
   {
    "duration": 0,
    "start_time": "2025-01-25T17:06:48.522Z"
   },
   {
    "duration": 824,
    "start_time": "2025-01-25T17:07:37.154Z"
   },
   {
    "duration": 17,
    "start_time": "2025-01-25T17:07:37.980Z"
   },
   {
    "duration": 20,
    "start_time": "2025-01-25T17:07:37.999Z"
   },
   {
    "duration": 23,
    "start_time": "2025-01-25T17:07:38.021Z"
   },
   {
    "duration": 7,
    "start_time": "2025-01-25T17:07:38.045Z"
   },
   {
    "duration": 5,
    "start_time": "2025-01-25T17:07:38.053Z"
   },
   {
    "duration": 10,
    "start_time": "2025-01-25T17:07:38.059Z"
   },
   {
    "duration": 5,
    "start_time": "2025-01-25T17:07:38.070Z"
   },
   {
    "duration": 15,
    "start_time": "2025-01-25T17:07:38.076Z"
   },
   {
    "duration": 4,
    "start_time": "2025-01-25T17:07:38.093Z"
   },
   {
    "duration": 56,
    "start_time": "2025-01-25T17:07:38.098Z"
   },
   {
    "duration": 7,
    "start_time": "2025-01-25T17:07:38.156Z"
   },
   {
    "duration": 54,
    "start_time": "2025-01-25T17:07:38.164Z"
   },
   {
    "duration": 3,
    "start_time": "2025-01-25T17:07:38.220Z"
   },
   {
    "duration": 156,
    "start_time": "2025-01-25T18:11:28.680Z"
   },
   {
    "duration": 752,
    "start_time": "2025-01-25T18:11:39.494Z"
   },
   {
    "duration": 26,
    "start_time": "2025-01-25T18:11:40.248Z"
   },
   {
    "duration": 19,
    "start_time": "2025-01-25T18:11:40.810Z"
   },
   {
    "duration": 9,
    "start_time": "2025-01-25T18:11:41.634Z"
   },
   {
    "duration": 74,
    "start_time": "2025-01-25T18:11:42.203Z"
   },
   {
    "duration": 12,
    "start_time": "2025-01-25T18:11:52.978Z"
   },
   {
    "duration": 4,
    "start_time": "2025-01-25T18:12:32.548Z"
   },
   {
    "duration": 663,
    "start_time": "2025-01-25T18:19:02.758Z"
   },
   {
    "duration": 4,
    "start_time": "2025-01-25T18:19:15.795Z"
   },
   {
    "duration": 167,
    "start_time": "2025-01-25T18:19:17.972Z"
   },
   {
    "duration": 781,
    "start_time": "2025-01-25T18:19:45.642Z"
   },
   {
    "duration": 35,
    "start_time": "2025-01-25T18:19:46.425Z"
   },
   {
    "duration": 23,
    "start_time": "2025-01-25T18:19:46.461Z"
   },
   {
    "duration": 10,
    "start_time": "2025-01-25T18:19:46.486Z"
   },
   {
    "duration": 3,
    "start_time": "2025-01-25T18:19:46.498Z"
   },
   {
    "duration": 6,
    "start_time": "2025-01-25T18:19:46.513Z"
   },
   {
    "duration": 4,
    "start_time": "2025-01-25T18:19:46.521Z"
   },
   {
    "duration": 9,
    "start_time": "2025-01-25T18:19:46.526Z"
   },
   {
    "duration": 4,
    "start_time": "2025-01-25T18:19:46.537Z"
   },
   {
    "duration": 15,
    "start_time": "2025-01-25T18:19:46.543Z"
   },
   {
    "duration": 6,
    "start_time": "2025-01-25T18:19:46.560Z"
   },
   {
    "duration": 0,
    "start_time": "2025-01-25T18:19:46.568Z"
   },
   {
    "duration": 0,
    "start_time": "2025-01-25T18:19:46.568Z"
   },
   {
    "duration": 0,
    "start_time": "2025-01-25T18:19:46.570Z"
   },
   {
    "duration": 0,
    "start_time": "2025-01-25T18:19:46.571Z"
   },
   {
    "duration": 20,
    "start_time": "2025-01-25T18:20:29.216Z"
   },
   {
    "duration": 3,
    "start_time": "2025-01-25T18:20:31.953Z"
   },
   {
    "duration": 781,
    "start_time": "2025-01-25T18:20:42.442Z"
   },
   {
    "duration": 14,
    "start_time": "2025-01-25T18:20:43.225Z"
   },
   {
    "duration": 19,
    "start_time": "2025-01-25T18:20:43.240Z"
   },
   {
    "duration": 8,
    "start_time": "2025-01-25T18:20:43.261Z"
   },
   {
    "duration": 3,
    "start_time": "2025-01-25T18:20:43.272Z"
   },
   {
    "duration": 6,
    "start_time": "2025-01-25T18:20:43.276Z"
   },
   {
    "duration": 4,
    "start_time": "2025-01-25T18:20:43.311Z"
   },
   {
    "duration": 9,
    "start_time": "2025-01-25T18:20:43.318Z"
   },
   {
    "duration": 5,
    "start_time": "2025-01-25T18:20:43.328Z"
   },
   {
    "duration": 15,
    "start_time": "2025-01-25T18:20:43.335Z"
   },
   {
    "duration": 19,
    "start_time": "2025-01-25T18:20:43.352Z"
   },
   {
    "duration": 3,
    "start_time": "2025-01-25T18:20:43.373Z"
   },
   {
    "duration": 39,
    "start_time": "2025-01-25T18:20:43.377Z"
   },
   {
    "duration": 154,
    "start_time": "2025-01-25T18:20:43.419Z"
   },
   {
    "duration": 0,
    "start_time": "2025-01-25T18:20:43.575Z"
   },
   {
    "duration": 739,
    "start_time": "2025-01-25T18:22:53.404Z"
   },
   {
    "duration": 15,
    "start_time": "2025-01-25T18:22:54.146Z"
   },
   {
    "duration": 19,
    "start_time": "2025-01-25T18:22:54.162Z"
   },
   {
    "duration": 9,
    "start_time": "2025-01-25T18:22:54.182Z"
   },
   {
    "duration": 20,
    "start_time": "2025-01-25T18:22:54.193Z"
   },
   {
    "duration": 6,
    "start_time": "2025-01-25T18:22:54.214Z"
   },
   {
    "duration": 5,
    "start_time": "2025-01-25T18:22:54.221Z"
   },
   {
    "duration": 9,
    "start_time": "2025-01-25T18:22:54.227Z"
   },
   {
    "duration": 5,
    "start_time": "2025-01-25T18:22:54.237Z"
   },
   {
    "duration": 15,
    "start_time": "2025-01-25T18:22:54.244Z"
   },
   {
    "duration": 4,
    "start_time": "2025-01-25T18:22:54.260Z"
   },
   {
    "duration": 55,
    "start_time": "2025-01-25T18:22:54.265Z"
   },
   {
    "duration": 6,
    "start_time": "2025-01-25T18:22:54.322Z"
   },
   {
    "duration": 53,
    "start_time": "2025-01-25T18:22:54.331Z"
   },
   {
    "duration": 3,
    "start_time": "2025-01-25T18:22:54.386Z"
   },
   {
    "duration": 4,
    "start_time": "2025-01-25T18:23:44.291Z"
   },
   {
    "duration": 12,
    "start_time": "2025-01-25T18:24:34.775Z"
   },
   {
    "duration": 794,
    "start_time": "2025-01-25T18:25:00.732Z"
   },
   {
    "duration": 16,
    "start_time": "2025-01-25T18:25:01.528Z"
   },
   {
    "duration": 18,
    "start_time": "2025-01-25T18:25:01.545Z"
   },
   {
    "duration": 9,
    "start_time": "2025-01-25T18:25:01.564Z"
   },
   {
    "duration": 3,
    "start_time": "2025-01-25T18:25:01.576Z"
   },
   {
    "duration": 6,
    "start_time": "2025-01-25T18:25:01.580Z"
   },
   {
    "duration": 4,
    "start_time": "2025-01-25T18:25:01.611Z"
   },
   {
    "duration": 9,
    "start_time": "2025-01-25T18:25:01.618Z"
   },
   {
    "duration": 5,
    "start_time": "2025-01-25T18:25:01.629Z"
   },
   {
    "duration": 15,
    "start_time": "2025-01-25T18:25:01.635Z"
   },
   {
    "duration": 3,
    "start_time": "2025-01-25T18:25:01.652Z"
   },
   {
    "duration": 18,
    "start_time": "2025-01-25T18:25:01.657Z"
   },
   {
    "duration": 36,
    "start_time": "2025-01-25T18:25:01.677Z"
   },
   {
    "duration": 10,
    "start_time": "2025-01-25T18:25:01.717Z"
   },
   {
    "duration": 5,
    "start_time": "2025-01-25T18:25:01.728Z"
   },
   {
    "duration": 77,
    "start_time": "2025-01-25T18:25:01.735Z"
   },
   {
    "duration": 3,
    "start_time": "2025-01-25T18:25:01.814Z"
   },
   {
    "duration": 10,
    "start_time": "2025-01-25T18:25:16.936Z"
   },
   {
    "duration": 3,
    "start_time": "2025-01-25T18:27:01.447Z"
   },
   {
    "duration": 9,
    "start_time": "2025-01-25T18:27:20.701Z"
   },
   {
    "duration": 8,
    "start_time": "2025-01-25T18:27:28.103Z"
   },
   {
    "duration": 3,
    "start_time": "2025-01-25T18:27:33.054Z"
   },
   {
    "duration": 4,
    "start_time": "2025-01-25T18:28:44.182Z"
   },
   {
    "duration": 4,
    "start_time": "2025-01-25T18:32:12.930Z"
   },
   {
    "duration": 3,
    "start_time": "2025-01-25T18:32:14.472Z"
   },
   {
    "duration": 211,
    "start_time": "2025-01-25T18:35:32.656Z"
   },
   {
    "duration": 6,
    "start_time": "2025-01-25T18:35:38.567Z"
   },
   {
    "duration": 801,
    "start_time": "2025-01-25T18:52:56.020Z"
   },
   {
    "duration": 15,
    "start_time": "2025-01-25T18:52:56.823Z"
   },
   {
    "duration": 18,
    "start_time": "2025-01-25T18:52:56.840Z"
   },
   {
    "duration": 9,
    "start_time": "2025-01-25T18:52:56.859Z"
   },
   {
    "duration": 3,
    "start_time": "2025-01-25T18:52:56.870Z"
   },
   {
    "duration": 6,
    "start_time": "2025-01-25T18:52:56.875Z"
   },
   {
    "duration": 32,
    "start_time": "2025-01-25T18:52:56.882Z"
   },
   {
    "duration": 10,
    "start_time": "2025-01-25T18:52:56.916Z"
   },
   {
    "duration": 4,
    "start_time": "2025-01-25T18:52:56.927Z"
   },
   {
    "duration": 15,
    "start_time": "2025-01-25T18:52:56.933Z"
   },
   {
    "duration": 3,
    "start_time": "2025-01-25T18:52:56.949Z"
   },
   {
    "duration": 18,
    "start_time": "2025-01-25T18:52:56.954Z"
   },
   {
    "duration": 39,
    "start_time": "2025-01-25T18:52:56.974Z"
   },
   {
    "duration": 8,
    "start_time": "2025-01-25T18:52:57.016Z"
   },
   {
    "duration": 4,
    "start_time": "2025-01-25T18:52:57.025Z"
   },
   {
    "duration": 3,
    "start_time": "2025-01-25T18:52:57.031Z"
   },
   {
    "duration": 6,
    "start_time": "2025-01-25T18:52:57.035Z"
   },
   {
    "duration": 320,
    "start_time": "2025-01-25T18:52:57.042Z"
   },
   {
    "duration": 0,
    "start_time": "2025-01-25T18:52:57.364Z"
   },
   {
    "duration": 0,
    "start_time": "2025-01-25T18:52:57.365Z"
   },
   {
    "duration": 95,
    "start_time": "2025-01-25T18:54:31.926Z"
   },
   {
    "duration": 6,
    "start_time": "2025-01-25T18:54:41.605Z"
   },
   {
    "duration": 32,
    "start_time": "2025-01-25T18:54:42.984Z"
   },
   {
    "duration": 756,
    "start_time": "2025-01-26T16:28:45.178Z"
   },
   {
    "duration": 36,
    "start_time": "2025-01-26T16:28:45.937Z"
   },
   {
    "duration": 19,
    "start_time": "2025-01-26T16:28:45.974Z"
   },
   {
    "duration": 9,
    "start_time": "2025-01-26T16:28:45.994Z"
   },
   {
    "duration": 3,
    "start_time": "2025-01-26T16:28:46.005Z"
   },
   {
    "duration": 6,
    "start_time": "2025-01-26T16:28:46.010Z"
   },
   {
    "duration": 5,
    "start_time": "2025-01-26T16:28:46.017Z"
   },
   {
    "duration": 9,
    "start_time": "2025-01-26T16:28:46.024Z"
   },
   {
    "duration": 4,
    "start_time": "2025-01-26T16:28:46.035Z"
   },
   {
    "duration": 15,
    "start_time": "2025-01-26T16:28:46.041Z"
   },
   {
    "duration": 2,
    "start_time": "2025-01-26T16:28:46.058Z"
   },
   {
    "duration": 61,
    "start_time": "2025-01-26T16:28:46.062Z"
   },
   {
    "duration": 3,
    "start_time": "2025-01-26T16:28:46.125Z"
   },
   {
    "duration": 8,
    "start_time": "2025-01-26T16:28:46.131Z"
   },
   {
    "duration": 4,
    "start_time": "2025-01-26T16:28:46.141Z"
   },
   {
    "duration": 2,
    "start_time": "2025-01-26T16:28:46.147Z"
   },
   {
    "duration": 4,
    "start_time": "2025-01-26T16:28:46.151Z"
   },
   {
    "duration": 149,
    "start_time": "2025-01-26T16:28:46.157Z"
   },
   {
    "duration": 3,
    "start_time": "2025-01-26T16:28:46.308Z"
   },
   {
    "duration": 3,
    "start_time": "2025-01-26T16:31:26.254Z"
   },
   {
    "duration": 249,
    "start_time": "2025-01-26T16:34:12.856Z"
   },
   {
    "duration": 762,
    "start_time": "2025-01-26T16:35:51.981Z"
   },
   {
    "duration": 16,
    "start_time": "2025-01-26T16:35:52.745Z"
   },
   {
    "duration": 19,
    "start_time": "2025-01-26T16:35:52.763Z"
   },
   {
    "duration": 10,
    "start_time": "2025-01-26T16:35:52.785Z"
   },
   {
    "duration": 4,
    "start_time": "2025-01-26T16:35:52.807Z"
   },
   {
    "duration": 12,
    "start_time": "2025-01-26T16:35:52.812Z"
   },
   {
    "duration": 4,
    "start_time": "2025-01-26T16:35:52.826Z"
   },
   {
    "duration": 11,
    "start_time": "2025-01-26T16:35:52.832Z"
   },
   {
    "duration": 5,
    "start_time": "2025-01-26T16:35:52.845Z"
   },
   {
    "duration": 16,
    "start_time": "2025-01-26T16:35:52.852Z"
   },
   {
    "duration": 39,
    "start_time": "2025-01-26T16:35:52.869Z"
   },
   {
    "duration": 29,
    "start_time": "2025-01-26T16:35:52.909Z"
   },
   {
    "duration": 6,
    "start_time": "2025-01-26T16:35:52.941Z"
   },
   {
    "duration": 11,
    "start_time": "2025-01-26T16:35:52.950Z"
   },
   {
    "duration": 4,
    "start_time": "2025-01-26T16:35:52.963Z"
   },
   {
    "duration": 3,
    "start_time": "2025-01-26T16:35:52.969Z"
   },
   {
    "duration": 33,
    "start_time": "2025-01-26T16:35:52.974Z"
   },
   {
    "duration": 102,
    "start_time": "2025-01-26T16:35:53.009Z"
   },
   {
    "duration": 6,
    "start_time": "2025-01-26T16:35:53.113Z"
   },
   {
    "duration": 292,
    "start_time": "2025-01-26T16:35:53.121Z"
   },
   {
    "duration": 0,
    "start_time": "2025-01-26T16:35:53.415Z"
   },
   {
    "duration": 17,
    "start_time": "2025-01-26T16:36:09.263Z"
   },
   {
    "duration": 6,
    "start_time": "2025-01-26T16:36:30.238Z"
   },
   {
    "duration": 881,
    "start_time": "2025-01-26T16:37:32.558Z"
   },
   {
    "duration": 23,
    "start_time": "2025-01-26T16:37:33.441Z"
   },
   {
    "duration": 20,
    "start_time": "2025-01-26T16:37:33.466Z"
   },
   {
    "duration": 24,
    "start_time": "2025-01-26T16:37:33.489Z"
   },
   {
    "duration": 4,
    "start_time": "2025-01-26T16:37:33.515Z"
   },
   {
    "duration": 8,
    "start_time": "2025-01-26T16:37:33.521Z"
   },
   {
    "duration": 4,
    "start_time": "2025-01-26T16:37:33.531Z"
   },
   {
    "duration": 19,
    "start_time": "2025-01-26T16:37:33.537Z"
   },
   {
    "duration": 4,
    "start_time": "2025-01-26T16:37:33.558Z"
   },
   {
    "duration": 41,
    "start_time": "2025-01-26T16:37:33.565Z"
   },
   {
    "duration": 4,
    "start_time": "2025-01-26T16:37:33.608Z"
   },
   {
    "duration": 29,
    "start_time": "2025-01-26T16:37:33.614Z"
   },
   {
    "duration": 3,
    "start_time": "2025-01-26T16:37:33.645Z"
   },
   {
    "duration": 11,
    "start_time": "2025-01-26T16:37:33.649Z"
   },
   {
    "duration": 5,
    "start_time": "2025-01-26T16:37:33.662Z"
   },
   {
    "duration": 38,
    "start_time": "2025-01-26T16:37:33.669Z"
   },
   {
    "duration": 7,
    "start_time": "2025-01-26T16:37:33.711Z"
   },
   {
    "duration": 189,
    "start_time": "2025-01-26T16:37:33.720Z"
   },
   {
    "duration": 7,
    "start_time": "2025-01-26T16:37:33.911Z"
   },
   {
    "duration": 6,
    "start_time": "2025-01-26T16:37:33.919Z"
   },
   {
    "duration": 4,
    "start_time": "2025-01-26T16:37:33.927Z"
   },
   {
    "duration": 220,
    "start_time": "2025-01-26T16:38:30.682Z"
   },
   {
    "duration": 16,
    "start_time": "2025-01-26T16:38:34.811Z"
   },
   {
    "duration": 5,
    "start_time": "2025-01-26T16:38:45.894Z"
   },
   {
    "duration": 4,
    "start_time": "2025-01-26T16:39:44.490Z"
   },
   {
    "duration": 4,
    "start_time": "2025-01-26T16:40:15.586Z"
   },
   {
    "duration": 4,
    "start_time": "2025-01-26T17:00:25.166Z"
   },
   {
    "duration": 15,
    "start_time": "2025-01-26T17:02:00.217Z"
   },
   {
    "duration": 814,
    "start_time": "2025-01-26T17:02:23.713Z"
   },
   {
    "duration": 20,
    "start_time": "2025-01-26T17:02:24.530Z"
   },
   {
    "duration": 19,
    "start_time": "2025-01-26T17:02:24.552Z"
   },
   {
    "duration": 9,
    "start_time": "2025-01-26T17:02:24.572Z"
   },
   {
    "duration": 22,
    "start_time": "2025-01-26T17:02:24.584Z"
   },
   {
    "duration": 6,
    "start_time": "2025-01-26T17:02:24.608Z"
   },
   {
    "duration": 5,
    "start_time": "2025-01-26T17:02:24.615Z"
   },
   {
    "duration": 9,
    "start_time": "2025-01-26T17:02:24.621Z"
   },
   {
    "duration": 5,
    "start_time": "2025-01-26T17:02:24.632Z"
   },
   {
    "duration": 16,
    "start_time": "2025-01-26T17:02:24.638Z"
   },
   {
    "duration": 4,
    "start_time": "2025-01-26T17:02:24.655Z"
   },
   {
    "duration": 57,
    "start_time": "2025-01-26T17:02:24.660Z"
   },
   {
    "duration": 3,
    "start_time": "2025-01-26T17:02:24.719Z"
   },
   {
    "duration": 8,
    "start_time": "2025-01-26T17:02:24.727Z"
   },
   {
    "duration": 5,
    "start_time": "2025-01-26T17:02:24.736Z"
   },
   {
    "duration": 3,
    "start_time": "2025-01-26T17:02:24.742Z"
   },
   {
    "duration": 5,
    "start_time": "2025-01-26T17:02:24.747Z"
   },
   {
    "duration": 155,
    "start_time": "2025-01-26T17:02:24.753Z"
   },
   {
    "duration": 3,
    "start_time": "2025-01-26T17:02:24.910Z"
   },
   {
    "duration": 4,
    "start_time": "2025-01-26T17:02:24.916Z"
   },
   {
    "duration": 4,
    "start_time": "2025-01-26T17:02:24.922Z"
   },
   {
    "duration": 3,
    "start_time": "2025-01-26T17:02:24.928Z"
   },
   {
    "duration": 74,
    "start_time": "2025-01-26T17:02:24.932Z"
   },
   {
    "duration": 234,
    "start_time": "2025-01-26T17:02:25.008Z"
   },
   {
    "duration": 35,
    "start_time": "2025-01-26T17:07:32.723Z"
   },
   {
    "duration": 825,
    "start_time": "2025-01-26T17:09:59.908Z"
   },
   {
    "duration": 16,
    "start_time": "2025-01-26T17:10:00.735Z"
   },
   {
    "duration": 19,
    "start_time": "2025-01-26T17:10:00.756Z"
   },
   {
    "duration": 10,
    "start_time": "2025-01-26T17:10:00.776Z"
   },
   {
    "duration": 4,
    "start_time": "2025-01-26T17:10:00.805Z"
   },
   {
    "duration": 7,
    "start_time": "2025-01-26T17:10:00.811Z"
   },
   {
    "duration": 4,
    "start_time": "2025-01-26T17:10:00.820Z"
   },
   {
    "duration": 11,
    "start_time": "2025-01-26T17:10:00.826Z"
   },
   {
    "duration": 4,
    "start_time": "2025-01-26T17:10:00.841Z"
   },
   {
    "duration": 15,
    "start_time": "2025-01-26T17:10:00.846Z"
   },
   {
    "duration": 4,
    "start_time": "2025-01-26T17:10:00.862Z"
   },
   {
    "duration": 20,
    "start_time": "2025-01-26T17:10:00.905Z"
   },
   {
    "duration": 3,
    "start_time": "2025-01-26T17:10:00.926Z"
   },
   {
    "duration": 7,
    "start_time": "2025-01-26T17:10:00.931Z"
   },
   {
    "duration": 4,
    "start_time": "2025-01-26T17:10:00.940Z"
   },
   {
    "duration": 4,
    "start_time": "2025-01-26T17:10:00.945Z"
   },
   {
    "duration": 4,
    "start_time": "2025-01-26T17:10:00.951Z"
   },
   {
    "duration": 150,
    "start_time": "2025-01-26T17:10:00.957Z"
   },
   {
    "duration": 3,
    "start_time": "2025-01-26T17:10:01.109Z"
   },
   {
    "duration": 4,
    "start_time": "2025-01-26T17:10:01.114Z"
   },
   {
    "duration": 5,
    "start_time": "2025-01-26T17:10:01.119Z"
   },
   {
    "duration": 81,
    "start_time": "2025-01-26T17:10:01.125Z"
   },
   {
    "duration": 263,
    "start_time": "2025-01-26T17:10:01.208Z"
   },
   {
    "duration": 5,
    "start_time": "2025-01-26T17:11:16.847Z"
   },
   {
    "duration": 830,
    "start_time": "2025-01-26T17:11:22.715Z"
   },
   {
    "duration": 15,
    "start_time": "2025-01-26T17:11:23.547Z"
   },
   {
    "duration": 19,
    "start_time": "2025-01-26T17:11:23.564Z"
   },
   {
    "duration": 22,
    "start_time": "2025-01-26T17:11:23.585Z"
   },
   {
    "duration": 3,
    "start_time": "2025-01-26T17:11:23.609Z"
   },
   {
    "duration": 7,
    "start_time": "2025-01-26T17:11:23.614Z"
   },
   {
    "duration": 5,
    "start_time": "2025-01-26T17:11:23.622Z"
   },
   {
    "duration": 9,
    "start_time": "2025-01-26T17:11:23.629Z"
   },
   {
    "duration": 4,
    "start_time": "2025-01-26T17:11:23.640Z"
   },
   {
    "duration": 15,
    "start_time": "2025-01-26T17:11:23.648Z"
   },
   {
    "duration": 43,
    "start_time": "2025-01-26T17:11:23.664Z"
   },
   {
    "duration": 20,
    "start_time": "2025-01-26T17:11:23.709Z"
   },
   {
    "duration": 4,
    "start_time": "2025-01-26T17:11:23.730Z"
   },
   {
    "duration": 8,
    "start_time": "2025-01-26T17:11:23.736Z"
   },
   {
    "duration": 4,
    "start_time": "2025-01-26T17:11:23.746Z"
   },
   {
    "duration": 3,
    "start_time": "2025-01-26T17:11:23.752Z"
   },
   {
    "duration": 5,
    "start_time": "2025-01-26T17:11:23.757Z"
   },
   {
    "duration": 67,
    "start_time": "2025-01-26T17:11:23.763Z"
   },
   {
    "duration": 76,
    "start_time": "2025-01-26T17:11:23.832Z"
   },
   {
    "duration": 5,
    "start_time": "2025-01-26T17:11:23.910Z"
   },
   {
    "duration": 5,
    "start_time": "2025-01-26T17:11:23.917Z"
   },
   {
    "duration": 3,
    "start_time": "2025-01-26T17:11:23.924Z"
   },
   {
    "duration": 296,
    "start_time": "2025-01-26T17:11:23.929Z"
   },
   {
    "duration": 1108,
    "start_time": "2025-01-26T17:14:47.768Z"
   },
   {
    "duration": 751,
    "start_time": "2025-01-26T17:20:59.583Z"
   },
   {
    "duration": 16,
    "start_time": "2025-01-26T17:21:00.336Z"
   },
   {
    "duration": 19,
    "start_time": "2025-01-26T17:21:00.354Z"
   },
   {
    "duration": 9,
    "start_time": "2025-01-26T17:21:00.374Z"
   },
   {
    "duration": 19,
    "start_time": "2025-01-26T17:21:00.386Z"
   },
   {
    "duration": 8,
    "start_time": "2025-01-26T17:21:00.407Z"
   },
   {
    "duration": 4,
    "start_time": "2025-01-26T17:21:00.417Z"
   },
   {
    "duration": 9,
    "start_time": "2025-01-26T17:21:00.423Z"
   },
   {
    "duration": 4,
    "start_time": "2025-01-26T17:21:00.434Z"
   },
   {
    "duration": 16,
    "start_time": "2025-01-26T17:21:00.439Z"
   },
   {
    "duration": 3,
    "start_time": "2025-01-26T17:21:00.456Z"
   },
   {
    "duration": 57,
    "start_time": "2025-01-26T17:21:00.463Z"
   },
   {
    "duration": 3,
    "start_time": "2025-01-26T17:21:00.522Z"
   },
   {
    "duration": 7,
    "start_time": "2025-01-26T17:21:00.529Z"
   },
   {
    "duration": 4,
    "start_time": "2025-01-26T17:21:00.538Z"
   },
   {
    "duration": 3,
    "start_time": "2025-01-26T17:21:00.543Z"
   },
   {
    "duration": 251,
    "start_time": "2025-01-26T17:21:00.547Z"
   },
   {
    "duration": 0,
    "start_time": "2025-01-26T17:21:00.805Z"
   },
   {
    "duration": 0,
    "start_time": "2025-01-26T17:21:00.807Z"
   },
   {
    "duration": 0,
    "start_time": "2025-01-26T17:21:00.808Z"
   },
   {
    "duration": 0,
    "start_time": "2025-01-26T17:21:00.810Z"
   },
   {
    "duration": 0,
    "start_time": "2025-01-26T17:21:00.811Z"
   },
   {
    "duration": 0,
    "start_time": "2025-01-26T17:21:00.812Z"
   },
   {
    "duration": 0,
    "start_time": "2025-01-26T17:21:00.813Z"
   },
   {
    "duration": 728,
    "start_time": "2025-01-26T17:22:19.299Z"
   },
   {
    "duration": 15,
    "start_time": "2025-01-26T17:22:20.029Z"
   },
   {
    "duration": 18,
    "start_time": "2025-01-26T17:22:20.046Z"
   },
   {
    "duration": 9,
    "start_time": "2025-01-26T17:22:20.066Z"
   },
   {
    "duration": 3,
    "start_time": "2025-01-26T17:22:20.076Z"
   },
   {
    "duration": 6,
    "start_time": "2025-01-26T17:22:20.104Z"
   },
   {
    "duration": 4,
    "start_time": "2025-01-26T17:22:20.112Z"
   },
   {
    "duration": 10,
    "start_time": "2025-01-26T17:22:20.118Z"
   },
   {
    "duration": 5,
    "start_time": "2025-01-26T17:22:20.129Z"
   },
   {
    "duration": 15,
    "start_time": "2025-01-26T17:22:20.137Z"
   },
   {
    "duration": 3,
    "start_time": "2025-01-26T17:22:20.153Z"
   },
   {
    "duration": 52,
    "start_time": "2025-01-26T17:22:20.158Z"
   },
   {
    "duration": 4,
    "start_time": "2025-01-26T17:22:20.211Z"
   },
   {
    "duration": 9,
    "start_time": "2025-01-26T17:22:20.216Z"
   },
   {
    "duration": 4,
    "start_time": "2025-01-26T17:22:20.226Z"
   },
   {
    "duration": 2,
    "start_time": "2025-01-26T17:22:20.232Z"
   },
   {
    "duration": 6,
    "start_time": "2025-01-26T17:22:20.236Z"
   },
   {
    "duration": 5,
    "start_time": "2025-01-26T17:22:20.243Z"
   },
   {
    "duration": 156,
    "start_time": "2025-01-26T17:22:20.250Z"
   },
   {
    "duration": 3,
    "start_time": "2025-01-26T17:22:20.408Z"
   },
   {
    "duration": 4,
    "start_time": "2025-01-26T17:22:20.413Z"
   },
   {
    "duration": 3,
    "start_time": "2025-01-26T17:22:20.422Z"
   },
   {
    "duration": 4,
    "start_time": "2025-01-26T17:22:20.427Z"
   },
   {
    "duration": 273,
    "start_time": "2025-01-26T17:22:20.433Z"
   },
   {
    "duration": 1167,
    "start_time": "2025-01-26T17:22:20.708Z"
   },
   {
    "duration": 804,
    "start_time": "2025-01-26T17:24:34.522Z"
   },
   {
    "duration": 15,
    "start_time": "2025-01-26T17:24:35.328Z"
   },
   {
    "duration": 19,
    "start_time": "2025-01-26T17:24:35.344Z"
   },
   {
    "duration": 9,
    "start_time": "2025-01-26T17:24:35.365Z"
   },
   {
    "duration": 3,
    "start_time": "2025-01-26T17:24:35.377Z"
   },
   {
    "duration": 24,
    "start_time": "2025-01-26T17:24:35.382Z"
   },
   {
    "duration": 4,
    "start_time": "2025-01-26T17:24:35.407Z"
   },
   {
    "duration": 9,
    "start_time": "2025-01-26T17:24:35.413Z"
   },
   {
    "duration": 5,
    "start_time": "2025-01-26T17:24:35.424Z"
   },
   {
    "duration": 16,
    "start_time": "2025-01-26T17:24:35.430Z"
   },
   {
    "duration": 3,
    "start_time": "2025-01-26T17:24:35.448Z"
   },
   {
    "duration": 55,
    "start_time": "2025-01-26T17:24:35.452Z"
   },
   {
    "duration": 3,
    "start_time": "2025-01-26T17:24:35.509Z"
   },
   {
    "duration": 8,
    "start_time": "2025-01-26T17:24:35.515Z"
   },
   {
    "duration": 5,
    "start_time": "2025-01-26T17:24:35.525Z"
   },
   {
    "duration": 2,
    "start_time": "2025-01-26T17:24:35.532Z"
   },
   {
    "duration": 6,
    "start_time": "2025-01-26T17:24:35.536Z"
   },
   {
    "duration": 5,
    "start_time": "2025-01-26T17:24:35.544Z"
   },
   {
    "duration": 3,
    "start_time": "2025-01-26T17:24:35.550Z"
   },
   {
    "duration": 936,
    "start_time": "2025-01-26T17:24:35.555Z"
   },
   {
    "duration": 0,
    "start_time": "2025-01-26T17:24:36.493Z"
   },
   {
    "duration": 0,
    "start_time": "2025-01-26T17:24:36.494Z"
   },
   {
    "duration": 0,
    "start_time": "2025-01-26T17:24:36.495Z"
   },
   {
    "duration": 0,
    "start_time": "2025-01-26T17:24:36.496Z"
   },
   {
    "duration": 0,
    "start_time": "2025-01-26T17:24:36.505Z"
   },
   {
    "duration": 0,
    "start_time": "2025-01-26T17:24:36.506Z"
   },
   {
    "duration": 0,
    "start_time": "2025-01-26T17:24:36.508Z"
   },
   {
    "duration": 767,
    "start_time": "2025-01-26T17:29:15.397Z"
   },
   {
    "duration": 16,
    "start_time": "2025-01-26T17:29:16.166Z"
   },
   {
    "duration": 26,
    "start_time": "2025-01-26T17:29:16.183Z"
   },
   {
    "duration": 10,
    "start_time": "2025-01-26T17:29:16.211Z"
   },
   {
    "duration": 3,
    "start_time": "2025-01-26T17:29:16.223Z"
   },
   {
    "duration": 6,
    "start_time": "2025-01-26T17:29:16.227Z"
   },
   {
    "duration": 4,
    "start_time": "2025-01-26T17:29:16.235Z"
   },
   {
    "duration": 9,
    "start_time": "2025-01-26T17:29:16.241Z"
   },
   {
    "duration": 4,
    "start_time": "2025-01-26T17:29:16.251Z"
   },
   {
    "duration": 55,
    "start_time": "2025-01-26T17:29:16.257Z"
   },
   {
    "duration": 3,
    "start_time": "2025-01-26T17:29:16.314Z"
   },
   {
    "duration": 18,
    "start_time": "2025-01-26T17:29:16.319Z"
   },
   {
    "duration": 3,
    "start_time": "2025-01-26T17:29:16.339Z"
   },
   {
    "duration": 8,
    "start_time": "2025-01-26T17:29:16.345Z"
   },
   {
    "duration": 4,
    "start_time": "2025-01-26T17:29:16.355Z"
   },
   {
    "duration": 3,
    "start_time": "2025-01-26T17:29:16.360Z"
   },
   {
    "duration": 44,
    "start_time": "2025-01-26T17:29:16.365Z"
   },
   {
    "duration": 5,
    "start_time": "2025-01-26T17:29:16.410Z"
   },
   {
    "duration": 4,
    "start_time": "2025-01-26T17:29:16.417Z"
   },
   {
    "duration": 92,
    "start_time": "2025-01-26T17:29:16.422Z"
   },
   {
    "duration": 3,
    "start_time": "2025-01-26T17:29:16.516Z"
   },
   {
    "duration": 5,
    "start_time": "2025-01-26T17:29:16.520Z"
   },
   {
    "duration": 80,
    "start_time": "2025-01-26T17:29:16.526Z"
   },
   {
    "duration": 3,
    "start_time": "2025-01-26T17:29:16.608Z"
   },
   {
    "duration": 204,
    "start_time": "2025-01-26T17:29:16.613Z"
   },
   {
    "duration": 1211,
    "start_time": "2025-01-26T17:29:16.819Z"
   },
   {
    "duration": 3,
    "start_time": "2025-01-26T17:30:23.721Z"
   },
   {
    "duration": 894,
    "start_time": "2025-01-26T17:30:24.864Z"
   },
   {
    "duration": 4,
    "start_time": "2025-01-26T17:30:39.908Z"
   },
   {
    "duration": 905,
    "start_time": "2025-01-26T17:30:40.693Z"
   },
   {
    "duration": 4,
    "start_time": "2025-01-26T17:32:58.189Z"
   },
   {
    "duration": 10,
    "start_time": "2025-01-26T17:33:00.828Z"
   },
   {
    "duration": 813,
    "start_time": "2025-01-26T17:33:55.604Z"
   },
   {
    "duration": 16,
    "start_time": "2025-01-26T17:33:56.419Z"
   },
   {
    "duration": 19,
    "start_time": "2025-01-26T17:33:56.437Z"
   },
   {
    "duration": 8,
    "start_time": "2025-01-26T17:33:56.458Z"
   },
   {
    "duration": 4,
    "start_time": "2025-01-26T17:33:56.468Z"
   },
   {
    "duration": 31,
    "start_time": "2025-01-26T17:33:56.474Z"
   },
   {
    "duration": 5,
    "start_time": "2025-01-26T17:33:56.506Z"
   },
   {
    "duration": 9,
    "start_time": "2025-01-26T17:33:56.513Z"
   },
   {
    "duration": 4,
    "start_time": "2025-01-26T17:33:56.524Z"
   },
   {
    "duration": 14,
    "start_time": "2025-01-26T17:33:56.532Z"
   },
   {
    "duration": 3,
    "start_time": "2025-01-26T17:33:56.548Z"
   },
   {
    "duration": 54,
    "start_time": "2025-01-26T17:33:56.553Z"
   },
   {
    "duration": 3,
    "start_time": "2025-01-26T17:33:56.609Z"
   },
   {
    "duration": 8,
    "start_time": "2025-01-26T17:33:56.614Z"
   },
   {
    "duration": 5,
    "start_time": "2025-01-26T17:33:56.624Z"
   },
   {
    "duration": 239,
    "start_time": "2025-01-26T17:33:56.630Z"
   },
   {
    "duration": 0,
    "start_time": "2025-01-26T17:33:56.870Z"
   },
   {
    "duration": 0,
    "start_time": "2025-01-26T17:33:56.872Z"
   },
   {
    "duration": 0,
    "start_time": "2025-01-26T17:33:56.872Z"
   },
   {
    "duration": 0,
    "start_time": "2025-01-26T17:33:56.873Z"
   },
   {
    "duration": 0,
    "start_time": "2025-01-26T17:33:56.874Z"
   },
   {
    "duration": 0,
    "start_time": "2025-01-26T17:33:56.875Z"
   },
   {
    "duration": 0,
    "start_time": "2025-01-26T17:33:56.876Z"
   },
   {
    "duration": 0,
    "start_time": "2025-01-26T17:33:56.877Z"
   },
   {
    "duration": 0,
    "start_time": "2025-01-26T17:33:56.878Z"
   },
   {
    "duration": 0,
    "start_time": "2025-01-26T17:33:56.879Z"
   },
   {
    "duration": 0,
    "start_time": "2025-01-26T17:33:56.880Z"
   },
   {
    "duration": 758,
    "start_time": "2025-01-26T17:35:21.888Z"
   },
   {
    "duration": 15,
    "start_time": "2025-01-26T17:35:22.650Z"
   },
   {
    "duration": 18,
    "start_time": "2025-01-26T17:35:22.667Z"
   },
   {
    "duration": 23,
    "start_time": "2025-01-26T17:35:22.687Z"
   },
   {
    "duration": 4,
    "start_time": "2025-01-26T17:35:22.711Z"
   },
   {
    "duration": 8,
    "start_time": "2025-01-26T17:35:22.716Z"
   },
   {
    "duration": 5,
    "start_time": "2025-01-26T17:35:22.725Z"
   },
   {
    "duration": 10,
    "start_time": "2025-01-26T17:35:22.732Z"
   },
   {
    "duration": 5,
    "start_time": "2025-01-26T17:35:22.743Z"
   },
   {
    "duration": 15,
    "start_time": "2025-01-26T17:35:22.751Z"
   },
   {
    "duration": 4,
    "start_time": "2025-01-26T17:35:22.805Z"
   },
   {
    "duration": 28,
    "start_time": "2025-01-26T17:35:22.810Z"
   },
   {
    "duration": 3,
    "start_time": "2025-01-26T17:35:22.840Z"
   },
   {
    "duration": 8,
    "start_time": "2025-01-26T17:35:22.845Z"
   },
   {
    "duration": 5,
    "start_time": "2025-01-26T17:35:22.854Z"
   },
   {
    "duration": 4,
    "start_time": "2025-01-26T17:35:22.860Z"
   },
   {
    "duration": 3,
    "start_time": "2025-01-26T17:35:22.865Z"
   },
   {
    "duration": 35,
    "start_time": "2025-01-26T17:35:22.870Z"
   },
   {
    "duration": 5,
    "start_time": "2025-01-26T17:35:22.907Z"
   },
   {
    "duration": 91,
    "start_time": "2025-01-26T17:35:22.915Z"
   },
   {
    "duration": 3,
    "start_time": "2025-01-26T17:35:23.008Z"
   },
   {
    "duration": 6,
    "start_time": "2025-01-26T17:35:23.013Z"
   },
   {
    "duration": 6,
    "start_time": "2025-01-26T17:35:23.021Z"
   },
   {
    "duration": 4,
    "start_time": "2025-01-26T17:35:23.028Z"
   },
   {
    "duration": 279,
    "start_time": "2025-01-26T17:35:23.034Z"
   },
   {
    "duration": 4,
    "start_time": "2025-01-26T17:35:23.315Z"
   },
   {
    "duration": 1114,
    "start_time": "2025-01-26T17:35:23.324Z"
   },
   {
    "duration": 760,
    "start_time": "2025-01-26T17:39:27.165Z"
   },
   {
    "duration": 14,
    "start_time": "2025-01-26T17:39:27.929Z"
   },
   {
    "duration": 19,
    "start_time": "2025-01-26T17:39:27.945Z"
   },
   {
    "duration": 10,
    "start_time": "2025-01-26T17:39:27.965Z"
   },
   {
    "duration": 5,
    "start_time": "2025-01-26T17:39:27.977Z"
   },
   {
    "duration": 24,
    "start_time": "2025-01-26T17:39:27.983Z"
   },
   {
    "duration": 5,
    "start_time": "2025-01-26T17:39:28.008Z"
   },
   {
    "duration": 10,
    "start_time": "2025-01-26T17:39:28.015Z"
   },
   {
    "duration": 5,
    "start_time": "2025-01-26T17:39:28.027Z"
   },
   {
    "duration": 16,
    "start_time": "2025-01-26T17:39:28.033Z"
   },
   {
    "duration": 3,
    "start_time": "2025-01-26T17:39:28.051Z"
   },
   {
    "duration": 55,
    "start_time": "2025-01-26T17:39:28.055Z"
   },
   {
    "duration": 4,
    "start_time": "2025-01-26T17:39:28.111Z"
   },
   {
    "duration": 6,
    "start_time": "2025-01-26T17:39:28.119Z"
   },
   {
    "duration": 4,
    "start_time": "2025-01-26T17:39:28.127Z"
   },
   {
    "duration": 242,
    "start_time": "2025-01-26T17:39:28.133Z"
   },
   {
    "duration": 0,
    "start_time": "2025-01-26T17:39:28.378Z"
   },
   {
    "duration": 0,
    "start_time": "2025-01-26T17:39:28.379Z"
   },
   {
    "duration": 0,
    "start_time": "2025-01-26T17:39:28.380Z"
   },
   {
    "duration": 0,
    "start_time": "2025-01-26T17:39:28.381Z"
   },
   {
    "duration": 0,
    "start_time": "2025-01-26T17:39:28.382Z"
   },
   {
    "duration": 0,
    "start_time": "2025-01-26T17:39:28.383Z"
   },
   {
    "duration": 0,
    "start_time": "2025-01-26T17:39:28.384Z"
   },
   {
    "duration": 0,
    "start_time": "2025-01-26T17:39:28.385Z"
   },
   {
    "duration": 0,
    "start_time": "2025-01-26T17:39:28.386Z"
   },
   {
    "duration": 0,
    "start_time": "2025-01-26T17:39:28.388Z"
   },
   {
    "duration": 0,
    "start_time": "2025-01-26T17:39:28.405Z"
   },
   {
    "duration": 0,
    "start_time": "2025-01-26T17:39:28.406Z"
   },
   {
    "duration": 801,
    "start_time": "2025-01-26T17:39:51.036Z"
   },
   {
    "duration": 15,
    "start_time": "2025-01-26T17:39:51.839Z"
   },
   {
    "duration": 19,
    "start_time": "2025-01-26T17:39:51.856Z"
   },
   {
    "duration": 9,
    "start_time": "2025-01-26T17:39:51.876Z"
   },
   {
    "duration": 20,
    "start_time": "2025-01-26T17:39:51.887Z"
   },
   {
    "duration": 7,
    "start_time": "2025-01-26T17:39:51.908Z"
   },
   {
    "duration": 4,
    "start_time": "2025-01-26T17:39:51.917Z"
   },
   {
    "duration": 10,
    "start_time": "2025-01-26T17:39:51.923Z"
   },
   {
    "duration": 4,
    "start_time": "2025-01-26T17:39:51.934Z"
   },
   {
    "duration": 21,
    "start_time": "2025-01-26T17:39:51.940Z"
   },
   {
    "duration": 4,
    "start_time": "2025-01-26T17:39:51.964Z"
   },
   {
    "duration": 19,
    "start_time": "2025-01-26T17:39:52.006Z"
   },
   {
    "duration": 3,
    "start_time": "2025-01-26T17:39:52.028Z"
   },
   {
    "duration": 7,
    "start_time": "2025-01-26T17:39:52.034Z"
   },
   {
    "duration": 4,
    "start_time": "2025-01-26T17:39:52.043Z"
   },
   {
    "duration": 3,
    "start_time": "2025-01-26T17:39:52.049Z"
   },
   {
    "duration": 3,
    "start_time": "2025-01-26T17:39:52.053Z"
   },
   {
    "duration": 5,
    "start_time": "2025-01-26T17:39:52.058Z"
   },
   {
    "duration": 43,
    "start_time": "2025-01-26T17:39:52.065Z"
   },
   {
    "duration": 100,
    "start_time": "2025-01-26T17:39:52.109Z"
   },
   {
    "duration": 3,
    "start_time": "2025-01-26T17:39:52.211Z"
   },
   {
    "duration": 4,
    "start_time": "2025-01-26T17:39:52.216Z"
   },
   {
    "duration": 4,
    "start_time": "2025-01-26T17:39:52.222Z"
   },
   {
    "duration": 66,
    "start_time": "2025-01-26T17:39:52.241Z"
   },
   {
    "duration": 212,
    "start_time": "2025-01-26T17:39:52.308Z"
   },
   {
    "duration": 91,
    "start_time": "2025-01-26T17:39:52.523Z"
   },
   {
    "duration": 6,
    "start_time": "2025-01-26T17:39:52.615Z"
   },
   {
    "duration": 1063,
    "start_time": "2025-01-26T17:39:52.622Z"
   },
   {
    "duration": 18,
    "start_time": "2025-01-26T17:42:43.530Z"
   },
   {
    "duration": 5,
    "start_time": "2025-01-26T17:42:53.783Z"
   },
   {
    "duration": 1018,
    "start_time": "2025-01-26T17:42:57.782Z"
   },
   {
    "duration": 4,
    "start_time": "2025-01-26T17:45:23.259Z"
   },
   {
    "duration": 1318,
    "start_time": "2025-01-26T17:45:57.754Z"
   },
   {
    "duration": 4,
    "start_time": "2025-01-26T18:06:24.616Z"
   },
   {
    "duration": 972968,
    "start_time": "2025-01-26T18:06:46.382Z"
   },
   {
    "duration": 6,
    "start_time": "2025-01-26T18:30:46.907Z"
   },
   {
    "duration": 4,
    "start_time": "2025-01-26T18:31:13.337Z"
   },
   {
    "duration": 3519,
    "start_time": "2025-01-26T18:31:49.991Z"
   },
   {
    "duration": 20,
    "start_time": "2025-01-26T18:56:36.905Z"
   },
   {
    "duration": 11,
    "start_time": "2025-01-26T19:08:31.963Z"
   },
   {
    "duration": 110,
    "start_time": "2025-01-26T19:09:04.049Z"
   },
   {
    "duration": 47,
    "start_time": "2025-01-26T19:09:12.578Z"
   },
   {
    "duration": 3,
    "start_time": "2025-01-26T19:18:01.997Z"
   },
   {
    "duration": 4,
    "start_time": "2025-01-26T19:20:00.443Z"
   },
   {
    "duration": 15,
    "start_time": "2025-01-26T19:20:49.130Z"
   },
   {
    "duration": 15,
    "start_time": "2025-01-26T19:26:02.808Z"
   },
   {
    "duration": 4,
    "start_time": "2025-01-26T19:26:53.736Z"
   },
   {
    "duration": 5,
    "start_time": "2025-01-26T19:27:00.659Z"
   },
   {
    "duration": 16,
    "start_time": "2025-01-26T19:30:46.889Z"
   },
   {
    "duration": 114,
    "start_time": "2025-01-26T19:31:16.107Z"
   },
   {
    "duration": 16,
    "start_time": "2025-01-26T19:31:19.952Z"
   },
   {
    "duration": 1860,
    "start_time": "2025-01-26T19:32:07.882Z"
   },
   {
    "duration": 24,
    "start_time": "2025-01-26T19:32:11.456Z"
   },
   {
    "duration": 64,
    "start_time": "2025-01-26T19:32:29.060Z"
   },
   {
    "duration": 203,
    "start_time": "2025-01-26T19:32:33.328Z"
   },
   {
    "duration": 5,
    "start_time": "2025-01-26T19:35:22.237Z"
   },
   {
    "duration": 5,
    "start_time": "2025-01-26T19:35:34.608Z"
   },
   {
    "duration": 27,
    "start_time": "2025-01-26T19:35:47.457Z"
   },
   {
    "duration": 57,
    "start_time": "2025-01-26T19:36:20.968Z"
   },
   {
    "duration": 6,
    "start_time": "2025-01-26T19:38:45.770Z"
   },
   {
    "duration": 51,
    "start_time": "2025-01-26T19:43:43.741Z"
   },
   {
    "duration": 18,
    "start_time": "2025-01-26T19:48:14.672Z"
   },
   {
    "duration": 156,
    "start_time": "2025-01-26T21:43:43.239Z"
   },
   {
    "duration": 2775,
    "start_time": "2025-01-26T21:43:52.802Z"
   },
   {
    "duration": 20,
    "start_time": "2025-01-26T21:43:55.579Z"
   },
   {
    "duration": 23,
    "start_time": "2025-01-26T21:43:55.600Z"
   },
   {
    "duration": 9,
    "start_time": "2025-01-26T21:43:55.625Z"
   },
   {
    "duration": 3,
    "start_time": "2025-01-26T21:43:55.686Z"
   },
   {
    "duration": 7,
    "start_time": "2025-01-26T21:43:56.725Z"
   },
   {
    "duration": 93,
    "start_time": "2025-01-26T21:43:58.795Z"
   },
   {
    "duration": 19,
    "start_time": "2025-01-26T21:45:02.527Z"
   },
   {
    "duration": 18,
    "start_time": "2025-01-26T21:46:20.066Z"
   },
   {
    "duration": 1053,
    "start_time": "2025-01-26T21:47:49.817Z"
   },
   {
    "duration": 16,
    "start_time": "2025-01-26T21:47:50.872Z"
   },
   {
    "duration": 29,
    "start_time": "2025-01-26T21:47:50.890Z"
   },
   {
    "duration": 9,
    "start_time": "2025-01-26T21:47:50.921Z"
   },
   {
    "duration": 3,
    "start_time": "2025-01-26T21:47:50.932Z"
   },
   {
    "duration": 6,
    "start_time": "2025-01-26T21:47:50.937Z"
   },
   {
    "duration": 268,
    "start_time": "2025-01-26T21:47:50.946Z"
   },
   {
    "duration": 0,
    "start_time": "2025-01-26T21:47:51.217Z"
   },
   {
    "duration": 0,
    "start_time": "2025-01-26T21:47:51.217Z"
   },
   {
    "duration": 0,
    "start_time": "2025-01-26T21:47:51.218Z"
   },
   {
    "duration": 0,
    "start_time": "2025-01-26T21:47:51.220Z"
   },
   {
    "duration": 0,
    "start_time": "2025-01-26T21:47:51.220Z"
   },
   {
    "duration": 0,
    "start_time": "2025-01-26T21:47:51.221Z"
   },
   {
    "duration": 0,
    "start_time": "2025-01-26T21:47:51.223Z"
   },
   {
    "duration": 0,
    "start_time": "2025-01-26T21:47:51.224Z"
   },
   {
    "duration": 0,
    "start_time": "2025-01-26T21:47:51.225Z"
   },
   {
    "duration": 0,
    "start_time": "2025-01-26T21:47:51.226Z"
   },
   {
    "duration": 0,
    "start_time": "2025-01-26T21:47:51.227Z"
   },
   {
    "duration": 0,
    "start_time": "2025-01-26T21:47:51.228Z"
   },
   {
    "duration": 0,
    "start_time": "2025-01-26T21:47:51.228Z"
   },
   {
    "duration": 0,
    "start_time": "2025-01-26T21:47:51.229Z"
   },
   {
    "duration": 0,
    "start_time": "2025-01-26T21:47:51.230Z"
   },
   {
    "duration": 0,
    "start_time": "2025-01-26T21:47:51.231Z"
   },
   {
    "duration": 0,
    "start_time": "2025-01-26T21:47:51.234Z"
   },
   {
    "duration": 0,
    "start_time": "2025-01-26T21:47:51.235Z"
   },
   {
    "duration": 0,
    "start_time": "2025-01-26T21:47:51.236Z"
   },
   {
    "duration": 0,
    "start_time": "2025-01-26T21:47:51.237Z"
   },
   {
    "duration": 0,
    "start_time": "2025-01-26T21:47:51.238Z"
   },
   {
    "duration": 0,
    "start_time": "2025-01-26T21:47:51.240Z"
   },
   {
    "duration": 0,
    "start_time": "2025-01-26T21:47:51.241Z"
   },
   {
    "duration": 0,
    "start_time": "2025-01-26T21:47:51.242Z"
   },
   {
    "duration": 0,
    "start_time": "2025-01-26T21:47:51.243Z"
   },
   {
    "duration": 0,
    "start_time": "2025-01-26T21:47:51.244Z"
   },
   {
    "duration": 0,
    "start_time": "2025-01-26T21:47:51.245Z"
   },
   {
    "duration": 425,
    "start_time": "2025-01-26T21:49:59.390Z"
   },
   {
    "duration": 6,
    "start_time": "2025-01-26T21:50:12.127Z"
   },
   {
    "duration": 10,
    "start_time": "2025-01-26T21:50:18.672Z"
   },
   {
    "duration": 6,
    "start_time": "2025-01-26T21:50:20.183Z"
   },
   {
    "duration": 16,
    "start_time": "2025-01-26T21:50:23.304Z"
   },
   {
    "duration": 4,
    "start_time": "2025-01-26T21:50:23.738Z"
   },
   {
    "duration": 19,
    "start_time": "2025-01-26T21:50:24.247Z"
   },
   {
    "duration": 4,
    "start_time": "2025-01-26T21:50:29.249Z"
   },
   {
    "duration": 9,
    "start_time": "2025-01-26T21:50:31.036Z"
   },
   {
    "duration": 5,
    "start_time": "2025-01-26T21:50:32.455Z"
   },
   {
    "duration": 3,
    "start_time": "2025-01-26T21:50:32.941Z"
   },
   {
    "duration": 3,
    "start_time": "2025-01-26T21:50:33.384Z"
   },
   {
    "duration": 5,
    "start_time": "2025-01-26T21:50:33.998Z"
   },
   {
    "duration": 1057,
    "start_time": "2025-01-26T21:50:46.246Z"
   },
   {
    "duration": 16,
    "start_time": "2025-01-26T21:50:47.305Z"
   },
   {
    "duration": 19,
    "start_time": "2025-01-26T21:50:47.323Z"
   },
   {
    "duration": 9,
    "start_time": "2025-01-26T21:50:47.344Z"
   },
   {
    "duration": 3,
    "start_time": "2025-01-26T21:50:47.357Z"
   },
   {
    "duration": 11,
    "start_time": "2025-01-26T21:50:47.361Z"
   },
   {
    "duration": 37,
    "start_time": "2025-01-26T21:50:47.373Z"
   },
   {
    "duration": 11,
    "start_time": "2025-01-26T21:50:47.412Z"
   },
   {
    "duration": 4,
    "start_time": "2025-01-26T21:50:47.425Z"
   },
   {
    "duration": 15,
    "start_time": "2025-01-26T21:50:47.431Z"
   },
   {
    "duration": 3,
    "start_time": "2025-01-26T21:50:47.447Z"
   },
   {
    "duration": 18,
    "start_time": "2025-01-26T21:50:47.452Z"
   },
   {
    "duration": 3,
    "start_time": "2025-01-26T21:50:47.471Z"
   },
   {
    "duration": 8,
    "start_time": "2025-01-26T21:50:47.511Z"
   },
   {
    "duration": 5,
    "start_time": "2025-01-26T21:50:47.521Z"
   },
   {
    "duration": 3,
    "start_time": "2025-01-26T21:50:47.528Z"
   },
   {
    "duration": 3,
    "start_time": "2025-01-26T21:50:47.533Z"
   },
   {
    "duration": 6,
    "start_time": "2025-01-26T21:50:47.537Z"
   },
   {
    "duration": 5,
    "start_time": "2025-01-26T21:50:47.544Z"
   },
   {
    "duration": 160,
    "start_time": "2025-01-26T21:50:47.550Z"
   },
   {
    "duration": 4,
    "start_time": "2025-01-26T21:50:47.712Z"
   },
   {
    "duration": 10,
    "start_time": "2025-01-26T21:50:47.718Z"
   },
   {
    "duration": 3,
    "start_time": "2025-01-26T21:50:47.730Z"
   },
   {
    "duration": 4,
    "start_time": "2025-01-26T21:50:47.735Z"
   },
   {
    "duration": 273,
    "start_time": "2025-01-26T21:50:47.741Z"
   },
   {
    "duration": 7,
    "start_time": "2025-01-26T21:50:48.015Z"
   },
   {
    "duration": 92,
    "start_time": "2025-01-26T21:50:48.026Z"
   },
   {
    "duration": 4,
    "start_time": "2025-01-26T21:50:48.120Z"
   },
   {
    "duration": 1036,
    "start_time": "2025-01-26T21:50:48.127Z"
   },
   {
    "duration": 1355,
    "start_time": "2025-01-26T21:50:49.166Z"
   },
   {
    "duration": 3542,
    "start_time": "2025-01-26T21:50:50.523Z"
   },
   {
    "duration": 244,
    "start_time": "2025-01-26T21:50:54.068Z"
   },
   {
    "duration": 0,
    "start_time": "2025-01-26T21:50:54.314Z"
   },
   {
    "duration": 0,
    "start_time": "2025-01-26T21:50:54.315Z"
   },
   {
    "duration": 19,
    "start_time": "2025-01-26T21:53:04.086Z"
   },
   {
    "duration": 45,
    "start_time": "2025-01-26T21:53:11.506Z"
   },
   {
    "duration": 987,
    "start_time": "2025-01-26T21:53:21.977Z"
   },
   {
    "duration": 17,
    "start_time": "2025-01-26T21:54:38.412Z"
   },
   {
    "duration": 296,
    "start_time": "2025-01-26T21:54:49.397Z"
   },
   {
    "duration": 59,
    "start_time": "2025-01-26T21:55:35.546Z"
   },
   {
    "duration": 193,
    "start_time": "2025-01-26T21:56:14.586Z"
   },
   {
    "duration": 119,
    "start_time": "2025-01-26T21:57:26.830Z"
   },
   {
    "duration": 32,
    "start_time": "2025-01-26T21:58:25.989Z"
   },
   {
    "duration": 3800,
    "start_time": "2025-01-26T21:58:59.642Z"
   },
   {
    "duration": 3965,
    "start_time": "2025-01-26T21:59:49.234Z"
   },
   {
    "duration": 854,
    "start_time": "2025-01-26T22:07:00.272Z"
   },
   {
    "duration": 880,
    "start_time": "2025-01-26T22:08:19.645Z"
   },
   {
    "duration": 868,
    "start_time": "2025-01-26T22:08:31.852Z"
   },
   {
    "duration": 7,
    "start_time": "2025-01-26T22:11:11.982Z"
   },
   {
    "duration": 1000,
    "start_time": "2025-01-26T22:17:53.073Z"
   },
   {
    "duration": 16,
    "start_time": "2025-01-26T22:17:54.075Z"
   },
   {
    "duration": 26,
    "start_time": "2025-01-26T22:17:54.092Z"
   },
   {
    "duration": 10,
    "start_time": "2025-01-26T22:17:54.119Z"
   },
   {
    "duration": 3,
    "start_time": "2025-01-26T22:17:54.131Z"
   },
   {
    "duration": 6,
    "start_time": "2025-01-26T22:17:54.136Z"
   },
   {
    "duration": 4,
    "start_time": "2025-01-26T22:17:54.144Z"
   },
   {
    "duration": 10,
    "start_time": "2025-01-26T22:17:54.150Z"
   },
   {
    "duration": 4,
    "start_time": "2025-01-26T22:17:54.162Z"
   },
   {
    "duration": 52,
    "start_time": "2025-01-26T22:17:54.168Z"
   },
   {
    "duration": 3,
    "start_time": "2025-01-26T22:17:54.222Z"
   },
   {
    "duration": 17,
    "start_time": "2025-01-26T22:17:54.226Z"
   },
   {
    "duration": 4,
    "start_time": "2025-01-26T22:17:54.245Z"
   },
   {
    "duration": 8,
    "start_time": "2025-01-26T22:17:54.253Z"
   },
   {
    "duration": 4,
    "start_time": "2025-01-26T22:17:54.262Z"
   },
   {
    "duration": 3,
    "start_time": "2025-01-26T22:17:54.268Z"
   },
   {
    "duration": 37,
    "start_time": "2025-01-26T22:17:54.273Z"
   },
   {
    "duration": 5,
    "start_time": "2025-01-26T22:17:54.311Z"
   },
   {
    "duration": 5,
    "start_time": "2025-01-26T22:17:54.317Z"
   },
   {
    "duration": 95,
    "start_time": "2025-01-26T22:17:54.324Z"
   },
   {
    "duration": 3,
    "start_time": "2025-01-26T22:17:54.420Z"
   },
   {
    "duration": 4,
    "start_time": "2025-01-26T22:17:54.425Z"
   },
   {
    "duration": 80,
    "start_time": "2025-01-26T22:17:54.431Z"
   },
   {
    "duration": 4,
    "start_time": "2025-01-26T22:17:54.513Z"
   },
   {
    "duration": 202,
    "start_time": "2025-01-26T22:17:54.519Z"
   },
   {
    "duration": 4,
    "start_time": "2025-01-26T22:17:54.723Z"
   },
   {
    "duration": 94,
    "start_time": "2025-01-26T22:17:54.729Z"
   },
   {
    "duration": 4,
    "start_time": "2025-01-26T22:17:54.825Z"
   },
   {
    "duration": 1055,
    "start_time": "2025-01-26T22:17:54.831Z"
   },
   {
    "duration": 1390,
    "start_time": "2025-01-26T22:17:55.888Z"
   },
   {
    "duration": 3502,
    "start_time": "2025-01-26T22:17:57.280Z"
   },
   {
    "duration": 30,
    "start_time": "2025-01-26T22:18:00.784Z"
   },
   {
    "duration": 45,
    "start_time": "2025-01-26T22:18:00.816Z"
   },
   {
    "duration": 866,
    "start_time": "2025-01-26T22:18:00.863Z"
   },
   {
    "duration": 279,
    "start_time": "2025-01-26T22:18:01.731Z"
   },
   {
    "duration": 198,
    "start_time": "2025-01-26T22:18:02.013Z"
   },
   {
    "duration": 3798,
    "start_time": "2025-01-26T22:18:02.213Z"
   },
   {
    "duration": 2789,
    "start_time": "2025-01-26T22:18:57.641Z"
   },
   {
    "duration": 26,
    "start_time": "2025-01-26T22:19:00.433Z"
   },
   {
    "duration": 21,
    "start_time": "2025-01-26T22:19:00.462Z"
   },
   {
    "duration": 10,
    "start_time": "2025-01-26T22:19:00.485Z"
   },
   {
    "duration": 15,
    "start_time": "2025-01-26T22:19:00.498Z"
   },
   {
    "duration": 7,
    "start_time": "2025-01-26T22:19:00.515Z"
   },
   {
    "duration": 5,
    "start_time": "2025-01-26T22:19:00.523Z"
   },
   {
    "duration": 11,
    "start_time": "2025-01-26T22:19:00.530Z"
   },
   {
    "duration": 4,
    "start_time": "2025-01-26T22:19:00.543Z"
   },
   {
    "duration": 17,
    "start_time": "2025-01-26T22:19:00.549Z"
   },
   {
    "duration": 3,
    "start_time": "2025-01-26T22:19:00.568Z"
   },
   {
    "duration": 61,
    "start_time": "2025-01-26T22:19:00.572Z"
   },
   {
    "duration": 6,
    "start_time": "2025-01-26T22:19:00.635Z"
   },
   {
    "duration": 8,
    "start_time": "2025-01-26T22:19:00.646Z"
   },
   {
    "duration": 5,
    "start_time": "2025-01-26T22:19:00.656Z"
   },
   {
    "duration": 3,
    "start_time": "2025-01-26T22:19:00.662Z"
   },
   {
    "duration": 4,
    "start_time": "2025-01-26T22:19:00.667Z"
   },
   {
    "duration": 5,
    "start_time": "2025-01-26T22:19:00.672Z"
   },
   {
    "duration": 5,
    "start_time": "2025-01-26T22:19:00.711Z"
   },
   {
    "duration": 95,
    "start_time": "2025-01-26T22:19:00.718Z"
   },
   {
    "duration": 5,
    "start_time": "2025-01-26T22:19:00.818Z"
   },
   {
    "duration": 6,
    "start_time": "2025-01-26T22:19:00.828Z"
   },
   {
    "duration": 75,
    "start_time": "2025-01-26T22:19:00.837Z"
   },
   {
    "duration": 4,
    "start_time": "2025-01-26T22:19:00.913Z"
   },
   {
    "duration": 311,
    "start_time": "2025-01-26T22:19:00.919Z"
   },
   {
    "duration": 9,
    "start_time": "2025-01-26T22:19:01.233Z"
   },
   {
    "duration": 85,
    "start_time": "2025-01-26T22:19:01.244Z"
   },
   {
    "duration": 5,
    "start_time": "2025-01-26T22:19:01.330Z"
   },
   {
    "duration": 1068,
    "start_time": "2025-01-26T22:19:01.336Z"
   },
   {
    "duration": 1340,
    "start_time": "2025-01-26T22:19:02.406Z"
   },
   {
    "duration": 3530,
    "start_time": "2025-01-26T22:19:03.748Z"
   },
   {
    "duration": 23,
    "start_time": "2025-01-26T22:19:07.281Z"
   },
   {
    "duration": 51,
    "start_time": "2025-01-26T22:19:07.312Z"
   },
   {
    "duration": 963,
    "start_time": "2025-01-26T22:19:07.365Z"
   },
   {
    "duration": 284,
    "start_time": "2025-01-26T22:19:08.330Z"
   },
   {
    "duration": 203,
    "start_time": "2025-01-26T22:19:08.616Z"
   },
   {
    "duration": 3885,
    "start_time": "2025-01-26T22:19:08.821Z"
   },
   {
    "duration": 6,
    "start_time": "2025-01-26T23:14:00.839Z"
   },
   {
    "duration": 18,
    "start_time": "2025-01-26T23:14:00.847Z"
   },
   {
    "duration": 15,
    "start_time": "2025-01-26T23:14:00.867Z"
   },
   {
    "duration": 9,
    "start_time": "2025-01-26T23:14:00.884Z"
   },
   {
    "duration": 3,
    "start_time": "2025-01-26T23:14:00.895Z"
   },
   {
    "duration": 16,
    "start_time": "2025-01-26T23:14:00.900Z"
   },
   {
    "duration": 5,
    "start_time": "2025-01-26T23:14:00.917Z"
   },
   {
    "duration": 9,
    "start_time": "2025-01-26T23:14:00.923Z"
   },
   {
    "duration": 5,
    "start_time": "2025-01-26T23:14:00.933Z"
   },
   {
    "duration": 14,
    "start_time": "2025-01-26T23:14:00.939Z"
   },
   {
    "duration": 4,
    "start_time": "2025-01-26T23:14:00.955Z"
   },
   {
    "duration": 53,
    "start_time": "2025-01-26T23:14:00.960Z"
   },
   {
    "duration": 3,
    "start_time": "2025-01-26T23:14:01.014Z"
   },
   {
    "duration": 8,
    "start_time": "2025-01-26T23:14:01.022Z"
   },
   {
    "duration": 4,
    "start_time": "2025-01-26T23:14:01.031Z"
   },
   {
    "duration": 3,
    "start_time": "2025-01-26T23:14:01.037Z"
   },
   {
    "duration": 3,
    "start_time": "2025-01-26T23:14:01.041Z"
   },
   {
    "duration": 5,
    "start_time": "2025-01-26T23:14:01.046Z"
   },
   {
    "duration": 5,
    "start_time": "2025-01-26T23:14:01.052Z"
   },
   {
    "duration": 76,
    "start_time": "2025-01-26T23:14:01.059Z"
   },
   {
    "duration": 76,
    "start_time": "2025-01-26T23:14:01.137Z"
   },
   {
    "duration": 5,
    "start_time": "2025-01-26T23:14:01.215Z"
   },
   {
    "duration": 5,
    "start_time": "2025-01-26T23:14:01.222Z"
   },
   {
    "duration": 4,
    "start_time": "2025-01-26T23:14:01.229Z"
   },
   {
    "duration": 276,
    "start_time": "2025-01-26T23:14:01.236Z"
   },
   {
    "duration": 5,
    "start_time": "2025-01-26T23:14:01.514Z"
   },
   {
    "duration": 19,
    "start_time": "2025-01-26T23:14:01.522Z"
   },
   {
    "duration": 68,
    "start_time": "2025-01-26T23:14:01.543Z"
   },
   {
    "duration": 1016,
    "start_time": "2025-01-26T23:14:01.613Z"
   },
   {
    "duration": 1331,
    "start_time": "2025-01-26T23:14:02.630Z"
   },
   {
    "duration": 3478,
    "start_time": "2025-01-26T23:14:03.963Z"
   },
   {
    "duration": 18,
    "start_time": "2025-01-26T23:14:07.443Z"
   },
   {
    "duration": 61,
    "start_time": "2025-01-26T23:14:07.463Z"
   },
   {
    "duration": 907,
    "start_time": "2025-01-26T23:14:07.525Z"
   },
   {
    "duration": 284,
    "start_time": "2025-01-26T23:14:08.434Z"
   },
   {
    "duration": 196,
    "start_time": "2025-01-26T23:14:08.720Z"
   },
   {
    "duration": 3894,
    "start_time": "2025-01-26T23:14:08.918Z"
   },
   {
    "duration": 8,
    "start_time": "2025-01-26T23:32:00.501Z"
   },
   {
    "duration": 2837,
    "start_time": "2025-01-27T20:35:25.029Z"
   },
   {
    "duration": 26,
    "start_time": "2025-01-27T20:35:27.869Z"
   },
   {
    "duration": 20,
    "start_time": "2025-01-27T20:35:27.897Z"
   },
   {
    "duration": 15,
    "start_time": "2025-01-27T20:35:27.919Z"
   },
   {
    "duration": 7,
    "start_time": "2025-01-27T20:35:27.939Z"
   },
   {
    "duration": 6,
    "start_time": "2025-01-27T20:35:27.948Z"
   },
   {
    "duration": 6,
    "start_time": "2025-01-27T20:35:27.956Z"
   },
   {
    "duration": 11,
    "start_time": "2025-01-27T20:35:27.964Z"
   },
   {
    "duration": 321,
    "start_time": "2025-01-27T20:35:27.976Z"
   },
   {
    "duration": 0,
    "start_time": "2025-01-27T20:35:28.300Z"
   },
   {
    "duration": 0,
    "start_time": "2025-01-27T20:35:28.301Z"
   },
   {
    "duration": 0,
    "start_time": "2025-01-27T20:35:28.302Z"
   },
   {
    "duration": 0,
    "start_time": "2025-01-27T20:35:28.303Z"
   },
   {
    "duration": 0,
    "start_time": "2025-01-27T20:35:28.304Z"
   },
   {
    "duration": 0,
    "start_time": "2025-01-27T20:35:28.305Z"
   },
   {
    "duration": 0,
    "start_time": "2025-01-27T20:35:28.306Z"
   },
   {
    "duration": 0,
    "start_time": "2025-01-27T20:35:28.307Z"
   },
   {
    "duration": 0,
    "start_time": "2025-01-27T20:35:28.308Z"
   },
   {
    "duration": 0,
    "start_time": "2025-01-27T20:35:28.309Z"
   },
   {
    "duration": 0,
    "start_time": "2025-01-27T20:35:28.310Z"
   },
   {
    "duration": 0,
    "start_time": "2025-01-27T20:35:28.333Z"
   },
   {
    "duration": 0,
    "start_time": "2025-01-27T20:35:28.334Z"
   },
   {
    "duration": 0,
    "start_time": "2025-01-27T20:35:28.335Z"
   },
   {
    "duration": 0,
    "start_time": "2025-01-27T20:35:28.336Z"
   },
   {
    "duration": 0,
    "start_time": "2025-01-27T20:35:28.337Z"
   },
   {
    "duration": 0,
    "start_time": "2025-01-27T20:35:28.338Z"
   },
   {
    "duration": 0,
    "start_time": "2025-01-27T20:35:28.339Z"
   },
   {
    "duration": 0,
    "start_time": "2025-01-27T20:35:28.340Z"
   },
   {
    "duration": 0,
    "start_time": "2025-01-27T20:35:28.341Z"
   },
   {
    "duration": 0,
    "start_time": "2025-01-27T20:35:28.342Z"
   },
   {
    "duration": 0,
    "start_time": "2025-01-27T20:35:28.344Z"
   },
   {
    "duration": 0,
    "start_time": "2025-01-27T20:35:28.345Z"
   },
   {
    "duration": 0,
    "start_time": "2025-01-27T20:35:28.346Z"
   },
   {
    "duration": 0,
    "start_time": "2025-01-27T20:35:28.347Z"
   },
   {
    "duration": 0,
    "start_time": "2025-01-27T20:35:28.348Z"
   },
   {
    "duration": 0,
    "start_time": "2025-01-27T20:35:28.349Z"
   },
   {
    "duration": 0,
    "start_time": "2025-01-27T20:35:28.350Z"
   },
   {
    "duration": 0,
    "start_time": "2025-01-27T20:35:28.351Z"
   },
   {
    "duration": 0,
    "start_time": "2025-01-27T20:35:28.354Z"
   },
   {
    "duration": 0,
    "start_time": "2025-01-27T20:35:28.355Z"
   },
   {
    "duration": 871,
    "start_time": "2025-01-27T20:35:55.177Z"
   },
   {
    "duration": 276,
    "start_time": "2025-01-27T20:36:02.755Z"
   },
   {
    "duration": 191,
    "start_time": "2025-01-27T20:36:07.879Z"
   },
   {
    "duration": 5,
    "start_time": "2025-01-27T20:36:13.903Z"
   },
   {
    "duration": 16,
    "start_time": "2025-01-27T20:36:23.927Z"
   },
   {
    "duration": 4,
    "start_time": "2025-01-27T20:36:26.280Z"
   },
   {
    "duration": 17,
    "start_time": "2025-01-27T20:36:27.614Z"
   },
   {
    "duration": 3,
    "start_time": "2025-01-27T20:36:29.872Z"
   },
   {
    "duration": 8,
    "start_time": "2025-01-27T20:36:32.768Z"
   },
   {
    "duration": 5,
    "start_time": "2025-01-27T20:36:37.230Z"
   },
   {
    "duration": 3,
    "start_time": "2025-01-27T20:36:37.839Z"
   },
   {
    "duration": 3,
    "start_time": "2025-01-27T20:36:38.652Z"
   },
   {
    "duration": 5,
    "start_time": "2025-01-27T20:36:39.187Z"
   },
   {
    "duration": 6,
    "start_time": "2025-01-27T20:36:39.727Z"
   },
   {
    "duration": 5,
    "start_time": "2025-01-27T20:36:40.562Z"
   },
   {
    "duration": 17,
    "start_time": "2025-01-27T20:36:43.979Z"
   },
   {
    "duration": 3985,
    "start_time": "2025-01-27T20:40:56.067Z"
   },
   {
    "duration": 1060,
    "start_time": "2025-01-27T20:41:14.967Z"
   },
   {
    "duration": 16,
    "start_time": "2025-01-27T20:41:16.031Z"
   },
   {
    "duration": 19,
    "start_time": "2025-01-27T20:41:16.048Z"
   },
   {
    "duration": 9,
    "start_time": "2025-01-27T20:41:16.068Z"
   },
   {
    "duration": 3,
    "start_time": "2025-01-27T20:41:16.080Z"
   },
   {
    "duration": 6,
    "start_time": "2025-01-27T20:41:16.085Z"
   },
   {
    "duration": 4,
    "start_time": "2025-01-27T20:41:16.094Z"
   },
   {
    "duration": 40,
    "start_time": "2025-01-27T20:41:16.100Z"
   },
   {
    "duration": 909,
    "start_time": "2025-01-27T20:41:16.142Z"
   },
   {
    "duration": 278,
    "start_time": "2025-01-27T20:41:17.054Z"
   },
   {
    "duration": 205,
    "start_time": "2025-01-27T20:41:17.335Z"
   },
   {
    "duration": 337,
    "start_time": "2025-01-27T20:41:17.542Z"
   },
   {
    "duration": 0,
    "start_time": "2025-01-27T20:41:17.882Z"
   },
   {
    "duration": 0,
    "start_time": "2025-01-27T20:41:17.883Z"
   },
   {
    "duration": 0,
    "start_time": "2025-01-27T20:41:17.884Z"
   },
   {
    "duration": 0,
    "start_time": "2025-01-27T20:41:17.885Z"
   },
   {
    "duration": 0,
    "start_time": "2025-01-27T20:41:17.885Z"
   },
   {
    "duration": 0,
    "start_time": "2025-01-27T20:41:17.886Z"
   },
   {
    "duration": 0,
    "start_time": "2025-01-27T20:41:17.887Z"
   },
   {
    "duration": 0,
    "start_time": "2025-01-27T20:41:17.888Z"
   },
   {
    "duration": 0,
    "start_time": "2025-01-27T20:41:17.889Z"
   },
   {
    "duration": 0,
    "start_time": "2025-01-27T20:41:17.890Z"
   },
   {
    "duration": 0,
    "start_time": "2025-01-27T20:41:17.892Z"
   },
   {
    "duration": 0,
    "start_time": "2025-01-27T20:41:17.892Z"
   },
   {
    "duration": 0,
    "start_time": "2025-01-27T20:41:17.895Z"
   },
   {
    "duration": 0,
    "start_time": "2025-01-27T20:41:17.896Z"
   },
   {
    "duration": 0,
    "start_time": "2025-01-27T20:41:17.897Z"
   },
   {
    "duration": 0,
    "start_time": "2025-01-27T20:41:17.898Z"
   },
   {
    "duration": 0,
    "start_time": "2025-01-27T20:41:17.900Z"
   },
   {
    "duration": 0,
    "start_time": "2025-01-27T20:41:17.901Z"
   },
   {
    "duration": 0,
    "start_time": "2025-01-27T20:41:17.902Z"
   },
   {
    "duration": 0,
    "start_time": "2025-01-27T20:41:17.932Z"
   },
   {
    "duration": 0,
    "start_time": "2025-01-27T20:41:17.933Z"
   },
   {
    "duration": 0,
    "start_time": "2025-01-27T20:41:17.935Z"
   },
   {
    "duration": 0,
    "start_time": "2025-01-27T20:41:17.936Z"
   },
   {
    "duration": 0,
    "start_time": "2025-01-27T20:41:17.938Z"
   },
   {
    "duration": 0,
    "start_time": "2025-01-27T20:41:17.939Z"
   },
   {
    "duration": 0,
    "start_time": "2025-01-27T20:41:17.940Z"
   },
   {
    "duration": 0,
    "start_time": "2025-01-27T20:41:17.942Z"
   },
   {
    "duration": 0,
    "start_time": "2025-01-27T20:41:17.943Z"
   },
   {
    "duration": 1084,
    "start_time": "2025-01-27T20:41:39.029Z"
   },
   {
    "duration": 21,
    "start_time": "2025-01-27T20:41:40.116Z"
   },
   {
    "duration": 19,
    "start_time": "2025-01-27T20:41:40.139Z"
   },
   {
    "duration": 9,
    "start_time": "2025-01-27T20:41:40.160Z"
   },
   {
    "duration": 3,
    "start_time": "2025-01-27T20:41:40.172Z"
   },
   {
    "duration": 7,
    "start_time": "2025-01-27T20:41:40.177Z"
   },
   {
    "duration": 5,
    "start_time": "2025-01-27T20:41:40.186Z"
   },
   {
    "duration": 46,
    "start_time": "2025-01-27T20:41:40.192Z"
   },
   {
    "duration": 905,
    "start_time": "2025-01-27T20:41:40.239Z"
   },
   {
    "duration": 286,
    "start_time": "2025-01-27T20:41:41.147Z"
   },
   {
    "duration": 198,
    "start_time": "2025-01-27T20:41:41.435Z"
   },
   {
    "duration": 3921,
    "start_time": "2025-01-27T20:41:41.635Z"
   },
   {
    "duration": 5,
    "start_time": "2025-01-27T20:41:45.557Z"
   },
   {
    "duration": 15,
    "start_time": "2025-01-27T20:41:45.566Z"
   },
   {
    "duration": 3,
    "start_time": "2025-01-27T20:41:45.583Z"
   },
   {
    "duration": 18,
    "start_time": "2025-01-27T20:41:45.588Z"
   },
   {
    "duration": 3,
    "start_time": "2025-01-27T20:41:45.608Z"
   },
   {
    "duration": 23,
    "start_time": "2025-01-27T20:41:45.613Z"
   },
   {
    "duration": 5,
    "start_time": "2025-01-27T20:41:45.637Z"
   },
   {
    "duration": 3,
    "start_time": "2025-01-27T20:41:45.643Z"
   },
   {
    "duration": 3,
    "start_time": "2025-01-27T20:41:45.648Z"
   },
   {
    "duration": 4,
    "start_time": "2025-01-27T20:41:45.652Z"
   },
   {
    "duration": 4,
    "start_time": "2025-01-27T20:41:45.658Z"
   },
   {
    "duration": 5,
    "start_time": "2025-01-27T20:41:45.663Z"
   },
   {
    "duration": 275,
    "start_time": "2025-01-27T20:41:45.669Z"
   },
   {
    "duration": 0,
    "start_time": "2025-01-27T20:41:45.946Z"
   },
   {
    "duration": 0,
    "start_time": "2025-01-27T20:41:45.947Z"
   },
   {
    "duration": 0,
    "start_time": "2025-01-27T20:41:45.948Z"
   },
   {
    "duration": 0,
    "start_time": "2025-01-27T20:41:45.949Z"
   },
   {
    "duration": 0,
    "start_time": "2025-01-27T20:41:45.950Z"
   },
   {
    "duration": 0,
    "start_time": "2025-01-27T20:41:45.951Z"
   },
   {
    "duration": 0,
    "start_time": "2025-01-27T20:41:45.952Z"
   },
   {
    "duration": 0,
    "start_time": "2025-01-27T20:41:45.953Z"
   },
   {
    "duration": 0,
    "start_time": "2025-01-27T20:41:45.954Z"
   },
   {
    "duration": 0,
    "start_time": "2025-01-27T20:41:45.955Z"
   },
   {
    "duration": 0,
    "start_time": "2025-01-27T20:41:45.956Z"
   },
   {
    "duration": 0,
    "start_time": "2025-01-27T20:41:45.957Z"
   },
   {
    "duration": 0,
    "start_time": "2025-01-27T20:41:45.959Z"
   },
   {
    "duration": 0,
    "start_time": "2025-01-27T20:41:45.960Z"
   },
   {
    "duration": 0,
    "start_time": "2025-01-27T20:41:45.962Z"
   },
   {
    "duration": 342,
    "start_time": "2025-01-27T20:43:35.017Z"
   },
   {
    "duration": 33,
    "start_time": "2025-01-27T20:44:45.585Z"
   },
   {
    "duration": 13,
    "start_time": "2025-01-27T20:44:56.875Z"
   },
   {
    "duration": 4,
    "start_time": "2025-01-27T20:45:50.795Z"
   },
   {
    "duration": 8,
    "start_time": "2025-01-27T20:46:16.672Z"
   },
   {
    "duration": 4,
    "start_time": "2025-01-27T20:46:33.507Z"
   },
   {
    "duration": 31,
    "start_time": "2025-01-27T20:46:36.193Z"
   },
   {
    "duration": 4,
    "start_time": "2025-01-27T20:47:21.597Z"
   },
   {
    "duration": 29,
    "start_time": "2025-01-27T20:47:23.385Z"
   },
   {
    "duration": 4,
    "start_time": "2025-01-27T20:48:02.180Z"
   },
   {
    "duration": 13,
    "start_time": "2025-01-27T20:49:43.705Z"
   },
   {
    "duration": 5,
    "start_time": "2025-01-27T20:49:50.262Z"
   },
   {
    "duration": 4,
    "start_time": "2025-01-27T20:49:57.686Z"
   },
   {
    "duration": 8,
    "start_time": "2025-01-27T20:56:14.122Z"
   },
   {
    "duration": 13,
    "start_time": "2025-01-27T20:56:30.628Z"
   },
   {
    "duration": 1015,
    "start_time": "2025-01-27T21:09:43.102Z"
   },
   {
    "duration": 21,
    "start_time": "2025-01-27T21:09:44.120Z"
   },
   {
    "duration": 17,
    "start_time": "2025-01-27T21:09:44.142Z"
   },
   {
    "duration": 9,
    "start_time": "2025-01-27T21:09:44.161Z"
   },
   {
    "duration": 3,
    "start_time": "2025-01-27T21:09:44.172Z"
   },
   {
    "duration": 8,
    "start_time": "2025-01-27T21:09:44.177Z"
   },
   {
    "duration": 5,
    "start_time": "2025-01-27T21:09:44.186Z"
   },
   {
    "duration": 42,
    "start_time": "2025-01-27T21:09:44.192Z"
   },
   {
    "duration": 917,
    "start_time": "2025-01-27T21:09:44.235Z"
   },
   {
    "duration": 279,
    "start_time": "2025-01-27T21:09:45.153Z"
   },
   {
    "duration": 188,
    "start_time": "2025-01-27T21:09:45.434Z"
   },
   {
    "duration": 4008,
    "start_time": "2025-01-27T21:09:45.624Z"
   },
   {
    "duration": 5,
    "start_time": "2025-01-27T21:09:49.634Z"
   },
   {
    "duration": 16,
    "start_time": "2025-01-27T21:09:49.643Z"
   },
   {
    "duration": 3,
    "start_time": "2025-01-27T21:09:49.660Z"
   },
   {
    "duration": 17,
    "start_time": "2025-01-27T21:09:49.665Z"
   },
   {
    "duration": 3,
    "start_time": "2025-01-27T21:09:49.683Z"
   },
   {
    "duration": 44,
    "start_time": "2025-01-27T21:09:49.688Z"
   },
   {
    "duration": 4,
    "start_time": "2025-01-27T21:09:49.734Z"
   },
   {
    "duration": 4,
    "start_time": "2025-01-27T21:09:49.739Z"
   },
   {
    "duration": 3,
    "start_time": "2025-01-27T21:09:49.745Z"
   },
   {
    "duration": 4,
    "start_time": "2025-01-27T21:09:49.750Z"
   },
   {
    "duration": 9,
    "start_time": "2025-01-27T21:09:49.756Z"
   },
   {
    "duration": 6,
    "start_time": "2025-01-27T21:09:49.766Z"
   },
   {
    "duration": 268,
    "start_time": "2025-01-27T21:09:49.776Z"
   },
   {
    "duration": 0,
    "start_time": "2025-01-27T21:09:50.045Z"
   },
   {
    "duration": 0,
    "start_time": "2025-01-27T21:09:50.047Z"
   },
   {
    "duration": 0,
    "start_time": "2025-01-27T21:09:50.048Z"
   },
   {
    "duration": 0,
    "start_time": "2025-01-27T21:09:50.050Z"
   },
   {
    "duration": 0,
    "start_time": "2025-01-27T21:09:50.052Z"
   },
   {
    "duration": 0,
    "start_time": "2025-01-27T21:09:50.053Z"
   },
   {
    "duration": 0,
    "start_time": "2025-01-27T21:09:50.055Z"
   },
   {
    "duration": 0,
    "start_time": "2025-01-27T21:09:50.056Z"
   },
   {
    "duration": 0,
    "start_time": "2025-01-27T21:09:50.057Z"
   },
   {
    "duration": 0,
    "start_time": "2025-01-27T21:09:50.059Z"
   },
   {
    "duration": 0,
    "start_time": "2025-01-27T21:09:50.060Z"
   },
   {
    "duration": 0,
    "start_time": "2025-01-27T21:09:50.061Z"
   },
   {
    "duration": 0,
    "start_time": "2025-01-27T21:09:50.063Z"
   },
   {
    "duration": 0,
    "start_time": "2025-01-27T21:09:50.065Z"
   },
   {
    "duration": 0,
    "start_time": "2025-01-27T21:09:50.066Z"
   },
   {
    "duration": 2,
    "start_time": "2025-01-27T21:17:33.122Z"
   },
   {
    "duration": 5,
    "start_time": "2025-01-27T21:17:34.763Z"
   },
   {
    "duration": 20,
    "start_time": "2025-01-27T21:17:49.720Z"
   },
   {
    "duration": 3,
    "start_time": "2025-01-27T21:18:23.944Z"
   },
   {
    "duration": 22,
    "start_time": "2025-01-27T21:18:25.556Z"
   },
   {
    "duration": 3,
    "start_time": "2025-01-27T21:19:40.295Z"
   },
   {
    "duration": 22,
    "start_time": "2025-01-27T21:19:41.136Z"
   },
   {
    "duration": 72,
    "start_time": "2025-01-27T21:19:53.060Z"
   },
   {
    "duration": 3,
    "start_time": "2025-01-27T21:19:56.264Z"
   },
   {
    "duration": 4,
    "start_time": "2025-01-27T21:19:57.110Z"
   },
   {
    "duration": 4,
    "start_time": "2025-01-27T21:19:57.791Z"
   },
   {
    "duration": 4,
    "start_time": "2025-01-27T21:19:59.057Z"
   },
   {
    "duration": 15,
    "start_time": "2025-01-27T21:19:59.857Z"
   },
   {
    "duration": 4,
    "start_time": "2025-01-27T21:23:03.976Z"
   },
   {
    "duration": 55,
    "start_time": "2025-01-27T21:26:37.699Z"
   },
   {
    "duration": 1125,
    "start_time": "2025-01-27T21:27:02.420Z"
   },
   {
    "duration": 17,
    "start_time": "2025-01-27T21:27:03.547Z"
   },
   {
    "duration": 18,
    "start_time": "2025-01-27T21:27:03.566Z"
   },
   {
    "duration": 10,
    "start_time": "2025-01-27T21:27:03.586Z"
   },
   {
    "duration": 4,
    "start_time": "2025-01-27T21:27:03.598Z"
   },
   {
    "duration": 28,
    "start_time": "2025-01-27T21:27:03.604Z"
   },
   {
    "duration": 6,
    "start_time": "2025-01-27T21:27:03.634Z"
   },
   {
    "duration": 11,
    "start_time": "2025-01-27T21:27:03.641Z"
   },
   {
    "duration": 916,
    "start_time": "2025-01-27T21:27:03.654Z"
   },
   {
    "duration": 320,
    "start_time": "2025-01-27T21:27:04.575Z"
   },
   {
    "duration": 204,
    "start_time": "2025-01-27T21:27:04.897Z"
   },
   {
    "duration": 3957,
    "start_time": "2025-01-27T21:27:05.103Z"
   },
   {
    "duration": 5,
    "start_time": "2025-01-27T21:27:09.062Z"
   },
   {
    "duration": 15,
    "start_time": "2025-01-27T21:27:09.069Z"
   },
   {
    "duration": 3,
    "start_time": "2025-01-27T21:27:09.085Z"
   },
   {
    "duration": 17,
    "start_time": "2025-01-27T21:27:09.090Z"
   },
   {
    "duration": 3,
    "start_time": "2025-01-27T21:27:09.108Z"
   },
   {
    "duration": 8,
    "start_time": "2025-01-27T21:27:09.132Z"
   },
   {
    "duration": 4,
    "start_time": "2025-01-27T21:27:09.142Z"
   },
   {
    "duration": 3,
    "start_time": "2025-01-27T21:27:09.148Z"
   },
   {
    "duration": 4,
    "start_time": "2025-01-27T21:27:09.153Z"
   },
   {
    "duration": 5,
    "start_time": "2025-01-27T21:27:09.158Z"
   },
   {
    "duration": 4,
    "start_time": "2025-01-27T21:27:09.165Z"
   },
   {
    "duration": 5,
    "start_time": "2025-01-27T21:27:09.170Z"
   },
   {
    "duration": 3,
    "start_time": "2025-01-27T21:27:09.176Z"
   },
   {
    "duration": 69,
    "start_time": "2025-01-27T21:27:09.181Z"
   },
   {
    "duration": 83,
    "start_time": "2025-01-27T21:27:09.251Z"
   },
   {
    "duration": 7,
    "start_time": "2025-01-27T21:27:09.339Z"
   },
   {
    "duration": 4,
    "start_time": "2025-01-27T21:27:09.348Z"
   },
   {
    "duration": 79,
    "start_time": "2025-01-27T21:27:09.354Z"
   },
   {
    "duration": 5,
    "start_time": "2025-01-27T21:27:09.434Z"
   },
   {
    "duration": 102,
    "start_time": "2025-01-27T21:27:09.440Z"
   },
   {
    "duration": 5,
    "start_time": "2025-01-27T21:27:09.544Z"
   },
   {
    "duration": 95,
    "start_time": "2025-01-27T21:27:09.551Z"
   },
   {
    "duration": 5,
    "start_time": "2025-01-27T21:27:09.648Z"
   },
   {
    "duration": 778,
    "start_time": "2025-01-27T21:27:09.654Z"
   },
   {
    "duration": 1009,
    "start_time": "2025-01-27T21:27:10.434Z"
   },
   {
    "duration": 2635,
    "start_time": "2025-01-27T21:27:11.445Z"
   },
   {
    "duration": 19,
    "start_time": "2025-01-27T21:27:14.082Z"
   },
   {
    "duration": 49,
    "start_time": "2025-01-27T21:27:14.102Z"
   },
   {
    "duration": 1052,
    "start_time": "2025-01-27T21:29:42.690Z"
   },
   {
    "duration": 16,
    "start_time": "2025-01-27T21:29:43.744Z"
   },
   {
    "duration": 20,
    "start_time": "2025-01-27T21:29:43.763Z"
   },
   {
    "duration": 9,
    "start_time": "2025-01-27T21:29:43.785Z"
   },
   {
    "duration": 3,
    "start_time": "2025-01-27T21:29:43.796Z"
   },
   {
    "duration": 35,
    "start_time": "2025-01-27T21:29:43.801Z"
   },
   {
    "duration": 6,
    "start_time": "2025-01-27T21:29:43.837Z"
   },
   {
    "duration": 10,
    "start_time": "2025-01-27T21:29:43.844Z"
   },
   {
    "duration": 906,
    "start_time": "2025-01-27T21:29:43.856Z"
   },
   {
    "duration": 275,
    "start_time": "2025-01-27T21:29:44.764Z"
   },
   {
    "duration": 196,
    "start_time": "2025-01-27T21:29:45.040Z"
   },
   {
    "duration": 4054,
    "start_time": "2025-01-27T21:29:45.238Z"
   },
   {
    "duration": 5,
    "start_time": "2025-01-27T21:29:49.296Z"
   },
   {
    "duration": 15,
    "start_time": "2025-01-27T21:29:49.303Z"
   },
   {
    "duration": 11,
    "start_time": "2025-01-27T21:29:49.320Z"
   },
   {
    "duration": 18,
    "start_time": "2025-01-27T21:29:49.333Z"
   },
   {
    "duration": 3,
    "start_time": "2025-01-27T21:29:49.353Z"
   },
   {
    "duration": 8,
    "start_time": "2025-01-27T21:29:49.357Z"
   },
   {
    "duration": 5,
    "start_time": "2025-01-27T21:29:49.366Z"
   },
   {
    "duration": 3,
    "start_time": "2025-01-27T21:29:49.373Z"
   },
   {
    "duration": 3,
    "start_time": "2025-01-27T21:29:49.378Z"
   },
   {
    "duration": 49,
    "start_time": "2025-01-27T21:29:49.382Z"
   },
   {
    "duration": 5,
    "start_time": "2025-01-27T21:29:49.434Z"
   },
   {
    "duration": 4,
    "start_time": "2025-01-27T21:29:49.441Z"
   },
   {
    "duration": 2,
    "start_time": "2025-01-27T21:29:49.447Z"
   },
   {
    "duration": 23,
    "start_time": "2025-01-27T21:29:49.451Z"
   },
   {
    "duration": 67,
    "start_time": "2025-01-27T21:29:49.476Z"
   },
   {
    "duration": 4,
    "start_time": "2025-01-27T21:29:49.545Z"
   },
   {
    "duration": 82,
    "start_time": "2025-01-27T21:29:49.552Z"
   },
   {
    "duration": 4,
    "start_time": "2025-01-27T21:29:49.636Z"
   },
   {
    "duration": 4,
    "start_time": "2025-01-27T21:29:49.642Z"
   },
   {
    "duration": 102,
    "start_time": "2025-01-27T21:29:49.648Z"
   },
   {
    "duration": 80,
    "start_time": "2025-01-27T21:29:49.752Z"
   },
   {
    "duration": 22,
    "start_time": "2025-01-27T21:29:49.834Z"
   },
   {
    "duration": 3,
    "start_time": "2025-01-27T21:29:49.858Z"
   },
   {
    "duration": 752,
    "start_time": "2025-01-27T21:29:49.862Z"
   },
   {
    "duration": 1002,
    "start_time": "2025-01-27T21:29:50.616Z"
   },
   {
    "duration": 2609,
    "start_time": "2025-01-27T21:29:51.620Z"
   },
   {
    "duration": 18,
    "start_time": "2025-01-27T21:29:54.230Z"
   },
   {
    "duration": 14,
    "start_time": "2025-01-27T21:29:54.252Z"
   },
   {
    "duration": 731007,
    "start_time": "2025-01-27T21:31:38.212Z"
   },
   {
    "duration": 885,
    "start_time": "2025-01-27T21:45:20.822Z"
   },
   {
    "duration": 14,
    "start_time": "2025-01-27T21:45:29.407Z"
   },
   {
    "duration": 9,
    "start_time": "2025-01-27T21:45:33.820Z"
   },
   {
    "duration": 1091,
    "start_time": "2025-01-27T21:46:10.841Z"
   },
   {
    "duration": 17,
    "start_time": "2025-01-27T21:46:11.934Z"
   },
   {
    "duration": 22,
    "start_time": "2025-01-27T21:46:11.952Z"
   },
   {
    "duration": 9,
    "start_time": "2025-01-27T21:46:11.976Z"
   },
   {
    "duration": 4,
    "start_time": "2025-01-27T21:46:11.988Z"
   },
   {
    "duration": 6,
    "start_time": "2025-01-27T21:46:11.994Z"
   },
   {
    "duration": 30,
    "start_time": "2025-01-27T21:46:12.002Z"
   },
   {
    "duration": 10,
    "start_time": "2025-01-27T21:46:12.034Z"
   },
   {
    "duration": 910,
    "start_time": "2025-01-27T21:46:12.046Z"
   },
   {
    "duration": 298,
    "start_time": "2025-01-27T21:46:12.958Z"
   },
   {
    "duration": 206,
    "start_time": "2025-01-27T21:46:13.258Z"
   },
   {
    "duration": 3898,
    "start_time": "2025-01-27T21:46:13.466Z"
   },
   {
    "duration": 5,
    "start_time": "2025-01-27T21:46:17.365Z"
   },
   {
    "duration": 16,
    "start_time": "2025-01-27T21:46:17.374Z"
   },
   {
    "duration": 4,
    "start_time": "2025-01-27T21:46:17.391Z"
   },
   {
    "duration": 19,
    "start_time": "2025-01-27T21:46:17.396Z"
   },
   {
    "duration": 15,
    "start_time": "2025-01-27T21:46:17.416Z"
   },
   {
    "duration": 8,
    "start_time": "2025-01-27T21:46:17.433Z"
   },
   {
    "duration": 5,
    "start_time": "2025-01-27T21:46:17.442Z"
   },
   {
    "duration": 3,
    "start_time": "2025-01-27T21:46:17.449Z"
   },
   {
    "duration": 3,
    "start_time": "2025-01-27T21:46:17.454Z"
   },
   {
    "duration": 4,
    "start_time": "2025-01-27T21:46:17.459Z"
   },
   {
    "duration": 4,
    "start_time": "2025-01-27T21:46:17.465Z"
   },
   {
    "duration": 4,
    "start_time": "2025-01-27T21:46:17.471Z"
   },
   {
    "duration": 2,
    "start_time": "2025-01-27T21:46:17.477Z"
   },
   {
    "duration": 68,
    "start_time": "2025-01-27T21:46:17.481Z"
   },
   {
    "duration": 89,
    "start_time": "2025-01-27T21:46:17.551Z"
   },
   {
    "duration": 9,
    "start_time": "2025-01-27T21:46:17.642Z"
   },
   {
    "duration": 5,
    "start_time": "2025-01-27T21:46:17.653Z"
   },
   {
    "duration": 6,
    "start_time": "2025-01-27T21:46:17.660Z"
   },
   {
    "duration": 4,
    "start_time": "2025-01-27T21:46:17.732Z"
   },
   {
    "duration": 112,
    "start_time": "2025-01-27T21:46:17.738Z"
   },
   {
    "duration": 80,
    "start_time": "2025-01-27T21:46:17.852Z"
   },
   {
    "duration": 21,
    "start_time": "2025-01-27T21:46:17.934Z"
   },
   {
    "duration": 2,
    "start_time": "2025-01-27T21:46:17.957Z"
   },
   {
    "duration": 739,
    "start_time": "2025-01-27T21:46:17.961Z"
   },
   {
    "duration": 981,
    "start_time": "2025-01-27T21:46:18.702Z"
   },
   {
    "duration": 851,
    "start_time": "2025-01-27T21:46:19.685Z"
   },
   {
    "duration": 14,
    "start_time": "2025-01-27T21:46:20.538Z"
   },
   {
    "duration": 8,
    "start_time": "2025-01-27T21:46:20.554Z"
   },
   {
    "duration": 524,
    "start_time": "2025-01-27T21:54:32.584Z"
   },
   {
    "duration": 3,
    "start_time": "2025-01-27T21:58:09.126Z"
   },
   {
    "duration": 2,
    "start_time": "2025-01-27T22:07:48.693Z"
   },
   {
    "duration": 15,
    "start_time": "2025-01-27T22:07:50.860Z"
   },
   {
    "duration": 1067,
    "start_time": "2025-01-27T22:07:58.857Z"
   },
   {
    "duration": 16,
    "start_time": "2025-01-27T22:07:59.930Z"
   },
   {
    "duration": 17,
    "start_time": "2025-01-27T22:07:59.947Z"
   },
   {
    "duration": 8,
    "start_time": "2025-01-27T22:07:59.966Z"
   },
   {
    "duration": 4,
    "start_time": "2025-01-27T22:07:59.977Z"
   },
   {
    "duration": 7,
    "start_time": "2025-01-27T22:07:59.982Z"
   },
   {
    "duration": 5,
    "start_time": "2025-01-27T22:07:59.991Z"
   },
   {
    "duration": 42,
    "start_time": "2025-01-27T22:07:59.997Z"
   },
   {
    "duration": 920,
    "start_time": "2025-01-27T22:08:00.041Z"
   },
   {
    "duration": 285,
    "start_time": "2025-01-27T22:08:00.963Z"
   },
   {
    "duration": 206,
    "start_time": "2025-01-27T22:08:01.250Z"
   },
   {
    "duration": 3971,
    "start_time": "2025-01-27T22:08:01.457Z"
   },
   {
    "duration": 5,
    "start_time": "2025-01-27T22:08:05.430Z"
   },
   {
    "duration": 15,
    "start_time": "2025-01-27T22:08:05.439Z"
   },
   {
    "duration": 3,
    "start_time": "2025-01-27T22:08:05.455Z"
   },
   {
    "duration": 18,
    "start_time": "2025-01-27T22:08:05.460Z"
   },
   {
    "duration": 4,
    "start_time": "2025-01-27T22:08:05.479Z"
   },
   {
    "duration": 9,
    "start_time": "2025-01-27T22:08:05.485Z"
   },
   {
    "duration": 5,
    "start_time": "2025-01-27T22:08:05.496Z"
   },
   {
    "duration": 3,
    "start_time": "2025-01-27T22:08:05.533Z"
   },
   {
    "duration": 3,
    "start_time": "2025-01-27T22:08:05.539Z"
   },
   {
    "duration": 5,
    "start_time": "2025-01-27T22:08:05.544Z"
   },
   {
    "duration": 5,
    "start_time": "2025-01-27T22:08:05.551Z"
   },
   {
    "duration": 5,
    "start_time": "2025-01-27T22:08:05.558Z"
   },
   {
    "duration": 2,
    "start_time": "2025-01-27T22:08:05.565Z"
   },
   {
    "duration": 17,
    "start_time": "2025-01-27T22:08:05.570Z"
   },
   {
    "duration": 64,
    "start_time": "2025-01-27T22:08:05.588Z"
   },
   {
    "duration": 78,
    "start_time": "2025-01-27T22:08:05.654Z"
   },
   {
    "duration": 5,
    "start_time": "2025-01-27T22:08:05.735Z"
   },
   {
    "duration": 4,
    "start_time": "2025-01-27T22:08:05.742Z"
   },
   {
    "duration": 4,
    "start_time": "2025-01-27T22:08:05.748Z"
   },
   {
    "duration": 178,
    "start_time": "2025-01-27T22:08:05.754Z"
   },
   {
    "duration": 5,
    "start_time": "2025-01-27T22:08:05.934Z"
   },
   {
    "duration": 19,
    "start_time": "2025-01-27T22:08:05.941Z"
   },
   {
    "duration": 2,
    "start_time": "2025-01-27T22:08:05.962Z"
   },
   {
    "duration": 721,
    "start_time": "2025-01-27T22:08:06.031Z"
   },
   {
    "duration": 999,
    "start_time": "2025-01-27T22:08:06.753Z"
   },
   {
    "duration": 849,
    "start_time": "2025-01-27T22:08:07.754Z"
   },
   {
    "duration": 12,
    "start_time": "2025-01-27T22:08:08.607Z"
   },
   {
    "duration": 17,
    "start_time": "2025-01-27T22:08:08.621Z"
   },
   {
    "duration": 4,
    "start_time": "2025-01-27T22:10:27.581Z"
   },
   {
    "duration": 1198,
    "start_time": "2025-01-27T22:10:57.147Z"
   },
   {
    "duration": 19,
    "start_time": "2025-01-27T22:10:58.347Z"
   },
   {
    "duration": 20,
    "start_time": "2025-01-27T22:10:58.367Z"
   },
   {
    "duration": 9,
    "start_time": "2025-01-27T22:10:58.388Z"
   },
   {
    "duration": 4,
    "start_time": "2025-01-27T22:10:58.400Z"
   },
   {
    "duration": 32,
    "start_time": "2025-01-27T22:10:58.406Z"
   },
   {
    "duration": 5,
    "start_time": "2025-01-27T22:10:58.440Z"
   },
   {
    "duration": 9,
    "start_time": "2025-01-27T22:10:58.447Z"
   },
   {
    "duration": 1074,
    "start_time": "2025-01-27T22:10:58.458Z"
   },
   {
    "duration": 303,
    "start_time": "2025-01-27T22:10:59.534Z"
   },
   {
    "duration": 199,
    "start_time": "2025-01-27T22:10:59.839Z"
   },
   {
    "duration": 3984,
    "start_time": "2025-01-27T22:11:00.040Z"
   },
   {
    "duration": 6,
    "start_time": "2025-01-27T22:11:04.025Z"
   },
   {
    "duration": 16,
    "start_time": "2025-01-27T22:11:04.035Z"
   },
   {
    "duration": 3,
    "start_time": "2025-01-27T22:11:04.053Z"
   },
   {
    "duration": 18,
    "start_time": "2025-01-27T22:11:04.057Z"
   },
   {
    "duration": 3,
    "start_time": "2025-01-27T22:11:04.077Z"
   },
   {
    "duration": 7,
    "start_time": "2025-01-27T22:11:04.082Z"
   },
   {
    "duration": 5,
    "start_time": "2025-01-27T22:11:04.090Z"
   },
   {
    "duration": 36,
    "start_time": "2025-01-27T22:11:04.096Z"
   },
   {
    "duration": 4,
    "start_time": "2025-01-27T22:11:04.133Z"
   },
   {
    "duration": 5,
    "start_time": "2025-01-27T22:11:04.139Z"
   },
   {
    "duration": 5,
    "start_time": "2025-01-27T22:11:04.146Z"
   },
   {
    "duration": 5,
    "start_time": "2025-01-27T22:11:04.152Z"
   },
   {
    "duration": 2,
    "start_time": "2025-01-27T22:11:04.158Z"
   },
   {
    "duration": 16,
    "start_time": "2025-01-27T22:11:04.162Z"
   },
   {
    "duration": 67,
    "start_time": "2025-01-27T22:11:04.180Z"
   },
   {
    "duration": 3,
    "start_time": "2025-01-27T22:11:04.249Z"
   },
   {
    "duration": 77,
    "start_time": "2025-01-27T22:11:04.254Z"
   },
   {
    "duration": 6,
    "start_time": "2025-01-27T22:11:04.333Z"
   },
   {
    "duration": 4,
    "start_time": "2025-01-27T22:11:04.342Z"
   },
   {
    "duration": 101,
    "start_time": "2025-01-27T22:11:04.347Z"
   },
   {
    "duration": 5,
    "start_time": "2025-01-27T22:11:04.450Z"
   },
   {
    "duration": 100,
    "start_time": "2025-01-27T22:11:04.457Z"
   },
   {
    "duration": 2,
    "start_time": "2025-01-27T22:11:04.560Z"
   },
   {
    "duration": 735,
    "start_time": "2025-01-27T22:11:04.564Z"
   },
   {
    "duration": 993,
    "start_time": "2025-01-27T22:11:05.301Z"
   },
   {
    "duration": 859,
    "start_time": "2025-01-27T22:11:06.296Z"
   },
   {
    "duration": 13,
    "start_time": "2025-01-27T22:11:07.157Z"
   },
   {
    "duration": 10,
    "start_time": "2025-01-27T22:11:07.172Z"
   },
   {
    "duration": 95,
    "start_time": "2025-01-27T22:13:07.226Z"
   },
   {
    "duration": 239,
    "start_time": "2025-01-27T22:13:31.296Z"
   },
   {
    "duration": 1016,
    "start_time": "2025-01-27T22:13:36.512Z"
   },
   {
    "duration": 166,
    "start_time": "2025-01-27T22:17:47.161Z"
   },
   {
    "duration": 170,
    "start_time": "2025-01-27T22:18:01.902Z"
   },
   {
    "duration": 42,
    "start_time": "2025-01-27T22:18:12.327Z"
   },
   {
    "duration": 94,
    "start_time": "2025-01-27T22:19:10.712Z"
   },
   {
    "duration": 3,
    "start_time": "2025-01-27T22:20:05.498Z"
   },
   {
    "duration": 1086,
    "start_time": "2025-01-27T22:35:17.548Z"
   },
   {
    "duration": 15,
    "start_time": "2025-01-27T22:35:18.637Z"
   },
   {
    "duration": 19,
    "start_time": "2025-01-27T22:35:18.654Z"
   },
   {
    "duration": 9,
    "start_time": "2025-01-27T22:35:18.674Z"
   },
   {
    "duration": 3,
    "start_time": "2025-01-27T22:35:18.685Z"
   },
   {
    "duration": 7,
    "start_time": "2025-01-27T22:35:18.689Z"
   },
   {
    "duration": 5,
    "start_time": "2025-01-27T22:35:18.697Z"
   },
   {
    "duration": 11,
    "start_time": "2025-01-27T22:35:18.731Z"
   },
   {
    "duration": 913,
    "start_time": "2025-01-27T22:35:18.743Z"
   },
   {
    "duration": 309,
    "start_time": "2025-01-27T22:35:19.658Z"
   },
   {
    "duration": 203,
    "start_time": "2025-01-27T22:35:19.969Z"
   },
   {
    "duration": 3987,
    "start_time": "2025-01-27T22:35:20.173Z"
   },
   {
    "duration": 6,
    "start_time": "2025-01-27T22:35:24.162Z"
   },
   {
    "duration": 103,
    "start_time": "2025-01-27T22:35:24.172Z"
   },
   {
    "duration": 24,
    "start_time": "2025-01-27T22:35:24.276Z"
   },
   {
    "duration": 4,
    "start_time": "2025-01-27T22:35:24.302Z"
   },
   {
    "duration": 24,
    "start_time": "2025-01-27T22:35:24.308Z"
   },
   {
    "duration": 3,
    "start_time": "2025-01-27T22:35:24.334Z"
   },
   {
    "duration": 8,
    "start_time": "2025-01-27T22:35:24.339Z"
   },
   {
    "duration": 5,
    "start_time": "2025-01-27T22:35:24.349Z"
   },
   {
    "duration": 3,
    "start_time": "2025-01-27T22:35:24.355Z"
   },
   {
    "duration": 3,
    "start_time": "2025-01-27T22:35:24.360Z"
   },
   {
    "duration": 5,
    "start_time": "2025-01-27T22:35:24.365Z"
   },
   {
    "duration": 6,
    "start_time": "2025-01-27T22:35:24.371Z"
   },
   {
    "duration": 4,
    "start_time": "2025-01-27T22:35:24.379Z"
   },
   {
    "duration": 46,
    "start_time": "2025-01-27T22:35:24.385Z"
   },
   {
    "duration": 17,
    "start_time": "2025-01-27T22:35:24.433Z"
   },
   {
    "duration": 83,
    "start_time": "2025-01-27T22:35:24.452Z"
   },
   {
    "duration": 3,
    "start_time": "2025-01-27T22:35:24.537Z"
   },
   {
    "duration": 6,
    "start_time": "2025-01-27T22:35:24.542Z"
   },
   {
    "duration": 5,
    "start_time": "2025-01-27T22:35:24.549Z"
   },
   {
    "duration": 4,
    "start_time": "2025-01-27T22:35:24.555Z"
   },
   {
    "duration": 177,
    "start_time": "2025-01-27T22:35:24.561Z"
   },
   {
    "duration": 2,
    "start_time": "2025-01-27T22:35:24.740Z"
   },
   {
    "duration": 4,
    "start_time": "2025-01-27T22:35:24.744Z"
   },
   {
    "duration": 3,
    "start_time": "2025-01-27T22:35:24.749Z"
   },
   {
    "duration": 770,
    "start_time": "2025-01-27T22:35:24.753Z"
   },
   {
    "duration": 1006,
    "start_time": "2025-01-27T22:35:25.525Z"
   },
   {
    "duration": 834,
    "start_time": "2025-01-27T22:35:26.534Z"
   },
   {
    "duration": 13,
    "start_time": "2025-01-27T22:35:27.370Z"
   },
   {
    "duration": 8,
    "start_time": "2025-01-27T22:35:27.388Z"
   },
   {
    "duration": 161,
    "start_time": "2025-01-28T20:21:59.836Z"
   },
   {
    "duration": 2761,
    "start_time": "2025-01-28T20:23:14.234Z"
   },
   {
    "duration": 28,
    "start_time": "2025-01-28T20:23:16.997Z"
   },
   {
    "duration": 18,
    "start_time": "2025-01-28T20:23:17.028Z"
   },
   {
    "duration": 11,
    "start_time": "2025-01-28T20:23:17.048Z"
   },
   {
    "duration": 3,
    "start_time": "2025-01-28T20:23:17.061Z"
   },
   {
    "duration": 5,
    "start_time": "2025-01-28T20:23:17.066Z"
   },
   {
    "duration": 32,
    "start_time": "2025-01-28T20:23:17.073Z"
   },
   {
    "duration": 10,
    "start_time": "2025-01-28T20:23:17.106Z"
   },
   {
    "duration": 1004,
    "start_time": "2025-01-28T20:23:17.117Z"
   },
   {
    "duration": 268,
    "start_time": "2025-01-28T20:23:18.124Z"
   },
   {
    "duration": 198,
    "start_time": "2025-01-28T20:23:18.394Z"
   },
   {
    "duration": 4364,
    "start_time": "2025-01-28T20:23:18.593Z"
   },
   {
    "duration": 6,
    "start_time": "2025-01-28T20:23:22.964Z"
   },
   {
    "duration": 98,
    "start_time": "2025-01-28T20:23:22.972Z"
   },
   {
    "duration": 22,
    "start_time": "2025-01-28T20:23:23.072Z"
   },
   {
    "duration": 4,
    "start_time": "2025-01-28T20:23:23.110Z"
   },
   {
    "duration": 21,
    "start_time": "2025-01-28T20:23:23.116Z"
   },
   {
    "duration": 4,
    "start_time": "2025-01-28T20:23:23.139Z"
   },
   {
    "duration": 9,
    "start_time": "2025-01-28T20:23:23.145Z"
   },
   {
    "duration": 5,
    "start_time": "2025-01-28T20:23:23.156Z"
   },
   {
    "duration": 3,
    "start_time": "2025-01-28T20:23:23.163Z"
   },
   {
    "duration": 43,
    "start_time": "2025-01-28T20:23:23.168Z"
   },
   {
    "duration": 5,
    "start_time": "2025-01-28T20:23:23.213Z"
   },
   {
    "duration": 6,
    "start_time": "2025-01-28T20:23:23.220Z"
   },
   {
    "duration": 5,
    "start_time": "2025-01-28T20:23:23.228Z"
   },
   {
    "duration": 2,
    "start_time": "2025-01-28T20:23:23.236Z"
   },
   {
    "duration": 26,
    "start_time": "2025-01-28T20:23:23.240Z"
   },
   {
    "duration": 143,
    "start_time": "2025-01-28T20:23:23.268Z"
   },
   {
    "duration": 5,
    "start_time": "2025-01-28T20:23:23.414Z"
   },
   {
    "duration": 9,
    "start_time": "2025-01-28T20:23:23.422Z"
   },
   {
    "duration": 5,
    "start_time": "2025-01-28T20:23:23.433Z"
   },
   {
    "duration": 66,
    "start_time": "2025-01-28T20:23:23.440Z"
   },
   {
    "duration": 8,
    "start_time": "2025-01-28T20:23:23.508Z"
   },
   {
    "duration": 189,
    "start_time": "2025-01-28T20:23:23.517Z"
   },
   {
    "duration": 3,
    "start_time": "2025-01-28T20:23:23.708Z"
   },
   {
    "duration": 2,
    "start_time": "2025-01-28T20:23:23.713Z"
   },
   {
    "duration": 2,
    "start_time": "2025-01-28T20:23:23.717Z"
   },
   {
    "duration": 772,
    "start_time": "2025-01-28T20:23:23.721Z"
   },
   {
    "duration": 984,
    "start_time": "2025-01-28T20:23:24.495Z"
   },
   {
    "duration": 829,
    "start_time": "2025-01-28T20:23:25.484Z"
   },
   {
    "duration": 13,
    "start_time": "2025-01-28T20:23:26.315Z"
   },
   {
    "duration": 8,
    "start_time": "2025-01-28T20:23:26.330Z"
   },
   {
    "duration": 9,
    "start_time": "2025-01-28T20:30:18.310Z"
   },
   {
    "duration": 1024,
    "start_time": "2025-01-28T20:47:27.437Z"
   },
   {
    "duration": 16,
    "start_time": "2025-01-28T20:47:28.463Z"
   },
   {
    "duration": 27,
    "start_time": "2025-01-28T20:47:28.481Z"
   },
   {
    "duration": 9,
    "start_time": "2025-01-28T20:47:28.510Z"
   },
   {
    "duration": 3,
    "start_time": "2025-01-28T20:47:28.521Z"
   },
   {
    "duration": 6,
    "start_time": "2025-01-28T20:47:28.526Z"
   },
   {
    "duration": 6,
    "start_time": "2025-01-28T20:47:28.533Z"
   },
   {
    "duration": 10,
    "start_time": "2025-01-28T20:47:28.540Z"
   },
   {
    "duration": 970,
    "start_time": "2025-01-28T20:47:28.551Z"
   },
   {
    "duration": 289,
    "start_time": "2025-01-28T20:47:29.524Z"
   },
   {
    "duration": 197,
    "start_time": "2025-01-28T20:47:29.815Z"
   },
   {
    "duration": 4131,
    "start_time": "2025-01-28T20:47:30.014Z"
   },
   {
    "duration": 8,
    "start_time": "2025-01-28T20:47:34.147Z"
   },
   {
    "duration": 91,
    "start_time": "2025-01-28T20:47:34.157Z"
   },
   {
    "duration": 16,
    "start_time": "2025-01-28T20:47:34.250Z"
   },
   {
    "duration": 4,
    "start_time": "2025-01-28T20:47:34.268Z"
   },
   {
    "duration": 33,
    "start_time": "2025-01-28T20:47:34.273Z"
   },
   {
    "duration": 5,
    "start_time": "2025-01-28T20:47:34.308Z"
   },
   {
    "duration": 8,
    "start_time": "2025-01-28T20:47:34.315Z"
   },
   {
    "duration": 6,
    "start_time": "2025-01-28T20:47:34.324Z"
   },
   {
    "duration": 3,
    "start_time": "2025-01-28T20:47:34.331Z"
   },
   {
    "duration": 4,
    "start_time": "2025-01-28T20:47:34.335Z"
   },
   {
    "duration": 5,
    "start_time": "2025-01-28T20:47:34.340Z"
   },
   {
    "duration": 7,
    "start_time": "2025-01-28T20:47:34.347Z"
   },
   {
    "duration": 5,
    "start_time": "2025-01-28T20:47:34.355Z"
   },
   {
    "duration": 2,
    "start_time": "2025-01-28T20:47:34.362Z"
   },
   {
    "duration": 23,
    "start_time": "2025-01-28T20:47:34.406Z"
   },
   {
    "duration": 73,
    "start_time": "2025-01-28T20:47:34.433Z"
   },
   {
    "duration": 4,
    "start_time": "2025-01-28T20:47:34.508Z"
   },
   {
    "duration": 4,
    "start_time": "2025-01-28T20:47:34.515Z"
   },
   {
    "duration": 5,
    "start_time": "2025-01-28T20:47:34.521Z"
   },
   {
    "duration": 79,
    "start_time": "2025-01-28T20:47:34.527Z"
   },
   {
    "duration": 8,
    "start_time": "2025-01-28T20:47:34.608Z"
   },
   {
    "duration": 190,
    "start_time": "2025-01-28T20:47:34.617Z"
   },
   {
    "duration": 12,
    "start_time": "2025-01-28T20:47:34.810Z"
   },
   {
    "duration": 839,
    "start_time": "2025-01-28T20:47:34.824Z"
   },
   {
    "duration": 1013,
    "start_time": "2025-01-28T20:47:35.665Z"
   },
   {
    "duration": 840,
    "start_time": "2025-01-28T20:47:36.680Z"
   },
   {
    "duration": 12,
    "start_time": "2025-01-28T20:47:37.522Z"
   },
   {
    "duration": 9,
    "start_time": "2025-01-28T20:47:37.536Z"
   },
   {
    "duration": 5,
    "start_time": "2025-01-28T20:58:53.407Z"
   }
  ],
  "kernelspec": {
   "display_name": "Python 3 (ipykernel)",
   "language": "python",
   "name": "python3"
  },
  "language_info": {
   "codemirror_mode": {
    "name": "ipython",
    "version": 3
   },
   "file_extension": ".py",
   "mimetype": "text/x-python",
   "name": "python",
   "nbconvert_exporter": "python",
   "pygments_lexer": "ipython3",
   "version": "3.9.19"
  },
  "toc": {
   "base_numbering": 1,
   "nav_menu": {},
   "number_sections": true,
   "sideBar": true,
   "skip_h1_title": true,
   "title_cell": "Table of Contents",
   "title_sidebar": "Contents",
   "toc_cell": false,
   "toc_position": {},
   "toc_section_display": true,
   "toc_window_display": false
  }
 },
 "nbformat": 4,
 "nbformat_minor": 2
}
